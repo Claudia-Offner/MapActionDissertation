{
 "cells": [
  {
   "cell_type": "markdown",
   "source": [
    "# Model 3A: Food Classification Algorithm\n",
    "\n",
    "This file classifies food crisis data with flooding differences. FEWS_IPC is used as the predictor variable here.\n",
    "\n",
    "**Tasks**\n",
    "* Prepare data for ML modeling (no missing values, normalise & split into train/test sets, set binary classification)\n",
    "* Tune Random forest hyper-parameters with a grid search\n",
    "* Create final model & evaluate\n",
    "* Runtime: < 10 seconds (6 minutes with parameter search)"
   ],
   "metadata": {
    "collapsed": false
   }
  },
  {
   "cell_type": "code",
   "execution_count": 65,
   "outputs": [],
   "source": [
    "import os\n",
    "import geopandas as gpd\n",
    "import pandas as pd\n",
    "import numpy as np\n",
    "from sklearn.model_selection import train_test_split\n",
    "from sklearn.impute import SimpleImputer\n",
    "from sklearn.preprocessing import MinMaxScaler\n",
    "from sklearn.ensemble import RandomForestClassifier\n",
    "from sklearn.model_selection import GridSearchCV\n",
    "from sklearn import metrics\n",
    "import seaborn as sns\n",
    "import matplotlib.pyplot as plt\n",
    "import timeit\n",
    "os.getcwd()\n",
    "\n",
    "start = timeit.default_timer()"
   ],
   "metadata": {
    "collapsed": false,
    "pycharm": {
     "name": "#%%\n"
    }
   }
  },
  {
   "cell_type": "markdown",
   "source": [
    "## 1. Read Data"
   ],
   "metadata": {
    "collapsed": false
   }
  },
  {
   "cell_type": "code",
   "execution_count": 66,
   "outputs": [],
   "source": [
    "# Read FC data\n",
    "FE = pd.read_csv('Data/FC_flood_differenced_data.csv')"
   ],
   "metadata": {
    "collapsed": false,
    "pycharm": {
     "name": "#%%\n"
    }
   }
  },
  {
   "cell_type": "markdown",
   "source": [
    "## 2. Model Preprocessing"
   ],
   "metadata": {
    "collapsed": false,
    "pycharm": {
     "name": "#%% md\n"
    }
   }
  },
  {
   "cell_type": "code",
   "execution_count": 67,
   "outputs": [],
   "source": [
    "# Drop unnecessary columns (i.e. space/time no longer need because lags are accounted for)\n",
    "data = FE.drop(['country', 'admin_name', 'flood_date'], axis=1)\n"
   ],
   "metadata": {
    "collapsed": false,
    "pycharm": {
     "name": "#%%\n"
    }
   }
  },
  {
   "cell_type": "markdown",
   "source": [
    "**Addressing missing values**\n",
    "\n",
    " - If 25% of a columns data is NA, that column is removed\n",
    " - For all other missing values, the column mean is used - BUT need a better option!\n"
   ],
   "metadata": {
    "collapsed": false
   }
  },
  {
   "cell_type": "code",
   "execution_count": 68,
   "outputs": [
    {
     "name": "stdout",
     "output_type": "stream",
     "text": [
      "fews_ha         343\n",
      "spacelag         76\n",
      "fews_ipc          0\n",
      "cropland_pct      0\n",
      "timelag1          0\n",
      "dtype: int64\n"
     ]
    }
   ],
   "source": [
    "# Establish how much data is missing\n",
    "print(data.isnull().sum().sort_values(ascending=False).head())\n",
    "\n",
    "# Columns with 25% of values missing are dropped\n",
    "variables_na = []\n",
    "percent = len(data) * 0.25\n",
    "for i in data:\n",
    "    if data[i].isnull().sum() > percent:\n",
    "        str(i)\n",
    "        variables_na.append(i)\n",
    "data = data.drop(columns=variables_na)"
   ],
   "metadata": {
    "collapsed": false,
    "pycharm": {
     "name": "#%%\n"
    }
   }
  },
  {
   "cell_type": "code",
   "execution_count": 69,
   "outputs": [
    {
     "data": {
      "text/plain": "fews_ipc       0\nndvi_mean      0\nrain_mean      0\net_mean        0\nacled_count    0\ndtype: int64"
     },
     "execution_count": 69,
     "metadata": {},
     "output_type": "execute_result"
    }
   ],
   "source": [
    "# Impute the missing values using SimpleImputer in sklearn.impute\n",
    "imp = SimpleImputer(missing_values=np.nan, strategy='mean')\n",
    "imp.fit(data)\n",
    "\n",
    "data = pd.DataFrame(data=imp.transform(data), columns=data.columns)\n",
    "\n",
    "# Check if there is still missing data\n",
    "data.isnull().sum().sort_values(ascending=False).head()"
   ],
   "metadata": {
    "collapsed": false,
    "pycharm": {
     "name": "#%%\n"
    }
   }
  },
  {
   "cell_type": "markdown",
   "source": [
    "**Normalize the data set**\n",
    "- Scales each column to values between 0-1 to be better interpreted by the models"
   ],
   "metadata": {
    "collapsed": false
   }
  },
  {
   "cell_type": "code",
   "execution_count": 70,
   "outputs": [],
   "source": [
    "predictor = data['fews_ipc']\n",
    "data = data.drop(['fews_ipc'], axis=1)\n",
    "scaler = MinMaxScaler()\n",
    "data = gpd.GeoDataFrame(scaler.fit_transform(data), columns=data.columns, index=FE.index)\n",
    "data.head()\n",
    "data.describe()\n",
    "data['class'] = predictor"
   ],
   "metadata": {
    "collapsed": false,
    "pycharm": {
     "name": "#%%\n"
    }
   }
  },
  {
   "cell_type": "markdown",
   "source": [
    "**Binary Classification**\n",
    "* There is no positive difference in FC as a result of flooding, so a binary classification\n",
    "will be set for 'no differnce' and 'negative differences'\n",
    "* Differences between classifications do not have enough variance to apply regression.\n",
    "* The classes will be rounded so that classification can be performed.\n",
    "* FEWS_IPC will be coded as 0 if there is no difference in food security\n",
    "before and after an event and 1 if there are differences"
   ],
   "metadata": {
    "collapsed": false
   }
  },
  {
   "cell_type": "code",
   "execution_count": 71,
   "outputs": [],
   "source": [
    "data['class'] = data['class'].apply(np.ceil) # round classifications because differences are not enough to\n",
    "\n",
    "# Binary Classification\n",
    "data['class'] = [0 if x == 0 else 1 for x in data['class']]\n"
   ],
   "metadata": {
    "collapsed": false,
    "pycharm": {
     "name": "#%%\n"
    }
   }
  },
  {
   "cell_type": "markdown",
   "source": [
    "## 3. Random Forest Classification"
   ],
   "metadata": {
    "collapsed": false
   }
  },
  {
   "cell_type": "markdown",
   "source": [
    "**Randomly split data in training and testing sets**"
   ],
   "metadata": {
    "collapsed": false
   }
  },
  {
   "cell_type": "code",
   "execution_count": 72,
   "outputs": [],
   "source": [
    "# A. SPLIT TRAIN/TEST SETS\n",
    "# Random 70% split in train and test sets (time series is accounted for by lags)\n",
    "# split data into x & y\n",
    "y = data['class']\n",
    "x = data.drop(columns=['class'])\n",
    "x_train, x_test, y_train, y_test = train_test_split(x, y, test_size=0.30, random_state=42)"
   ],
   "metadata": {
    "collapsed": false,
    "pycharm": {
     "name": "#%%\n"
    }
   }
  },
  {
   "cell_type": "markdown",
   "source": [
    "**Tune hyper-parameters**\n",
    "* n_estimators = Number of trees in random forest\n",
    "* max_features = Number of features to consider at every split\n",
    "* max_depth = Maximum number of levels in tree\n",
    "* min_samples_leaf = Minimum number of samples required at each leaf node\n",
    "* min_samples_split = Minimum number of samples required to split a node\n",
    "* bootstrap = Method of selecting samples for training each tree\n",
    "\n",
    "Found: {'bootstrap': True,\n",
    " 'max_depth': 9,\n",
    " 'max_features': 'sqrt',\n",
    " 'min_samples_leaf': 2,\n",
    " 'min_samples_split': 5,\n",
    " 'n_estimators': 9}"
   ],
   "metadata": {
    "collapsed": false
   }
  },
  {
   "cell_type": "code",
   "execution_count": 73,
   "outputs": [],
   "source": [
    "# param_grid = {'n_estimators': [int(x) for x in np.linspace(start = 1, stop = 80, num = 10)],\n",
    "#                'max_depth': [int(x) for x in np.linspace(start = 1, stop = 80, num = 10)],\n",
    "#                'max_features': ['auto', 'sqrt'],\n",
    "#                'min_samples_leaf': [2, 5, 10],\n",
    "#                'min_samples_split': [2, 5, 10, 15],\n",
    "#                'bootstrap': [True, False]}\n",
    "#\n",
    "# # Create a based model\n",
    "# rf = RandomForestClassifier()\n",
    "#\n",
    "# # Instantiate the grid search model\n",
    "# rf_Grid = GridSearchCV(estimator = rf, param_grid = param_grid, cv = 3, verbose=2, n_jobs = 4)\n",
    "# rf_Grid.fit(x_train,y_train)\n",
    "#\n",
    "# # Get best parameters\n",
    "# rf_Grid.best_params_\n"
   ],
   "metadata": {
    "collapsed": false,
    "pycharm": {
     "name": "#%%\n"
    }
   }
  },
  {
   "cell_type": "markdown",
   "source": [
    "**Fit Optimised Model**"
   ],
   "metadata": {
    "collapsed": false
   }
  },
  {
   "cell_type": "code",
   "execution_count": 74,
   "outputs": [
    {
     "data": {
      "text/plain": "RandomForestClassifier(max_depth=9, max_features='sqrt', min_samples_leaf=2,\n                       min_samples_split=5, n_estimators=9)"
     },
     "execution_count": 74,
     "metadata": {},
     "output_type": "execute_result"
    }
   ],
   "source": [
    "# C. RESULTS\n",
    "# Fit optimised model\n",
    "clf=RandomForestClassifier(n_estimators=9, min_samples_leaf=2, min_samples_split=5,\n",
    "                           max_features='sqrt', max_depth=9, bootstrap=True)\n",
    "clf.fit(x_train,y_train)\n"
   ],
   "metadata": {
    "collapsed": false,
    "pycharm": {
     "name": "#%%\n"
    }
   }
  },
  {
   "cell_type": "markdown",
   "source": [
    "**Evaluate Model**\n",
    "* The R square of our RF model is 0.08355, which means that the percentage of explained variance is approx 8.355%"
   ],
   "metadata": {
    "collapsed": false
   }
  },
  {
   "cell_type": "code",
   "execution_count": 75,
   "outputs": [
    {
     "name": "stdout",
     "output_type": "stream",
     "text": [
      "Ensemble Train Model Accuracy(in %): 96.25\n",
      "Ensemble Test Model Accuracy(in %): 96.11650485436894\n"
     ]
    },
    {
     "data": {
      "text/plain": "<Figure size 432x288 with 2 Axes>",
      "image/png": "[encoded data removed]"
     },
     "metadata": {
      "needs_background": "light"
     },
     "output_type": "display_data"
    },
    {
     "data": {
      "text/plain": "<Figure size 80x160 with 0 Axes>"
     },
     "metadata": {},
     "output_type": "display_data"
    },
    {
     "data": {
      "text/plain": "<Figure size 432x288 with 2 Axes>",
      "image/png": "[encoded data removed]"
     },
     "metadata": {
      "needs_background": "light"
     },
     "output_type": "display_data"
    },
    {
     "data": {
      "text/plain": "<Figure size 80x160 with 0 Axes>"
     },
     "metadata": {},
     "output_type": "display_data"
    },
    {
     "data": {
      "text/plain": "<Figure size 432x288 with 0 Axes>"
     },
     "metadata": {},
     "output_type": "display_data"
    }
   ],
   "source": [
    "# For plotting confusion matrix\n",
    "def plot_confusion_matrix(train_pred, train, dom):\n",
    "    from sklearn.metrics import confusion_matrix\n",
    "    classes = {'Negative Difference': 1, 'No Difference': 0}\n",
    "    cf = confusion_matrix(train_pred,train)\n",
    "    sns.heatmap(cf,annot=True,yticklabels=classes,xticklabels=classes,cmap='Blues', fmt='g')\n",
    "    plt.yticks(rotation='horizontal')\n",
    "    plt.title(f'Food {dom} Confusion matrix', fontweight ='bold', fontsize= 14)\n",
    "    plt.tight_layout()\n",
    "    plt.figure(figsize=(1, 2), dpi=80)\n",
    "    plt.show()\n",
    "\n",
    "# Evaluate performance\n",
    "y_train_pred = clf.predict(x_train)\n",
    "y_test_pred = clf.predict(x_test)\n",
    "print(f'Ensemble Train Model Accuracy(in %): {metrics.accuracy_score(y_train_pred,y_train)*100}')\n",
    "print(f'Ensemble Test Model Accuracy(in %): {metrics.accuracy_score(y_test_pred,y_test)*100}')\n",
    "train = plot_confusion_matrix(y_train_pred,y_train,dom='Training')\n",
    "test = plot_confusion_matrix(y_test_pred,y_test,dom='Testing')"
   ],
   "metadata": {
    "collapsed": false,
    "pycharm": {
     "name": "#%%\n"
    }
   }
  },
  {
   "cell_type": "code",
   "execution_count": 76,
   "outputs": [
    {
     "name": "stdout",
     "output_type": "stream",
     "text": [
      "Running Time:  0.6767033999999512 seconds\n"
     ]
    },
    {
     "data": {
      "text/plain": "<Figure size 432x288 with 1 Axes>",
      "image/png": "[encoded data removed]"
     },
     "metadata": {
      "needs_background": "light"
     },
     "output_type": "display_data"
    }
   ],
   "source": [
    "# Evaluate variable importance\n",
    "\n",
    "# for name, importance in zip(x_test.columns, clf.feature_importances_):\n",
    "#     print(name, \"=\", importance)\n",
    "\n",
    "features = x_test.columns\n",
    "importances = clf.feature_importances_\n",
    "indices = np.argsort(importances)\n",
    "\n",
    "plt.title('Feature Importances')\n",
    "plt.barh(range(len(indices)), importances[indices], align='center') # color\n",
    "plt.yticks(range(len(indices)), [features[i] for i in indices])\n",
    "plt.xlabel('Relative Importance')\n",
    "plt.savefig('Images/importance_food.png')\n",
    "\n",
    "\n",
    "stop = timeit.default_timer()\n",
    "print('Running Time: ', stop - start, 'seconds')"
   ],
   "metadata": {
    "collapsed": false,
    "pycharm": {
     "name": "#%%\n"
    }
   }
  }
 ],
 "metadata": {
  "kernelspec": {
   "display_name": "Python 3",
   "language": "python",
   "name": "python3"
  },
  "language_info": {
   "codemirror_mode": {
    "name": "ipython",
    "version": 2
   },
   "file_extension": ".py",
   "mimetype": "text/x-python",
   "name": "python",
   "nbconvert_exporter": "python",
   "pygments_lexer": "ipython2",
   "version": "2.7.6"
  }
 },
 "nbformat": 4,
 "nbformat_minor": 0
}
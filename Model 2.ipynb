{
 "cells": [
  {
   "cell_type": "markdown",
   "metadata": {
    "collapsed": true,
    "pycharm": {
     "name": "#%% md\n"
    }
   },
   "source": [
    "## Model 2: Machine learning algorithm"
   ]
  },
  {
   "cell_type": "code",
   "execution_count": null,
   "outputs": [],
   "source": [
    "#### import libraries ####\n",
    "\n",
    "os.getcwd()"
   ],
   "metadata": {
    "collapsed": false,
    "pycharm": {
     "name": "#%%\n"
    }
   }
  },
  {
   "cell_type": "markdown",
   "source": [
    "## 1. Read Data"
   ],
   "metadata": {
    "collapsed": false,
    "pycharm": {
     "name": "#%% md\n"
    }
   }
  },
  {
   "cell_type": "code",
   "execution_count": null,
   "outputs": [],
   "source": [
    "#### READ DATA ####\n",
    "# Country shapefile (admin 2 level)\n",
    "# FEWS CSV file\n",
    "# SARS CSV file\n",
    "\n",
    "## !! Combine data !!"
   ],
   "metadata": {
    "collapsed": false,
    "pycharm": {
     "name": "#%%\n"
    }
   }
  },
  {
   "cell_type": "markdown",
   "source": [
    "## 2. Clean Data"
   ],
   "metadata": {
    "collapsed": false,
    "pycharm": {
     "name": "#%% md\n"
    }
   }
  },
  {
   "cell_type": "code",
   "execution_count": null,
   "outputs": [],
   "source": [
    "#### CLEAN DATA ####\n",
    "\n",
    "# Remove all predictors except fews_ipc\n",
    "# Remove anom variables to optimize independence\n",
    "# Remove unnecessary years (anything before 2010 and after 2019)\n",
    "# Extend NA's where applicable (FEWS IPC)\n",
    "# Round Target Feature Classifications\n",
    "# Replace strange characters in Admin Names\n",
    "# order alphabetically"
   ],
   "metadata": {
    "collapsed": false,
    "pycharm": {
     "name": "#%%\n"
    }
   }
  },
  {
   "cell_type": "code",
   "execution_count": null,
   "outputs": [],
   "source": [
    "#### ** Matrix Transformations ** ####\n",
    "# If needed\n"
   ],
   "metadata": {
    "collapsed": false,
    "pycharm": {
     "name": "#%%\n"
    }
   }
  },
  {
   "cell_type": "markdown",
   "source": [
    "## 3. Exploratory Analysis"
   ],
   "metadata": {
    "collapsed": false,
    "pycharm": {
     "name": "#%% md\n"
    }
   }
  },
  {
   "cell_type": "code",
   "execution_count": null,
   "outputs": [],
   "source": [
    "#### NON SPATIAL-TEMPORAL ANALYSIS ####\n",
    "\n",
    "# Look at data\n",
    "# Examine predictive feature (few_ipc & flooding) - barplots\n",
    "# Examine correlation between features and target variable - corplots"
   ],
   "metadata": {
    "collapsed": false,
    "pycharm": {
     "name": "#%%\n"
    }
   }
  },
  {
   "cell_type": "code",
   "execution_count": null,
   "outputs": [],
   "source": [
    "#### SPATIAL ANALYSIS ####\n",
    "\n",
    "# Spatial distribution over annual average\n",
    "# Check Spatial Dependency\n",
    "# --> Moran's Global I\n",
    "# --> Moran's Local I Clusters\n"
   ],
   "metadata": {
    "collapsed": false,
    "pycharm": {
     "name": "#%%\n"
    }
   }
  },
  {
   "cell_type": "code",
   "execution_count": null,
   "outputs": [],
   "source": [
    "#### TEMPORAL ANALYSIS ####\n",
    "\n",
    "# Look at the mean few_ipc across country over time (in years)\n",
    "# Look at the mean few_ipc across country over time (in months)\n",
    "# Order heat map by admin food security means to examine effects\n",
    "# Check Temporal Dependency\n",
    "# --> ACF\n",
    "# --> PACF"
   ],
   "metadata": {
    "collapsed": false,
    "pycharm": {
     "name": "#%%\n"
    }
   }
  },
  {
   "cell_type": "markdown",
   "source": [
    "## 4. Model Pre-processing"
   ],
   "metadata": {
    "collapsed": false,
    "pycharm": {
     "name": "#%% md\n"
    }
   }
  },
  {
   "cell_type": "code",
   "execution_count": null,
   "outputs": [],
   "source": [
    "# TIME LAGS (depends on temporal analysis)\n",
    "# i.e. Add lag of 6 for general time trends\n",
    "# i.e. Add lag of 12 for seasonal time trends\n",
    "# !! Make sure not to include month of interest in this !!"
   ],
   "metadata": {
    "collapsed": false,
    "pycharm": {
     "name": "#%%\n"
    }
   }
  },
  {
   "cell_type": "code",
   "execution_count": null,
   "outputs": [],
   "source": [
    "# SPACE LAG\n",
    "# A. Spatial weight matrix\n",
    "# Queen contiguity matrix (we consider observations that share a vertex to be neighbors)\n",
    "# B. Extract list of neighbors for each admin_name\n",
    "# C. For each list of neighbors (nest_list), at every time interval (df_m_matrix), take the neighbors average of fews_ipc\n",
    "# D. Store nested averages in final data frame"
   ],
   "metadata": {
    "collapsed": false,
    "pycharm": {
     "name": "#%%\n"
    }
   }
  },
  {
   "cell_type": "code",
   "execution_count": null,
   "outputs": [],
   "source": [
    "# RF PRE-PROCESSING\n",
    "# Normalize features\n",
    "# Set fews_ipc to binary classification - splitting on third quartile (depends on exploratory analysis)\n",
    "# Omit NA values\n",
    "# Remove unnecessary features (spatial and temporal not needed now that we have lags)"
   ],
   "metadata": {
    "collapsed": false,
    "pycharm": {
     "name": "#%%\n"
    }
   }
  },
  {
   "cell_type": "markdown",
   "source": [
    "## 5. Random Forest Classification"
   ],
   "metadata": {
    "collapsed": false,
    "pycharm": {
     "name": "#%% md\n"
    }
   }
  },
  {
   "cell_type": "code",
   "execution_count": null,
   "outputs": [],
   "source": [
    "#### RANDOM FOREST CLASSIFICATION ####\n",
    "\n",
    "# A. SPLIT TRAIN/TEST SETS\n",
    "# Random 70% split in train and test sets (time series is accounted for by lags)"
   ],
   "metadata": {
    "collapsed": false,
    "pycharm": {
     "name": "#%%\n"
    }
   }
  },
  {
   "cell_type": "code",
   "execution_count": null,
   "outputs": [],
   "source": [
    "# B. OPTIMISE MODEL HYPERPARAMETERS\n",
    "# Hyperparameter grid search (112)\n"
   ],
   "metadata": {
    "collapsed": false,
    "pycharm": {
     "name": "#%%\n"
    }
   }
  },
  {
   "cell_type": "code",
   "execution_count": null,
   "outputs": [],
   "source": [
    "# C. RESULTS\n",
    "# Fit optimised model\n",
    "# Evaluate model\n",
    "# Plot Confusion matrix\n",
    "# Plot Variable importance\n",
    "# Make prediction\n",
    "# Calculate accuracy score"
   ],
   "metadata": {
    "collapsed": false,
    "pycharm": {
     "name": "#%%\n"
    }
   }
  }
 ],
 "metadata": {
  "kernelspec": {
   "display_name": "Python 3",
   "language": "python",
   "name": "python3"
  },
  "language_info": {
   "codemirror_mode": {
    "name": "ipython",
    "version": 2
   },
   "file_extension": ".py",
   "mimetype": "text/x-python",
   "name": "python",
   "nbconvert_exporter": "python",
   "pygments_lexer": "ipython2",
   "version": "2.7.6"
  }
 },
 "nbformat": 4,
 "nbformat_minor": 0
}
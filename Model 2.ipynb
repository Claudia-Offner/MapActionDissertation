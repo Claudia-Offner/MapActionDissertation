{
 "cells": [
  {
   "cell_type": "markdown",
   "metadata": {
    "collapsed": true,
    "pycharm": {
     "name": "#%% md\n"
    }
   },
   "source": [
    "## Model 2: Machine learning algorithm"
   ]
  },
  {
   "cell_type": "code",
   "execution_count": 247,
   "outputs": [
    {
     "data": {
      "text/plain": "'C:\\\\Users\\\\offne\\\\Documents\\\\Dissertation'"
     },
     "execution_count": 247,
     "metadata": {},
     "output_type": "execute_result"
    }
   ],
   "source": [
    "#### import libraries ####\n",
    "import os\n",
    "import pandas as pd\n",
    "import geopandas as gpd\n",
    "from geopandas import GeoDataFrame\n",
    "\n",
    "os.getcwd()"
   ],
   "metadata": {
    "collapsed": false,
    "pycharm": {
     "name": "#%%\n"
    }
   }
  },
  {
   "cell_type": "markdown",
   "source": [
    "## 1. Read & Clean Data"
   ],
   "metadata": {
    "collapsed": false,
    "pycharm": {
     "name": "#%% md\n"
    }
   }
  },
  {
   "cell_type": "code",
   "execution_count": 248,
   "outputs": [
    {
     "data": {
      "text/plain": "<AxesSubplot:>"
     },
     "execution_count": 248,
     "metadata": {},
     "output_type": "execute_result"
    },
    {
     "data": {
      "text/plain": "<Figure size 432x288 with 1 Axes>",
      "image/png": "[encoded data removed]"
     },
     "metadata": {
      "needs_background": "light"
     },
     "output_type": "display_data"
    }
   ],
   "source": [
    "#### READ DATA ####\n",
    "# Country shapefile (admin 2 level)\n",
    "shape = gpd.read_file('Data\\Shape\\gadm36_BFA_2.shp')\n",
    "shape = shape.drop(['GID_0', 'NAME_0', 'GID_1', 'NAME_1', 'NL_NAME_1', 'GID_2', 'VARNAME_2', 'NL_NAME_2', 'TYPE_2', 'ENGTYPE_2', 'CC_2', 'HASC_2'], axis=1)\n",
    "shape.rename(columns = {'NAME_2':'admin_name'}, inplace = True)\n",
    "shape['admin_name'] = shape['admin_name'].astype(str)\n",
    "shape.plot()\n"
   ],
   "metadata": {
    "collapsed": false,
    "pycharm": {
     "name": "#%%\n"
    }
   }
  },
  {
   "cell_type": "code",
   "execution_count": 249,
   "outputs": [
    {
     "data": {
      "text/plain": "        country  admin_code admin_name     centx     centy year_month  year  \\\n0  Burkina Faso         303    Sissili -2.230901  11.30098    2010_10  2010   \n1  Burkina Faso         303    Sissili -2.230901  11.30098    2010_12  2010   \n2  Burkina Faso         304       Ziro -1.891305  11.63369    2010_10  2010   \n3  Burkina Faso         304       Ziro -1.891305  11.63369    2010_12  2010   \n4  Burkina Faso         305     Bazega -1.454375  11.96002    2010_10  2010   \n\n   month  fews_ipc  ndvi_mean  ...  acled_fatalities  p_staple_food      area  \\\n0     10       1.0   0.598591  ...                 0       0.928518  6982.097   \n1     12       1.0   0.327079  ...                 0       0.909422  6982.097   \n2     10       1.0   0.566632  ...                 0       0.943323  5329.469   \n3     12       1.0   0.327571  ...                 0       0.909559  5329.469   \n4     10       1.0   0.487598  ...                 0       0.987164  3974.334   \n\n   cropland_pct       pop  ruggedness_mean  pasture_pct    datetime   State  \\\n0      76.98947  226065.0         6643.468          0.0  2010-10-01  Before   \n1      76.98947  226065.0         6643.468          0.0  2010-12-01   After   \n2      79.14671  204065.0         4822.304          0.0  2010-10-01  Before   \n3      79.14671  204065.0         4822.304          0.0  2010-12-01   After   \n4      82.02844  246819.0         9551.282          0.0  2010-10-01  Before   \n\n            Flood Date  \n0  2010-11-05 00:00:00  \n1  2010-11-05 00:00:00  \n2  2010-11-05 00:00:00  \n3  2010-11-05 00:00:00  \n4  2010-11-05 00:00:00  \n\n[5 rows x 23 columns]",
      "text/html": "<div>\n<style scoped>\n    .dataframe tbody tr th:only-of-type {\n        vertical-align: middle;\n    }\n\n    .dataframe tbody tr th {\n        vertical-align: top;\n    }\n\n    .dataframe thead th {\n        text-align: right;\n    }\n</style>\n<table border=\"1\" class=\"dataframe\">\n  <thead>\n    <tr style=\"text-align: right;\">\n      <th></th>\n      <th>country</th>\n      <th>admin_code</th>\n      <th>admin_name</th>\n      <th>centx</th>\n      <th>centy</th>\n      <th>year_month</th>\n      <th>year</th>\n      <th>month</th>\n      <th>fews_ipc</th>\n      <th>ndvi_mean</th>\n      <th>...</th>\n      <th>acled_fatalities</th>\n      <th>p_staple_food</th>\n      <th>area</th>\n      <th>cropland_pct</th>\n      <th>pop</th>\n      <th>ruggedness_mean</th>\n      <th>pasture_pct</th>\n      <th>datetime</th>\n      <th>State</th>\n      <th>Flood Date</th>\n    </tr>\n  </thead>\n  <tbody>\n    <tr>\n      <th>0</th>\n      <td>Burkina Faso</td>\n      <td>303</td>\n      <td>Sissili</td>\n      <td>-2.230901</td>\n      <td>11.30098</td>\n      <td>2010_10</td>\n      <td>2010</td>\n      <td>10</td>\n      <td>1.0</td>\n      <td>0.598591</td>\n      <td>...</td>\n      <td>0</td>\n      <td>0.928518</td>\n      <td>6982.097</td>\n      <td>76.98947</td>\n      <td>226065.0</td>\n      <td>6643.468</td>\n      <td>0.0</td>\n      <td>2010-10-01</td>\n      <td>Before</td>\n      <td>2010-11-05 00:00:00</td>\n    </tr>\n    <tr>\n      <th>1</th>\n      <td>Burkina Faso</td>\n      <td>303</td>\n      <td>Sissili</td>\n      <td>-2.230901</td>\n      <td>11.30098</td>\n      <td>2010_12</td>\n      <td>2010</td>\n      <td>12</td>\n      <td>1.0</td>\n      <td>0.327079</td>\n      <td>...</td>\n      <td>0</td>\n      <td>0.909422</td>\n      <td>6982.097</td>\n      <td>76.98947</td>\n      <td>226065.0</td>\n      <td>6643.468</td>\n      <td>0.0</td>\n      <td>2010-12-01</td>\n      <td>After</td>\n      <td>2010-11-05 00:00:00</td>\n    </tr>\n    <tr>\n      <th>2</th>\n      <td>Burkina Faso</td>\n      <td>304</td>\n      <td>Ziro</td>\n      <td>-1.891305</td>\n      <td>11.63369</td>\n      <td>2010_10</td>\n      <td>2010</td>\n      <td>10</td>\n      <td>1.0</td>\n      <td>0.566632</td>\n      <td>...</td>\n      <td>0</td>\n      <td>0.943323</td>\n      <td>5329.469</td>\n      <td>79.14671</td>\n      <td>204065.0</td>\n      <td>4822.304</td>\n      <td>0.0</td>\n      <td>2010-10-01</td>\n      <td>Before</td>\n      <td>2010-11-05 00:00:00</td>\n    </tr>\n    <tr>\n      <th>3</th>\n      <td>Burkina Faso</td>\n      <td>304</td>\n      <td>Ziro</td>\n      <td>-1.891305</td>\n      <td>11.63369</td>\n      <td>2010_12</td>\n      <td>2010</td>\n      <td>12</td>\n      <td>1.0</td>\n      <td>0.327571</td>\n      <td>...</td>\n      <td>0</td>\n      <td>0.909559</td>\n      <td>5329.469</td>\n      <td>79.14671</td>\n      <td>204065.0</td>\n      <td>4822.304</td>\n      <td>0.0</td>\n      <td>2010-12-01</td>\n      <td>After</td>\n      <td>2010-11-05 00:00:00</td>\n    </tr>\n    <tr>\n      <th>4</th>\n      <td>Burkina Faso</td>\n      <td>305</td>\n      <td>Bazega</td>\n      <td>-1.454375</td>\n      <td>11.96002</td>\n      <td>2010_10</td>\n      <td>2010</td>\n      <td>10</td>\n      <td>1.0</td>\n      <td>0.487598</td>\n      <td>...</td>\n      <td>0</td>\n      <td>0.987164</td>\n      <td>3974.334</td>\n      <td>82.02844</td>\n      <td>246819.0</td>\n      <td>9551.282</td>\n      <td>0.0</td>\n      <td>2010-10-01</td>\n      <td>Before</td>\n      <td>2010-11-05 00:00:00</td>\n    </tr>\n  </tbody>\n</table>\n<p>5 rows × 23 columns</p>\n</div>"
     },
     "execution_count": 249,
     "metadata": {},
     "output_type": "execute_result"
    }
   ],
   "source": [
    "# FEWS CSV file\n",
    "FS = pd.read_csv('Data\\FS_before_after_data.csv')\n",
    "FS.head()\n",
    "# SARS CSV file"
   ],
   "metadata": {
    "collapsed": false,
    "pycharm": {
     "name": "#%%\n"
    }
   }
  },
  {
   "cell_type": "code",
   "execution_count": 250,
   "outputs": [
    {
     "name": "stdout",
     "output_type": "stream",
     "text": [
      "['Bale', 'Kenedougou', 'Leraba', 'Sanguie', 'Kourweogo', 'Passore', 'Comoe', 'Koulpelogo', 'Bazega', 'Seno', 'Komonjdjari', 'Boulkiemde', 'Zoundweogo']\n",
      "['Sanguié', 'Komandjoari', 'Kourwéogo', 'Zoundwéogo', 'Bazèga', 'Balé', 'Kénédougou', 'Séno', 'Passoré', 'Léraba', 'Koulpélogo', 'Comoé', 'Boulkiemdé']\n"
     ]
    }
   ],
   "source": [
    "# Check strings and fix differences\n",
    "l = set(FS['admin_name'].tolist())\n",
    "x = set(shape['admin_name'].tolist())\n",
    "print(list(l - x))\n",
    "print(list(x - l))\n",
    "shape['admin_name'] = shape['admin_name'].str.replace('é','e')\n",
    "shape['admin_name'] = shape['admin_name'].str.replace('è','e')\n",
    "shape['admin_name'] = shape['admin_name'].str.replace('Komandjoari','Komonjdjari')"
   ],
   "metadata": {
    "collapsed": false,
    "pycharm": {
     "name": "#%%\n"
    }
   }
  },
  {
   "cell_type": "code",
   "execution_count": 274,
   "outputs": [
    {
     "name": "stdout",
     "output_type": "stream",
     "text": [
      "['admin_name', 'geometry', 'country', 'admin_code', 'centx', 'centy', 'year_month', 'year', 'month', 'fews_ipc', 'ndvi_mean', 'rain_mean', 'et_mean', 'acled_count', 'acled_fatalities', 'p_staple_food', 'area', 'cropland_pct', 'pop', 'ruggedness_mean', 'pasture_pct', 'datetime', 'State', 'Flood Date']\n"
     ]
    }
   ],
   "source": [
    "# Merge data on admin_name\n",
    "df = pd.merge(shape, FS, on=\"admin_name\")\n",
    "print(list(df.columns))\n",
    "# Reorder columns\n",
    "df = df[['country', 'admin_code', 'admin_name', 'centx', 'centy', 'Flood Date', 'State', 'datetime', 'year_month', 'year', 'month', 'fews_ipc', 'ndvi_mean', 'rain_mean', 'et_mean', 'acled_count', 'acled_fatalities', 'p_staple_food', 'area', 'cropland_pct', 'pop', 'ruggedness_mean', 'pasture_pct', 'geometry']]\n",
    "df = df.sort_values('admin_name')\n",
    "\n"
   ],
   "metadata": {
    "collapsed": false,
    "pycharm": {
     "name": "#%%\n"
    }
   }
  },
  {
   "cell_type": "code",
   "execution_count": 269,
   "outputs": [
    {
     "name": "stdout",
     "output_type": "stream",
     "text": [
      "['country', 'admin_code', 'admin_name', 'Flood Date', 'State', 'datetime', 'centx', 'centy', 'year_month', 'year', 'month', 'fews_ipc', 'ndvi_mean', 'rain_mean', 'et_mean', 'acled_count', 'acled_fatalities', 'p_staple_food', 'area', 'cropland_pct', 'pop', 'ruggedness_mean', 'pasture_pct', 'geometry']\n"
     ]
    }
   ],
   "source": [
    "#### ** Matrix Transformations ** ####\n",
    "# If needed\n"
   ],
   "metadata": {
    "collapsed": false,
    "pycharm": {
     "name": "#%%\n"
    }
   }
  },
  {
   "cell_type": "markdown",
   "source": [
    "## 3. Exploratory Analysis"
   ],
   "metadata": {
    "collapsed": false,
    "pycharm": {
     "name": "#%% md\n"
    }
   }
  },
  {
   "cell_type": "code",
   "execution_count": 254,
   "outputs": [],
   "source": [
    "#### NON SPATIAL-TEMPORAL ANALYSIS ####\n",
    "\n",
    "# Look at data\n",
    "# Examine predictive feature (few_ipc & flooding) - barplots\n",
    "# Examine correlation between features and target variable - corplots"
   ],
   "metadata": {
    "collapsed": false,
    "pycharm": {
     "name": "#%%\n"
    }
   }
  },
  {
   "cell_type": "code",
   "execution_count": 255,
   "outputs": [],
   "source": [
    "#### SPATIAL ANALYSIS ####\n",
    "\n",
    "# Spatial distribution over annual average\n",
    "# Check Spatial Dependency\n",
    "# --> Moran's Global I\n",
    "# --> Moran's Local I Clusters\n"
   ],
   "metadata": {
    "collapsed": false,
    "pycharm": {
     "name": "#%%\n"
    }
   }
  },
  {
   "cell_type": "code",
   "execution_count": 256,
   "outputs": [],
   "source": [
    "#### TEMPORAL ANALYSIS ####\n",
    "\n",
    "# Look at the mean few_ipc across country over time (in years)\n",
    "# Look at the mean few_ipc across country over time (in months)\n",
    "# Order heat map by admin food security means to examine effects\n",
    "# Check Temporal Dependency\n",
    "# --> ACF\n",
    "# --> PACF"
   ],
   "metadata": {
    "collapsed": false,
    "pycharm": {
     "name": "#%%\n"
    }
   }
  },
  {
   "cell_type": "markdown",
   "source": [
    "## 4. Model Pre-processing"
   ],
   "metadata": {
    "collapsed": false,
    "pycharm": {
     "name": "#%% md\n"
    }
   }
  },
  {
   "cell_type": "code",
   "execution_count": 257,
   "outputs": [],
   "source": [
    "# TIME LAGS (depends on temporal analysis)\n",
    "# i.e. Add lag of 6 for general time trends\n",
    "# i.e. Add lag of 12 for seasonal time trends\n",
    "# !! Make sure not to include month of interest in this !!"
   ],
   "metadata": {
    "collapsed": false,
    "pycharm": {
     "name": "#%%\n"
    }
   }
  },
  {
   "cell_type": "code",
   "execution_count": 258,
   "outputs": [],
   "source": [
    "# SPACE LAG\n",
    "# A. Spatial weight matrix\n",
    "# Queen contiguity matrix (we consider observations that share a vertex to be neighbors)\n",
    "# B. Extract list of neighbors for each admin_name\n",
    "# C. For each list of neighbors (nest_list), at every time interval (df_m_matrix), take the neighbors average of fews_ipc\n",
    "# D. Store nested averages in final data frame"
   ],
   "metadata": {
    "collapsed": false,
    "pycharm": {
     "name": "#%%\n"
    }
   }
  },
  {
   "cell_type": "code",
   "execution_count": 259,
   "outputs": [],
   "source": [
    "# RF PRE-PROCESSING\n",
    "# Normalize features\n",
    "# Set fews_ipc to binary classification - splitting on third quartile (depends on exploratory analysis)\n",
    "# Omit NA values\n",
    "# Remove unnecessary features (spatial and temporal not needed now that we have lags)"
   ],
   "metadata": {
    "collapsed": false,
    "pycharm": {
     "name": "#%%\n"
    }
   }
  },
  {
   "cell_type": "markdown",
   "source": [
    "## 5. Random Forest Classification"
   ],
   "metadata": {
    "collapsed": false,
    "pycharm": {
     "name": "#%% md\n"
    }
   }
  },
  {
   "cell_type": "code",
   "execution_count": 260,
   "outputs": [],
   "source": [
    "#### RANDOM FOREST CLASSIFICATION ####\n",
    "\n",
    "# A. SPLIT TRAIN/TEST SETS\n",
    "# Random 70% split in train and test sets (time series is accounted for by lags)"
   ],
   "metadata": {
    "collapsed": false,
    "pycharm": {
     "name": "#%%\n"
    }
   }
  },
  {
   "cell_type": "code",
   "execution_count": 261,
   "outputs": [],
   "source": [
    "# B. OPTIMISE MODEL HYPERPARAMETERS\n",
    "# Hyperparameter grid search (112)\n"
   ],
   "metadata": {
    "collapsed": false,
    "pycharm": {
     "name": "#%%\n"
    }
   }
  },
  {
   "cell_type": "code",
   "execution_count": 262,
   "outputs": [],
   "source": [
    "# C. RESULTS\n",
    "# Fit optimised model\n",
    "# Evaluate model\n",
    "# Plot Confusion matrix\n",
    "# Plot Variable importance\n",
    "# Make prediction\n",
    "# Calculate accuracy score"
   ],
   "metadata": {
    "collapsed": false,
    "pycharm": {
     "name": "#%%\n"
    }
   }
  }
 ],
 "metadata": {
  "kernelspec": {
   "display_name": "Python 3",
   "language": "python",
   "name": "python3"
  },
  "language_info": {
   "codemirror_mode": {
    "name": "ipython",
    "version": 2
   },
   "file_extension": ".py",
   "mimetype": "text/x-python",
   "name": "python",
   "nbconvert_exporter": "python",
   "pygments_lexer": "ipython2",
   "version": "2.7.6"
  }
 },
 "nbformat": 4,
 "nbformat_minor": 0
}
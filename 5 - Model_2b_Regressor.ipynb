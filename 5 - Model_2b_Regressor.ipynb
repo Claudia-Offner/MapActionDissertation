{
 "cells": [
  {
   "cell_type": "markdown",
   "source": [
    "# Model 2: Regression Algorithm\n",
    "\n",
    "Regression on how flooding impacts food crisis"
   ],
   "metadata": {
    "collapsed": false
   }
  },
  {
   "cell_type": "code",
   "execution_count": 55,
   "outputs": [],
   "source": [
    "# import libraries: standard env, +pysal, + jupyter, + matplotlib\n",
    "#### import libraries ####\n",
    "import os\n",
    "import geopandas as gpd\n",
    "import pandas as pd\n",
    "import numpy as np\n",
    "import sklearn\n",
    "from sklearn.model_selection import train_test_split\n",
    "from sklearn.impute import SimpleImputer\n",
    "from sklearn.preprocessing import MinMaxScaler\n",
    "from sklearn.ensemble import RandomForestRegressor\n",
    "from sklearn.model_selection import GridSearchCV\n",
    "from sklearn import metrics\n",
    "from sklearn.metrics import confusion_matrix\n",
    "import seaborn as sns\n",
    "import matplotlib.pyplot as plt\n",
    "import timeit\n",
    "os.getcwd()\n",
    "\n",
    "start = timeit.default_timer()"
   ],
   "metadata": {
    "collapsed": false,
    "pycharm": {
     "name": "#%%\n"
    }
   }
  },
  {
   "cell_type": "markdown",
   "source": [
    "## 1. Read Data"
   ],
   "metadata": {
    "collapsed": false,
    "pycharm": {
     "name": "#%% md\n"
    }
   }
  },
  {
   "cell_type": "code",
   "execution_count": 56,
   "outputs": [],
   "source": [
    "# Read FS data\n",
    "FS = pd.read_csv('Data/FS_flood_differenced_data.csv')\n"
   ],
   "metadata": {
    "collapsed": false,
    "pycharm": {
     "name": "#%%\n"
    }
   }
  },
  {
   "cell_type": "code",
   "execution_count": 57,
   "outputs": [],
   "source": [
    "# **Combine processed FS shapefile w/ sars data**"
   ],
   "metadata": {
    "collapsed": false,
    "pycharm": {
     "name": "#%%\n"
    }
   }
  },
  {
   "cell_type": "markdown",
   "source": [
    "## 2. Model Preprocessing"
   ],
   "metadata": {
    "collapsed": false
   }
  },
  {
   "cell_type": "code",
   "execution_count": 58,
   "outputs": [],
   "source": [
    "# Drop unnecessary columns (i.e. space/time no longer need because lags are accounted for)\n",
    "data = FS.drop(['country', 'admin_name', 'flood_date'], axis=1)"
   ],
   "metadata": {
    "collapsed": false,
    "pycharm": {
     "name": "#%%\n"
    }
   }
  },
  {
   "cell_type": "markdown",
   "source": [
    "**Addressing missing values**\n",
    "\n",
    " - If 25% of a columns data is NA, that column is removed\n",
    " - For all other missing values, the column mean is used - BUT need a better option!"
   ],
   "metadata": {
    "collapsed": false,
    "pycharm": {
     "name": "#%% md\n"
    }
   }
  },
  {
   "cell_type": "code",
   "execution_count": 59,
   "outputs": [
    {
     "name": "stdout",
     "output_type": "stream",
     "text": [
      "spacelag     76\n",
      "fews_ipc      0\n",
      "ndvi_mean     0\n",
      "rain_mean     0\n",
      "et_mean       0\n",
      "dtype: int64\n"
     ]
    }
   ],
   "source": [
    "# Establish how much data is missing\n",
    "print(data.isnull().sum().sort_values(ascending=False).head())\n",
    "\n",
    "# Find the columns with large amounts of na values\n",
    "variables_na = []\n",
    "for i in data:\n",
    "    if data[i].isnull().sum() > 6900: # change this according to be 25% of df\n",
    "        str(i)\n",
    "        variables_na.append(i)\n",
    "data = data.drop(columns=variables_na) #delete those"
   ],
   "metadata": {
    "collapsed": false,
    "pycharm": {
     "name": "#%%\n"
    }
   }
  },
  {
   "cell_type": "code",
   "execution_count": 60,
   "outputs": [
    {
     "data": {
      "text/plain": "fews_ipc       0\nndvi_mean      0\nrain_mean      0\net_mean        0\nacled_count    0\ndtype: int64"
     },
     "execution_count": 60,
     "metadata": {},
     "output_type": "execute_result"
    }
   ],
   "source": [
    "# Impute the missing values using SimpleImputer in sklearn.impute\n",
    "imp = SimpleImputer(missing_values=np.nan, strategy='mean')\n",
    "imp.fit(data)\n",
    "\n",
    "data = pd.DataFrame(data=imp.transform(data), columns=data.columns)\n",
    "\n",
    "# Check if there is still missing data\n",
    "data.isnull().sum().sort_values(ascending=False).head()"
   ],
   "metadata": {
    "collapsed": false,
    "pycharm": {
     "name": "#%%\n"
    }
   }
  },
  {
   "cell_type": "markdown",
   "source": [
    "**Normalize the data set**\n",
    "- Scales each column to values between 0-1 to be better interpreted by the models\n",
    "- CHECK: how normalisation impacts model accuracy"
   ],
   "metadata": {
    "collapsed": false,
    "pycharm": {
     "name": "#%% md\n"
    }
   }
  },
  {
   "cell_type": "code",
   "execution_count": 61,
   "outputs": [],
   "source": [
    "fews_ipc = data['fews_ipc']\n",
    "data = data.drop(['fews_ipc'], axis=1)\n",
    "scaler = MinMaxScaler()\n",
    "data = gpd.GeoDataFrame(scaler.fit_transform(data), columns=data.columns, index=FS.index)\n",
    "data.head()\n",
    "data.describe()\n",
    "data['class'] = fews_ipc"
   ],
   "metadata": {
    "collapsed": false,
    "pycharm": {
     "name": "#%%\n"
    }
   }
  },
  {
   "cell_type": "markdown",
   "source": [
    "**Add Binary Classification**\n",
    "- Using column quartiles as a suitable threshold base\n",
    "- CHECK: how classification complexity impacts models\n",
    "- NOTE: Using +3 classes would be more informative in our model explorations"
   ],
   "metadata": {
    "collapsed": false,
    "pycharm": {
     "name": "#%% md\n"
    }
   }
  },
  {
   "cell_type": "code",
   "execution_count": 62,
   "outputs": [],
   "source": [
    "# Binary classification based on quartiles\n",
    "# data['class'] = [0 if x == 1 else 1 for x in data['class']]\n",
    "# data['class'] = data['class'].astype(float) # Reformat column\n"
   ],
   "metadata": {
    "collapsed": false,
    "pycharm": {
     "name": "#%%\n"
    }
   }
  },
  {
   "cell_type": "markdown",
   "source": [
    "## 3. Random Forest Classification"
   ],
   "metadata": {
    "collapsed": false
   }
  },
  {
   "cell_type": "code",
   "execution_count": 63,
   "outputs": [],
   "source": [
    "# Load functions\n",
    "\n",
    "# For plotting confusion matrix\n",
    "def plot_confusion_matrix(train_pred, train, dom):\n",
    "    classes = {'Food Security': 0, 'Food Insecurity': 1}\n",
    "    cf = confusion_matrix(train_pred,train)\n",
    "    sns.heatmap(cf,annot=True,yticklabels=classes,xticklabels=classes,cmap='Blues', fmt='g')\n",
    "    plt.title(f'{dom} Confusion matrix')\n",
    "    plt.tight_layout()\n",
    "    plt.figure(figsize=(1, 2), dpi=80)\n",
    "    plt.show()\n"
   ],
   "metadata": {
    "collapsed": false,
    "pycharm": {
     "name": "#%%\n"
    }
   }
  },
  {
   "cell_type": "markdown",
   "source": [
    "**Randomly split data in training and testing sets**"
   ],
   "metadata": {
    "collapsed": false,
    "pycharm": {
     "name": "#%% md\n"
    }
   }
  },
  {
   "cell_type": "code",
   "execution_count": 64,
   "outputs": [],
   "source": [
    "# A. SPLIT TRAIN/TEST SETS\n",
    "# Random 70% split in train and test sets (time series is accounted for by lags)\n",
    "# split data into x & y\n",
    "y = data['class']\n",
    "x = data.drop(columns=['class'])\n",
    "x_train, x_test, y_train, y_test = train_test_split(x, y, test_size=0.30, random_state=42)"
   ],
   "metadata": {
    "collapsed": false,
    "pycharm": {
     "name": "#%%\n"
    }
   }
  },
  {
   "cell_type": "markdown",
   "source": [
    "**Tune hyper-parameters**\n",
    "* n_estimators = Number of trees in random forest\n",
    "* max_features = Number of features to consider at every split\n",
    "* max_depth = Maximum number of levels in tree\n",
    "* min_samples_leaf = Minimum number of samples required at each leaf node\n",
    "* min_samples_split = Minimum number of samples required to split a node\n",
    "* bootstrap = Method of selecting samples for training each tree\n",
    "\n",
    "Found: {'bootstrap': False,\n",
    " 'max_depth': 72,\n",
    " 'max_features': 'auto',\n",
    " 'min_samples_leaf': 2,\n",
    " 'min_samples_split': 2,\n",
    " 'n_estimators': 72}"
   ],
   "metadata": {
    "collapsed": false,
    "pycharm": {
     "name": "#%% md\n"
    }
   }
  },
  {
   "cell_type": "code",
   "execution_count": 65,
   "outputs": [],
   "source": [
    "# param_grid = {'n_estimators': [int(x) for x in np.linspace(start = 10, stop = 80, num = 10)],\n",
    "#                'max_features': ['auto', 'sqrt'],\n",
    "#                'max_depth': [int(x) for x in np.linspace(start = 10, stop = 80, num = 10)],\n",
    "#                'min_samples_split': [2, 5, 10],\n",
    "#                'min_samples_leaf': [2, 5, 10],\n",
    "#                'bootstrap': [True, False]}\n",
    "#\n",
    "# # Create a based model\n",
    "# rf = RandomForestRegressor()\n",
    "#\n",
    "# # Instantiate the grid search model\n",
    "# rf_Grid = GridSearchCV(estimator = rf, param_grid = param_grid, cv = 3, verbose=2, n_jobs = 4)\n",
    "# rf_Grid.fit(x_train,y_train)\n",
    "#\n",
    "# # Get best parameters\n",
    "# rf_Grid.best_params_\n"
   ],
   "metadata": {
    "collapsed": false,
    "pycharm": {
     "name": "#%%\n"
    }
   }
  },
  {
   "cell_type": "markdown",
   "source": [
    "**Fit Optimised Model**"
   ],
   "metadata": {
    "collapsed": false,
    "pycharm": {
     "name": "#%% md\n",
     "is_executing": true
    }
   }
  },
  {
   "cell_type": "code",
   "execution_count": 66,
   "outputs": [
    {
     "data": {
      "text/plain": "RandomForestRegressor(bootstrap=False, max_depth=72, max_features='sqrt',\n                      min_samples_leaf=2, n_estimators=72)"
     },
     "execution_count": 66,
     "metadata": {},
     "output_type": "execute_result"
    }
   ],
   "source": [
    "# C. RESULTS\n",
    "# Fit optimised model\n",
    "clf=RandomForestRegressor(n_estimators=72, min_samples_leaf=2, min_samples_split=2,\n",
    "                           max_features='sqrt', max_depth=72, bootstrap=False)\n",
    "clf.fit(x_train,y_train)"
   ],
   "metadata": {
    "collapsed": false,
    "pycharm": {
     "name": "#%%\n"
    }
   }
  },
  {
   "cell_type": "markdown",
   "source": [
    "**Evaluate Model**"
   ],
   "metadata": {
    "collapsed": false,
    "pycharm": {
     "name": "#%% md\n",
     "is_executing": true
    }
   }
  },
  {
   "cell_type": "code",
   "execution_count": 67,
   "outputs": [
    {
     "data": {
      "text/plain": "0.26909348474209127"
     },
     "execution_count": 67,
     "metadata": {},
     "output_type": "execute_result"
    }
   ],
   "source": [
    "# Evaluate performance\n",
    "y_train_pred = clf.predict(x_train)\n",
    "y_test_pred = clf.predict(x_test)\n",
    "clf.score(x_test, y_test) # R squared value of model"
   ],
   "metadata": {
    "collapsed": false,
    "pycharm": {
     "name": "#%%\n"
    }
   }
  },
  {
   "cell_type": "code",
   "execution_count": 68,
   "outputs": [
    {
     "name": "stdout",
     "output_type": "stream",
     "text": [
      "Accuracy for Random Forest 11.16927220949617\n"
     ]
    }
   ],
   "source": [
    "import math\n",
    "mse = sklearn.metrics.mean_squared_error(y_train_pred,y_train)\n",
    "rmse = math.sqrt(mse)\n",
    "print('Accuracy for Random Forest',100*max(0,rmse))"
   ],
   "metadata": {
    "collapsed": false,
    "pycharm": {
     "name": "#%%\n"
    }
   }
  },
  {
   "cell_type": "code",
   "execution_count": 69,
   "outputs": [
    {
     "name": "stdout",
     "output_type": "stream",
     "text": [
      "Accuracy for Random Forest 18.34300160238166\n"
     ]
    }
   ],
   "source": [
    "import math\n",
    "mse = sklearn.metrics.mean_squared_error(y_test_pred,y_test)\n",
    "rmse = math.sqrt(mse)\n",
    "print('Accuracy for Random Forest',100*max(0,rmse))"
   ],
   "metadata": {
    "collapsed": false,
    "pycharm": {
     "name": "#%%\n"
    }
   }
  },
  {
   "cell_type": "code",
   "execution_count": 70,
   "outputs": [],
   "source": [
    "# print(f'Ensemble Train Model Accuracy(in %): {metrics.accuracy_score(y_train_pred,y_train)*100}')\n",
    "# print(f'Ensemble Test Model Accuracy(in %): {metrics.accuracy_score(y_test_pred,y_test)*100}')\n",
    "# plot_confusion_matrix(y_train_pred,y_train,dom='Train')\n",
    "# plot_confusion_matrix(y_test_pred,y_test,dom='Test')\n"
   ],
   "metadata": {
    "collapsed": false,
    "pycharm": {
     "name": "#%%\n"
    }
   }
  },
  {
   "cell_type": "code",
   "execution_count": 71,
   "outputs": [
    {
     "data": {
      "text/plain": "<Figure size 432x288 with 1 Axes>",
      "image/png": "[encoded data removed]"
     },
     "metadata": {
      "needs_background": "light"
     },
     "output_type": "display_data"
    }
   ],
   "source": [
    "# Evaluate variable importance\n",
    "\n",
    "# for name, importance in zip(x_test.columns, clf.feature_importances_):\n",
    "#     print(name, \"=\", importance)\n",
    "\n",
    "features = x_test.columns\n",
    "importances = clf.feature_importances_\n",
    "indices = np.argsort(importances)\n",
    "\n",
    "plt.title('Feature Importances')\n",
    "plt.barh(range(len(indices)), importances[indices], align='center') # color\n",
    "plt.yticks(range(len(indices)), [features[i] for i in indices])\n",
    "plt.xlabel('Relative Importance')\n",
    "plt.show()\n"
   ],
   "metadata": {
    "collapsed": false,
    "pycharm": {
     "name": "#%%\n"
    }
   }
  },
  {
   "cell_type": "code",
   "execution_count": 72,
   "outputs": [
    {
     "name": "stdout",
     "output_type": "stream",
     "text": [
      "Running Time:  0.605494799999974 seconds\n"
     ]
    }
   ],
   "source": [
    "# Make individual prediction\n",
    "\n",
    "\n",
    "stop = timeit.default_timer()\n",
    "print('Running Time: ', stop - start, 'seconds')"
   ],
   "metadata": {
    "collapsed": false,
    "pycharm": {
     "name": "#%%\n"
    }
   }
  }
 ],
 "metadata": {
  "kernelspec": {
   "display_name": "Python 3",
   "language": "python",
   "name": "python3"
  },
  "language_info": {
   "codemirror_mode": {
    "name": "ipython",
    "version": 2
   },
   "file_extension": ".py",
   "mimetype": "text/x-python",
   "name": "python",
   "nbconvert_exporter": "python",
   "pygments_lexer": "ipython2",
   "version": "2.7.6"
  }
 },
 "nbformat": 4,
 "nbformat_minor": 0
}
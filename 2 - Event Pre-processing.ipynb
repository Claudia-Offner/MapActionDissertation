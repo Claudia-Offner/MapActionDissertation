{
 "cells": [
  {
   "cell_type": "markdown",
   "source": [
    "## Pre-processing\n",
    "\n",
    "Extract all major flood dates for every country of the FEWS Network.\n",
    "Extract for each event, extract food security data for before & after (month)."
   ],
   "metadata": {
    "collapsed": false
   }
  },
  {
   "cell_type": "code",
   "execution_count": 20,
   "outputs": [],
   "source": [
    "import pandas as pd\n",
    "import os\n",
    "import timeit\n",
    "os.getcwd()\n",
    "start = timeit.default_timer()\n"
   ],
   "metadata": {
    "collapsed": false,
    "pycharm": {
     "name": "#%%\n"
    }
   }
  },
  {
   "cell_type": "code",
   "execution_count": 21,
   "outputs": [],
   "source": [
    "# import geopandas as gpd\n",
    "#\n",
    "# shape = gpd.read_file('flood/wlf_nhr_fl_dfomasterlist_20190418.shp')\n",
    "# shape\n",
    "# l = []\n",
    "# for i in shape.index:\n",
    "#     if shape['Country__c'][i] == 'Chad':\n",
    "#         j = shape['Date_Began'][i]\n",
    "#         l.append(j)"
   ],
   "metadata": {
    "collapsed": false,
    "pycharm": {
     "name": "#%%\n"
    }
   }
  },
  {
   "cell_type": "code",
   "execution_count": 22,
   "outputs": [],
   "source": [
    "# Read Food Security data\n",
    "FS = pd.read_csv('Data/predicting_food_crises_data.csv')\n"
   ],
   "metadata": {
    "collapsed": false,
    "pycharm": {
     "name": "#%%\n"
    }
   }
  },
  {
   "cell_type": "code",
   "execution_count": 23,
   "outputs": [],
   "source": [
    "# Read Flood Event data\n",
    "FE = pd.read_csv('Data/global_flooding_events.csv')\n"
   ],
   "metadata": {
    "collapsed": false,
    "pycharm": {
     "name": "#%%\n"
    }
   }
  },
  {
   "cell_type": "code",
   "execution_count": 24,
   "outputs": [],
   "source": [
    "# CLEAN FE DATA\n",
    "# Remove FE dates before 2010\n",
    "FE.drop(FE.index[FE['year'] == 2000], inplace=True)\n",
    "FE.drop(FE.index[FE['year'] == 2001], inplace=True)\n",
    "FE.drop(FE.index[FE['year'] == 2002], inplace=True)\n",
    "FE.drop(FE.index[FE['year'] == 2003], inplace=True)\n",
    "FE.drop(FE.index[FE['year'] == 2004], inplace=True)\n",
    "FE.drop(FE.index[FE['year'] == 2005], inplace=True)\n",
    "FE.drop(FE.index[FE['year'] == 2006], inplace=True)\n",
    "FE.drop(FE.index[FE['year'] == 2007], inplace=True)\n",
    "FE.drop(FE.index[FE['year'] == 2008], inplace=True)\n",
    "FE.drop(FE.index[FE['year'] == 2009], inplace=True)\n",
    "FE.drop(FE.index[FE['year'] == 2010], inplace=True)\n",
    "FE.drop(FE.index[FE['year'] == 2011], inplace=True)\n",
    "FE.drop(FE.index[FE['year'] == 2012], inplace=True)\n",
    "FE.drop(FE.index[FE['year'] == 2013], inplace=True)\n",
    "FE.drop(FE.index[FE['year'] == 2014], inplace=True)\n",
    "\n",
    "# Remove duplicates\n",
    "FE = FE.drop_duplicates(subset=['country', 'year', 'month'])\n",
    "### Try to group duplicates by average dates"
   ],
   "metadata": {
    "collapsed": false,
    "pycharm": {
     "name": "#%%\n"
    }
   }
  },
  {
   "cell_type": "code",
   "execution_count": 25,
   "outputs": [
    {
     "data": {
      "text/plain": "{'Afghanistan',\n 'Burkina Faso',\n 'Chad',\n 'Democratic Republic of Congo',\n 'Ethiopia',\n 'Guatemala',\n 'Haiti',\n 'Kenya',\n 'Malawi',\n 'Mali',\n 'Mauritania',\n 'Mozambique',\n 'Niger',\n 'Nigeria',\n 'Somalia',\n 'South Sudan',\n 'Sudan',\n 'Uganda',\n 'Yemen',\n 'Zambia',\n 'Zimbabwe'}"
     },
     "execution_count": 25,
     "metadata": {},
     "output_type": "execute_result"
    }
   ],
   "source": [
    "# Extract Flood events data that only includes FEW NET countries\n",
    "country_list = set(FS['country'].tolist()) # Extract list of FEWS NET countries\n",
    "FE2 = pd.DataFrame(columns=list(FE.columns))\n",
    "for i in FE.index:\n",
    "    for country in country_list:\n",
    "        if FE['country'][i] == country:\n",
    "            FE2 = FE2.append(FE.loc[i])\n",
    "FE2 = FE2.sort_values(by=['country', 'year', 'month', 'day'])\n",
    "FE2 = FE2.drop(['index', 'area', 'exposed'], axis=1)\n",
    "country_list"
   ],
   "metadata": {
    "collapsed": false,
    "pycharm": {
     "name": "#%%\n"
    }
   }
  },
  {
   "cell_type": "code",
   "execution_count": 26,
   "outputs": [],
   "source": [
    "# Create Timestamps (MONTHLY)\n",
    "# FS\n",
    "FS['date'] = FS['year'].astype(str) + '-' + FS['month'].astype(str)\n",
    "FS['datetime'] = pd.to_datetime(FS['date'])\n",
    "FS = FS.drop(['date'], axis=1)\n",
    "#FE\n",
    "FE2['date'] = FE2['year'].astype(str) + '-' + FE2['month'].astype(str) + '-' +FE2['day'].astype(str)\n",
    "FE2['datetime'] = pd.to_datetime(FE2['date'])\n",
    "FE2 = FE2.drop(['date'], axis=1)\n",
    "FE2['datetime_round'] = pd.to_datetime(FE2['datetime']).dt.to_period('M').dt.to_timestamp()\n",
    "FE2 = FE2.reset_index()\n",
    "FE2 = FE2.drop(['index'], axis=1)"
   ],
   "metadata": {
    "collapsed": false,
    "pycharm": {
     "name": "#%%\n"
    }
   }
  },
  {
   "cell_type": "code",
   "execution_count": 27,
   "outputs": [],
   "source": [
    "### SELECT COUNTRY OF INTEREST\n",
    "country = 'Mozambique'\n",
    "FS.drop(FS.loc[FS['country'] != country].index, inplace=True)\n",
    "FE2.drop(FE2.loc[FE2['country'] != country].index, inplace=True)\n",
    "# Reset index\n",
    "FS = FS.reset_index()\n",
    "FS = FS.drop(['index'], axis=1)\n",
    "FE2 = FE2.reset_index()\n",
    "FE2 = FE2.drop(['index'], axis=1)\n",
    "\n",
    "# FE2"
   ],
   "metadata": {
    "collapsed": false,
    "pycharm": {
     "name": "#%%\n"
    }
   }
  },
  {
   "cell_type": "markdown",
   "source": [
    "Something is wrong with the first event in Afghanistan dataset (code works for Burkina faso) - code needs error handling"
   ],
   "metadata": {
    "collapsed": false,
    "pycharm": {
     "name": "#%% md\n"
    }
   }
  },
  {
   "cell_type": "code",
   "execution_count": 28,
   "outputs": [],
   "source": [
    "# # Filter FS data to only include data before/after/during each event\n",
    "# FS2 = pd.DataFrame(columns=list(FS.columns))\n",
    "# FS2['State'] = ''\n",
    "# FS2['Flood Date'] = ''\n",
    "# for event in FE2.index:\n",
    "#     for i in FS.index:\n",
    "#         if FS['country'][i] == FE2['country'][event]:\n",
    "#             FS_date = FS['datetime'][i]\n",
    "#             FE_date = FE2['datetime_round'][event]\n",
    "#             before = FE_date - pd.DateOffset(months=1)\n",
    "#             after = FE_date + pd.DateOffset(months=1)\n",
    "#             if FS_date == before:\n",
    "#                 FS2 = FS2.append(FS.loc[i])\n",
    "#                 FS2.loc[i,['State']] = 'Before'\n",
    "#                 FS2.loc[i, ['Flood Date']] = FE2['datetime'][event]\n",
    "#             elif FS_date == after:\n",
    "#                 FS2 = FS2.append(FS.loc[i])\n",
    "#                 FS2.loc[i,['State']] = 'After'\n",
    "#                 FS2.loc[i, ['Flood Date']] = FE2['datetime'][event]\n",
    "#             else:\n",
    "#                 continue\n"
   ],
   "metadata": {
    "collapsed": false,
    "pycharm": {
     "name": "#%%\n"
    }
   }
  },
  {
   "cell_type": "code",
   "execution_count": 29,
   "outputs": [
    {
     "ename": "NameError",
     "evalue": "name 'FS2' is not defined",
     "output_type": "error",
     "traceback": [
      "\u001B[1;31m---------------------------------------------------------------------------\u001B[0m",
      "\u001B[1;31mNameError\u001B[0m                                 Traceback (most recent call last)",
      "\u001B[1;32m~\\AppData\\Local\\Temp/ipykernel_4820/1805259134.py\u001B[0m in \u001B[0;36m<module>\u001B[1;34m\u001B[0m\n\u001B[1;32m----> 1\u001B[1;33m \u001B[0mFS2\u001B[0m \u001B[1;33m=\u001B[0m \u001B[0mFS2\u001B[0m\u001B[1;33m.\u001B[0m\u001B[0mreset_index\u001B[0m\u001B[1;33m(\u001B[0m\u001B[1;33m)\u001B[0m\u001B[1;33m\u001B[0m\u001B[1;33m\u001B[0m\u001B[0m\n\u001B[0m\u001B[0;32m      2\u001B[0m \u001B[0mFS2\u001B[0m \u001B[1;33m=\u001B[0m \u001B[0mFS2\u001B[0m\u001B[1;33m.\u001B[0m\u001B[0mdrop\u001B[0m\u001B[1;33m(\u001B[0m\u001B[1;33m[\u001B[0m\u001B[1;34m'index'\u001B[0m\u001B[1;33m]\u001B[0m\u001B[1;33m,\u001B[0m \u001B[0maxis\u001B[0m\u001B[1;33m=\u001B[0m\u001B[1;36m1\u001B[0m\u001B[1;33m)\u001B[0m\u001B[1;33m\u001B[0m\u001B[1;33m\u001B[0m\u001B[0m\n\u001B[0;32m      3\u001B[0m \u001B[1;31m# FS2['datetime'] = FS2['datetime'].astype(str)\u001B[0m\u001B[1;33m\u001B[0m\u001B[1;33m\u001B[0m\u001B[1;33m\u001B[0m\u001B[0m\n\u001B[0;32m      4\u001B[0m \u001B[1;31m# FS2['Flood Date'] = FS2['Flood Date'].astype(str)\u001B[0m\u001B[1;33m\u001B[0m\u001B[1;33m\u001B[0m\u001B[1;33m\u001B[0m\u001B[0m\n\u001B[0;32m      5\u001B[0m \u001B[1;31m# FS2 = FS2[['country', 'admin_code', 'admin_name', 'year_month', 'year', 'month', 'Flood Date', 'State', 'datetime',\u001B[0m\u001B[1;33m\u001B[0m\u001B[1;33m\u001B[0m\u001B[1;33m\u001B[0m\u001B[0m\n",
      "\u001B[1;31mNameError\u001B[0m: name 'FS2' is not defined"
     ]
    }
   ],
   "source": [
    "FS2 = FS2.reset_index()\n",
    "FS2 = FS2.drop(['index'], axis=1)\n",
    "# FS2['datetime'] = FS2['datetime'].astype(str)\n",
    "# FS2['Flood Date'] = FS2['Flood Date'].astype(str)\n",
    "# FS2 = FS2[['country', 'admin_code', 'admin_name', 'year_month', 'year', 'month', 'Flood Date', 'State', 'datetime',\n",
    "#            'fews_ipc', 'ndvi_mean', 'rain_mean', 'et_mean', 'acled_coun', 'acled_fata', 'p_staple_f', 'area',\n",
    "#            'cropland_p', 'pop', 'ruggedness', 'pasture_pc', 'spacelag', 'timelag1', 'timelag2', 'geometry']]\n",
    "\n",
    "# For GEE - before/after dates\n",
    "FE3 = FS2[['country', 'year', 'month', 'Flood Date', 'datetime', 'State']]\n",
    "FE3 = FE3.drop_duplicates()\n",
    "FE3 = FE3.reset_index()\n",
    "FE3 = FE3.drop(['index'], axis=1)\n",
    "\n",
    "# For GEE - flood dates only\n",
    "# FE4 = FE2[['datetime']]\n",
    "# FE4 = FE4.reset_index()\n",
    "# FE4 = FE4.drop(['index'], axis=1)\n",
    "\n",
    "stop = timeit.default_timer()\n",
    "print('Running Time: ', stop - start, 'seconds')"
   ],
   "metadata": {
    "collapsed": false,
    "pycharm": {
     "name": "#%%\n"
    }
   }
  },
  {
   "cell_type": "code",
   "execution_count": null,
   "outputs": [],
   "source": [
    "# Save data\n",
    "# FS2.to_csv('Data/FE_before_after_data.csv', index = False)\n",
    "# FE3.to_csv('Data/FE_before_after_dates.csv', index = False)\n",
    "# FE4.to_csv('Data/GEE_flood_dates.csv', index = False)\n",
    "# FS2.to_file('Data/FS_before_after_data.shp')\n"
   ],
   "metadata": {
    "collapsed": false,
    "pycharm": {
     "name": "#%%\n"
    }
   }
  }
 ],
 "metadata": {
  "kernelspec": {
   "display_name": "Python 3",
   "language": "python",
   "name": "python3"
  },
  "language_info": {
   "codemirror_mode": {
    "name": "ipython",
    "version": 2
   },
   "file_extension": ".py",
   "mimetype": "text/x-python",
   "name": "python",
   "nbconvert_exporter": "python",
   "pygments_lexer": "ipython2",
   "version": "2.7.6"
  }
 },
 "nbformat": 4,
 "nbformat_minor": 0
}
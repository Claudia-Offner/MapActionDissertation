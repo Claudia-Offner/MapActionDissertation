{
 "cells": [
  {
   "cell_type": "markdown",
   "source": [
    "## Pre-processing\n",
    "\n",
    "Extract all major flood dates for every country of the FEWS Network.\n",
    "Extract for each event, extract food security data for before & after (month)."
   ],
   "metadata": {
    "collapsed": false
   }
  },
  {
   "cell_type": "code",
   "execution_count": 11,
   "outputs": [],
   "source": [
    "import pandas as pd\n",
    "import os\n",
    "import timeit\n",
    "os.getcwd()\n",
    "start = timeit.default_timer()"
   ],
   "metadata": {
    "collapsed": false,
    "pycharm": {
     "name": "#%%\n"
    }
   }
  },
  {
   "cell_type": "code",
   "execution_count": 12,
   "outputs": [
    {
     "data": {
      "text/plain": "           country  admin_code admin_name year_month  year  month  fews_ipc  \\\n0     Burkina Faso         333       Bale    2010_01  2010      1       1.0   \n1     Burkina Faso         333       Bale    2010_02  2010      2       1.0   \n2     Burkina Faso         333       Bale    2010_03  2010      3       1.0   \n3     Burkina Faso         333       Bale    2010_04  2010      4       1.0   \n4     Burkina Faso         333       Bale    2010_05  2010      5       1.0   \n...            ...         ...        ...        ...   ...    ...       ...   \n5395  Burkina Faso         318       Poni    2019_08  2019      8       1.0   \n5396  Burkina Faso         318       Poni    2019_09  2019      9       1.0   \n5397  Burkina Faso         318       Poni    2019_10  2019     10       1.0   \n5398  Burkina Faso         318       Poni    2019_11  2019     11       1.0   \n5399  Burkina Faso         318       Poni    2019_12  2019     12       1.0   \n\n      ndvi_mean  rain_mean    et_mean  ...  p_staple_food      area  \\\n0      0.266836   0.074310   0.554699  ...       0.989538  4573.621   \n1      0.247344   0.229356   0.152137  ...       1.005285  4573.621   \n2      0.234472   0.640163   0.094645  ...       0.990976  4573.621   \n3      0.282137   5.106552   0.640150  ...       0.987877  4573.621   \n4      0.350757  18.262919   2.203498  ...       0.998085  4573.621   \n...         ...        ...        ...  ...            ...       ...   \n5395   0.588014  39.905847  21.007041  ...       0.920985  7579.105   \n5396   0.661198  44.688380  19.097339  ...       0.884181  7579.105   \n5397   0.644735  23.053920  24.003902  ...       0.865220  7579.105   \n5398   0.527889   1.743696  10.242283  ...       0.854907  7579.105   \n5399   0.402241   0.456311   1.326557  ...       0.909241  7579.105   \n\n      cropland_pct       pop  ruggedness_mean  pasture_pct  spacelag  \\\n0         72.29648  229843.0         36752.87     63.09615       1.0   \n1         72.29648  229843.0         36752.87     63.09615       1.0   \n2         72.29648  229843.0         36752.87     63.09615       1.0   \n3         72.29648  229843.0         36752.87     63.09615       1.0   \n4         72.29648  229843.0         36752.87     63.09615       1.0   \n...            ...       ...              ...          ...       ...   \n5395      39.06642  361990.0         66720.17     82.21591       1.0   \n5396      39.06642  361990.0         66720.17     82.21591       1.0   \n5397      39.06642  361990.0         66720.17     82.21591       1.0   \n5398      39.06642  361990.0         66720.17     82.21591       1.0   \n5399      39.06642  361990.0         66720.17     82.21591       1.0   \n\n      timelag1  timelag2                                           geometry  \n0          NaN       NaN  POLYGON ((-2.85790992 11.24520969, -2.86123991...  \n1          NaN       NaN  POLYGON ((-2.85790992 11.24520969, -2.86123991...  \n2          NaN       NaN  POLYGON ((-2.85790992 11.24520969, -2.86123991...  \n3          NaN       NaN  POLYGON ((-2.85790992 11.24520969, -2.86123991...  \n4          NaN       NaN  POLYGON ((-2.85790992 11.24520969, -2.86123991...  \n...        ...       ...                                                ...  \n5395       1.0       1.0  POLYGON ((-2.84680104 10.30283928, -2.84211564...  \n5396       1.0       1.0  POLYGON ((-2.84680104 10.30283928, -2.84211564...  \n5397       1.0       1.0  POLYGON ((-2.84680104 10.30283928, -2.84211564...  \n5398       1.0       1.0  POLYGON ((-2.84680104 10.30283928, -2.84211564...  \n5399       1.0       1.0  POLYGON ((-2.84680104 10.30283928, -2.84211564...  \n\n[5400 rows x 22 columns]",
      "text/html": "<div>\n<style scoped>\n    .dataframe tbody tr th:only-of-type {\n        vertical-align: middle;\n    }\n\n    .dataframe tbody tr th {\n        vertical-align: top;\n    }\n\n    .dataframe thead th {\n        text-align: right;\n    }\n</style>\n<table border=\"1\" class=\"dataframe\">\n  <thead>\n    <tr style=\"text-align: right;\">\n      <th></th>\n      <th>country</th>\n      <th>admin_code</th>\n      <th>admin_name</th>\n      <th>year_month</th>\n      <th>year</th>\n      <th>month</th>\n      <th>fews_ipc</th>\n      <th>ndvi_mean</th>\n      <th>rain_mean</th>\n      <th>et_mean</th>\n      <th>...</th>\n      <th>p_staple_food</th>\n      <th>area</th>\n      <th>cropland_pct</th>\n      <th>pop</th>\n      <th>ruggedness_mean</th>\n      <th>pasture_pct</th>\n      <th>spacelag</th>\n      <th>timelag1</th>\n      <th>timelag2</th>\n      <th>geometry</th>\n    </tr>\n  </thead>\n  <tbody>\n    <tr>\n      <th>0</th>\n      <td>Burkina Faso</td>\n      <td>333</td>\n      <td>Bale</td>\n      <td>2010_01</td>\n      <td>2010</td>\n      <td>1</td>\n      <td>1.0</td>\n      <td>0.266836</td>\n      <td>0.074310</td>\n      <td>0.554699</td>\n      <td>...</td>\n      <td>0.989538</td>\n      <td>4573.621</td>\n      <td>72.29648</td>\n      <td>229843.0</td>\n      <td>36752.87</td>\n      <td>63.09615</td>\n      <td>1.0</td>\n      <td>NaN</td>\n      <td>NaN</td>\n      <td>POLYGON ((-2.85790992 11.24520969, -2.86123991...</td>\n    </tr>\n    <tr>\n      <th>1</th>\n      <td>Burkina Faso</td>\n      <td>333</td>\n      <td>Bale</td>\n      <td>2010_02</td>\n      <td>2010</td>\n      <td>2</td>\n      <td>1.0</td>\n      <td>0.247344</td>\n      <td>0.229356</td>\n      <td>0.152137</td>\n      <td>...</td>\n      <td>1.005285</td>\n      <td>4573.621</td>\n      <td>72.29648</td>\n      <td>229843.0</td>\n      <td>36752.87</td>\n      <td>63.09615</td>\n      <td>1.0</td>\n      <td>NaN</td>\n      <td>NaN</td>\n      <td>POLYGON ((-2.85790992 11.24520969, -2.86123991...</td>\n    </tr>\n    <tr>\n      <th>2</th>\n      <td>Burkina Faso</td>\n      <td>333</td>\n      <td>Bale</td>\n      <td>2010_03</td>\n      <td>2010</td>\n      <td>3</td>\n      <td>1.0</td>\n      <td>0.234472</td>\n      <td>0.640163</td>\n      <td>0.094645</td>\n      <td>...</td>\n      <td>0.990976</td>\n      <td>4573.621</td>\n      <td>72.29648</td>\n      <td>229843.0</td>\n      <td>36752.87</td>\n      <td>63.09615</td>\n      <td>1.0</td>\n      <td>NaN</td>\n      <td>NaN</td>\n      <td>POLYGON ((-2.85790992 11.24520969, -2.86123991...</td>\n    </tr>\n    <tr>\n      <th>3</th>\n      <td>Burkina Faso</td>\n      <td>333</td>\n      <td>Bale</td>\n      <td>2010_04</td>\n      <td>2010</td>\n      <td>4</td>\n      <td>1.0</td>\n      <td>0.282137</td>\n      <td>5.106552</td>\n      <td>0.640150</td>\n      <td>...</td>\n      <td>0.987877</td>\n      <td>4573.621</td>\n      <td>72.29648</td>\n      <td>229843.0</td>\n      <td>36752.87</td>\n      <td>63.09615</td>\n      <td>1.0</td>\n      <td>NaN</td>\n      <td>NaN</td>\n      <td>POLYGON ((-2.85790992 11.24520969, -2.86123991...</td>\n    </tr>\n    <tr>\n      <th>4</th>\n      <td>Burkina Faso</td>\n      <td>333</td>\n      <td>Bale</td>\n      <td>2010_05</td>\n      <td>2010</td>\n      <td>5</td>\n      <td>1.0</td>\n      <td>0.350757</td>\n      <td>18.262919</td>\n      <td>2.203498</td>\n      <td>...</td>\n      <td>0.998085</td>\n      <td>4573.621</td>\n      <td>72.29648</td>\n      <td>229843.0</td>\n      <td>36752.87</td>\n      <td>63.09615</td>\n      <td>1.0</td>\n      <td>NaN</td>\n      <td>NaN</td>\n      <td>POLYGON ((-2.85790992 11.24520969, -2.86123991...</td>\n    </tr>\n    <tr>\n      <th>...</th>\n      <td>...</td>\n      <td>...</td>\n      <td>...</td>\n      <td>...</td>\n      <td>...</td>\n      <td>...</td>\n      <td>...</td>\n      <td>...</td>\n      <td>...</td>\n      <td>...</td>\n      <td>...</td>\n      <td>...</td>\n      <td>...</td>\n      <td>...</td>\n      <td>...</td>\n      <td>...</td>\n      <td>...</td>\n      <td>...</td>\n      <td>...</td>\n      <td>...</td>\n      <td>...</td>\n    </tr>\n    <tr>\n      <th>5395</th>\n      <td>Burkina Faso</td>\n      <td>318</td>\n      <td>Poni</td>\n      <td>2019_08</td>\n      <td>2019</td>\n      <td>8</td>\n      <td>1.0</td>\n      <td>0.588014</td>\n      <td>39.905847</td>\n      <td>21.007041</td>\n      <td>...</td>\n      <td>0.920985</td>\n      <td>7579.105</td>\n      <td>39.06642</td>\n      <td>361990.0</td>\n      <td>66720.17</td>\n      <td>82.21591</td>\n      <td>1.0</td>\n      <td>1.0</td>\n      <td>1.0</td>\n      <td>POLYGON ((-2.84680104 10.30283928, -2.84211564...</td>\n    </tr>\n    <tr>\n      <th>5396</th>\n      <td>Burkina Faso</td>\n      <td>318</td>\n      <td>Poni</td>\n      <td>2019_09</td>\n      <td>2019</td>\n      <td>9</td>\n      <td>1.0</td>\n      <td>0.661198</td>\n      <td>44.688380</td>\n      <td>19.097339</td>\n      <td>...</td>\n      <td>0.884181</td>\n      <td>7579.105</td>\n      <td>39.06642</td>\n      <td>361990.0</td>\n      <td>66720.17</td>\n      <td>82.21591</td>\n      <td>1.0</td>\n      <td>1.0</td>\n      <td>1.0</td>\n      <td>POLYGON ((-2.84680104 10.30283928, -2.84211564...</td>\n    </tr>\n    <tr>\n      <th>5397</th>\n      <td>Burkina Faso</td>\n      <td>318</td>\n      <td>Poni</td>\n      <td>2019_10</td>\n      <td>2019</td>\n      <td>10</td>\n      <td>1.0</td>\n      <td>0.644735</td>\n      <td>23.053920</td>\n      <td>24.003902</td>\n      <td>...</td>\n      <td>0.865220</td>\n      <td>7579.105</td>\n      <td>39.06642</td>\n      <td>361990.0</td>\n      <td>66720.17</td>\n      <td>82.21591</td>\n      <td>1.0</td>\n      <td>1.0</td>\n      <td>1.0</td>\n      <td>POLYGON ((-2.84680104 10.30283928, -2.84211564...</td>\n    </tr>\n    <tr>\n      <th>5398</th>\n      <td>Burkina Faso</td>\n      <td>318</td>\n      <td>Poni</td>\n      <td>2019_11</td>\n      <td>2019</td>\n      <td>11</td>\n      <td>1.0</td>\n      <td>0.527889</td>\n      <td>1.743696</td>\n      <td>10.242283</td>\n      <td>...</td>\n      <td>0.854907</td>\n      <td>7579.105</td>\n      <td>39.06642</td>\n      <td>361990.0</td>\n      <td>66720.17</td>\n      <td>82.21591</td>\n      <td>1.0</td>\n      <td>1.0</td>\n      <td>1.0</td>\n      <td>POLYGON ((-2.84680104 10.30283928, -2.84211564...</td>\n    </tr>\n    <tr>\n      <th>5399</th>\n      <td>Burkina Faso</td>\n      <td>318</td>\n      <td>Poni</td>\n      <td>2019_12</td>\n      <td>2019</td>\n      <td>12</td>\n      <td>1.0</td>\n      <td>0.402241</td>\n      <td>0.456311</td>\n      <td>1.326557</td>\n      <td>...</td>\n      <td>0.909241</td>\n      <td>7579.105</td>\n      <td>39.06642</td>\n      <td>361990.0</td>\n      <td>66720.17</td>\n      <td>82.21591</td>\n      <td>1.0</td>\n      <td>1.0</td>\n      <td>1.0</td>\n      <td>POLYGON ((-2.84680104 10.30283928, -2.84211564...</td>\n    </tr>\n  </tbody>\n</table>\n<p>5400 rows × 22 columns</p>\n</div>"
     },
     "execution_count": 12,
     "metadata": {},
     "output_type": "execute_result"
    }
   ],
   "source": [
    "# Read Food Security data\n",
    "FS = pd.read_csv('Data/FS_data.csv')\n",
    "FS"
   ],
   "metadata": {
    "collapsed": false,
    "pycharm": {
     "name": "#%%\n"
    }
   }
  },
  {
   "cell_type": "code",
   "execution_count": 13,
   "outputs": [
    {
     "data": {
      "text/plain": "       index        country  year  month  day          area        exposed\n0     1586.0      Australia  2000      2   18  3.167333e+08      38.298830\n1     1587.0     Madagascar  2000      2   17  2.285013e+08    4594.561996\n2     1587.0        Comoros  2000      2   17  0.000000e+00       0.000000\n3     1595.0         Turkey  2000      4    5  0.000000e+00       0.000000\n4     1595.0          Italy  2000      4    5  0.000000e+00       0.000000\n...      ...            ...   ...    ...  ...           ...            ...\n4822  4704.0       Thailand  2018     11   24  4.295975e+06       0.000000\n4823  4704.0           Laos  2018     11   24  7.963812e+07       0.000000\n4824  4704.0       Cambodia  2018     11   24  4.867521e+09  113716.602256\n4825  4711.0  United States  2018     12    5  2.046451e+09   27482.241092\n4826  4711.0         Mexico  2018     12    5  4.294695e+08    1339.246884\n\n[4827 rows x 7 columns]",
      "text/html": "<div>\n<style scoped>\n    .dataframe tbody tr th:only-of-type {\n        vertical-align: middle;\n    }\n\n    .dataframe tbody tr th {\n        vertical-align: top;\n    }\n\n    .dataframe thead th {\n        text-align: right;\n    }\n</style>\n<table border=\"1\" class=\"dataframe\">\n  <thead>\n    <tr style=\"text-align: right;\">\n      <th></th>\n      <th>index</th>\n      <th>country</th>\n      <th>year</th>\n      <th>month</th>\n      <th>day</th>\n      <th>area</th>\n      <th>exposed</th>\n    </tr>\n  </thead>\n  <tbody>\n    <tr>\n      <th>0</th>\n      <td>1586.0</td>\n      <td>Australia</td>\n      <td>2000</td>\n      <td>2</td>\n      <td>18</td>\n      <td>3.167333e+08</td>\n      <td>38.298830</td>\n    </tr>\n    <tr>\n      <th>1</th>\n      <td>1587.0</td>\n      <td>Madagascar</td>\n      <td>2000</td>\n      <td>2</td>\n      <td>17</td>\n      <td>2.285013e+08</td>\n      <td>4594.561996</td>\n    </tr>\n    <tr>\n      <th>2</th>\n      <td>1587.0</td>\n      <td>Comoros</td>\n      <td>2000</td>\n      <td>2</td>\n      <td>17</td>\n      <td>0.000000e+00</td>\n      <td>0.000000</td>\n    </tr>\n    <tr>\n      <th>3</th>\n      <td>1595.0</td>\n      <td>Turkey</td>\n      <td>2000</td>\n      <td>4</td>\n      <td>5</td>\n      <td>0.000000e+00</td>\n      <td>0.000000</td>\n    </tr>\n    <tr>\n      <th>4</th>\n      <td>1595.0</td>\n      <td>Italy</td>\n      <td>2000</td>\n      <td>4</td>\n      <td>5</td>\n      <td>0.000000e+00</td>\n      <td>0.000000</td>\n    </tr>\n    <tr>\n      <th>...</th>\n      <td>...</td>\n      <td>...</td>\n      <td>...</td>\n      <td>...</td>\n      <td>...</td>\n      <td>...</td>\n      <td>...</td>\n    </tr>\n    <tr>\n      <th>4822</th>\n      <td>4704.0</td>\n      <td>Thailand</td>\n      <td>2018</td>\n      <td>11</td>\n      <td>24</td>\n      <td>4.295975e+06</td>\n      <td>0.000000</td>\n    </tr>\n    <tr>\n      <th>4823</th>\n      <td>4704.0</td>\n      <td>Laos</td>\n      <td>2018</td>\n      <td>11</td>\n      <td>24</td>\n      <td>7.963812e+07</td>\n      <td>0.000000</td>\n    </tr>\n    <tr>\n      <th>4824</th>\n      <td>4704.0</td>\n      <td>Cambodia</td>\n      <td>2018</td>\n      <td>11</td>\n      <td>24</td>\n      <td>4.867521e+09</td>\n      <td>113716.602256</td>\n    </tr>\n    <tr>\n      <th>4825</th>\n      <td>4711.0</td>\n      <td>United States</td>\n      <td>2018</td>\n      <td>12</td>\n      <td>5</td>\n      <td>2.046451e+09</td>\n      <td>27482.241092</td>\n    </tr>\n    <tr>\n      <th>4826</th>\n      <td>4711.0</td>\n      <td>Mexico</td>\n      <td>2018</td>\n      <td>12</td>\n      <td>5</td>\n      <td>4.294695e+08</td>\n      <td>1339.246884</td>\n    </tr>\n  </tbody>\n</table>\n<p>4827 rows × 7 columns</p>\n</div>"
     },
     "execution_count": 13,
     "metadata": {},
     "output_type": "execute_result"
    }
   ],
   "source": [
    "# Read Flood Event data\n",
    "FE = pd.read_csv('Data/global_flooding_events.csv')\n",
    "FE"
   ],
   "metadata": {
    "collapsed": false,
    "pycharm": {
     "name": "#%%\n"
    }
   }
  },
  {
   "cell_type": "code",
   "execution_count": 14,
   "outputs": [],
   "source": [
    "# CLEAN FE DATA\n",
    "# Remove FE dates before 2010\n",
    "FE.drop(FE.index[FE['year'] == 2000], inplace=True)\n",
    "FE.drop(FE.index[FE['year'] == 2001], inplace=True)\n",
    "FE.drop(FE.index[FE['year'] == 2002], inplace=True)\n",
    "FE.drop(FE.index[FE['year'] == 2003], inplace=True)\n",
    "FE.drop(FE.index[FE['year'] == 2004], inplace=True)\n",
    "FE.drop(FE.index[FE['year'] == 2005], inplace=True)\n",
    "FE.drop(FE.index[FE['year'] == 2006], inplace=True)\n",
    "FE.drop(FE.index[FE['year'] == 2007], inplace=True)\n",
    "FE.drop(FE.index[FE['year'] == 2008], inplace=True)\n",
    "FE.drop(FE.index[FE['year'] == 2009], inplace=True)\n",
    "# Remove duplicates\n",
    "FE = FE.drop_duplicates(subset=['country', 'year', 'month'])\n",
    "### Try to group duplicates by average dates"
   ],
   "metadata": {
    "collapsed": false,
    "pycharm": {
     "name": "#%%\n"
    }
   }
  },
  {
   "cell_type": "code",
   "execution_count": 15,
   "outputs": [
    {
     "data": {
      "text/plain": "{'Burkina Faso'}"
     },
     "execution_count": 15,
     "metadata": {},
     "output_type": "execute_result"
    }
   ],
   "source": [
    "# Extract Flood events data that only includes FEW NET countries\n",
    "country_list = set(FS['country'].tolist()) # Extract list of FEWS NET countries\n",
    "FE2 = pd.DataFrame(columns=list(FE.columns))\n",
    "for i in FE.index:\n",
    "    for country in country_list:\n",
    "        if FE['country'][i] == country:\n",
    "            FE2 = FE2.append(FE.loc[i])\n",
    "FE2 = FE2.sort_values(by=['country', 'year', 'month', 'day'])\n",
    "FE2 = FE2.drop(['index', 'area', 'exposed'], axis=1)\n",
    "country_list"
   ],
   "metadata": {
    "collapsed": false,
    "pycharm": {
     "name": "#%%\n"
    }
   }
  },
  {
   "cell_type": "code",
   "execution_count": 16,
   "outputs": [],
   "source": [
    "# Create Timestamps (MONTHLY)\n",
    "# FS\n",
    "FS['date'] = FS['year'].astype(str) + '-' + FS['month'].astype(str)\n",
    "FS['datetime'] = pd.to_datetime(FS['date'])\n",
    "FS = FS.drop(['date'], axis=1)\n",
    "#FE\n",
    "FE2['date'] = FE2['year'].astype(str) + '-' + FE2['month'].astype(str) + '-' +FE2['day'].astype(str)\n",
    "FE2['datetime'] = pd.to_datetime(FE2['date'])\n",
    "FE2 = FE2.drop(['date'], axis=1)\n",
    "FE2['datetime_round'] = pd.to_datetime(FE2['datetime']).dt.to_period('M').dt.to_timestamp()\n",
    "FE2 = FE2.reset_index()\n",
    "FE2 = FE2.drop(['index'], axis=1)"
   ],
   "metadata": {
    "collapsed": false,
    "pycharm": {
     "name": "#%%\n"
    }
   }
  },
  {
   "cell_type": "code",
   "execution_count": 17,
   "outputs": [],
   "source": [
    "### SELECT COUNTRY OF INTEREST\n",
    "country = 'Burkina Faso'\n",
    "FS.drop(FS.loc[FS['country'] != country].index, inplace=True)\n",
    "FE2.drop(FE2.loc[FE2['country'] != country].index, inplace=True)\n",
    "# Reset index\n",
    "FS = FS.reset_index()\n",
    "FS = FS.drop(['index'], axis=1)\n",
    "FE2 = FE2.reset_index()\n",
    "FE2 = FE2.drop(['index'], axis=1)\n"
   ],
   "metadata": {
    "collapsed": false,
    "pycharm": {
     "name": "#%%\n"
    }
   }
  },
  {
   "cell_type": "markdown",
   "source": [
    "Something is wrong with the first event in Afghanistan dataset (code works for Burkina faso) - code needs error handling"
   ],
   "metadata": {
    "collapsed": false,
    "pycharm": {
     "name": "#%% md\n"
    }
   }
  },
  {
   "cell_type": "code",
   "execution_count": 18,
   "outputs": [],
   "source": [
    "# Filter FS data to only include data before/after/during each event\n",
    "FS2 = pd.DataFrame(columns=list(FS.columns))\n",
    "FS2['State'] = ''\n",
    "FS2['Flood Date'] = ''\n",
    "for event in FE2.index:\n",
    "    for i in FS.index:\n",
    "        if FS['country'][i] == FE2['country'][event]:\n",
    "            FS_date = FS['datetime'][i]\n",
    "            FE_date = FE2['datetime_round'][event]\n",
    "            before = FE_date - pd.DateOffset(months=1)\n",
    "            after = FE_date + pd.DateOffset(months=1)\n",
    "            if FS_date == before:\n",
    "                FS2 = FS2.append(FS.loc[i])\n",
    "                FS2.loc[i,['State']] = 'Before'\n",
    "                FS2.loc[i, ['Flood Date']] = FE2['datetime'][event]\n",
    "            elif FS_date == after:\n",
    "                FS2 = FS2.append(FS.loc[i])\n",
    "                FS2.loc[i,['State']] = 'After'\n",
    "                FS2.loc[i, ['Flood Date']] = FE2['datetime'][event]\n",
    "            else:\n",
    "                continue"
   ],
   "metadata": {
    "collapsed": false,
    "pycharm": {
     "name": "#%%\n"
    }
   }
  },
  {
   "cell_type": "code",
   "execution_count": 19,
   "outputs": [
    {
     "name": "stdout",
     "output_type": "stream",
     "text": [
      "['country', 'admin_code', 'admin_name', 'year_month', 'year', 'month', 'fews_ipc', 'ndvi_mean', 'rain_mean', 'et_mean', 'acled_count', 'acled_fatalities', 'p_staple_food', 'area', 'cropland_pct', 'pop', 'ruggedness_mean', 'pasture_pct', 'spacelag', 'timelag1', 'timelag2', 'geometry', 'datetime', 'State', 'Flood Date']\n"
     ]
    }
   ],
   "source": [
    "print(list(FS2.columns))\n",
    "# Reorder columns\n",
    "#"
   ],
   "metadata": {
    "collapsed": false,
    "pycharm": {
     "name": "#%%\n"
    }
   }
  },
  {
   "cell_type": "code",
   "execution_count": 20,
   "outputs": [
    {
     "name": "stdout",
     "output_type": "stream",
     "text": [
      "Time:  10.054839799999996\n"
     ]
    }
   ],
   "source": [
    "FS2 = FS2.reset_index()\n",
    "FS2 = FS2.drop(['index'], axis=1)\n",
    "# FS2['datetime'] = FS2['datetime'].astype(str)\n",
    "# FS2['Flood Date'] = FS2['Flood Date'].astype(str)\n",
    "# FS2 = FS2[['country', 'admin_code', 'admin_name', 'year_month', 'year', 'month', 'Flood Date', 'State', 'datetime',\n",
    "#            'fews_ipc', 'ndvi_mean', 'rain_mean', 'et_mean', 'acled_coun', 'acled_fata', 'p_staple_f', 'area',\n",
    "#            'cropland_p', 'pop', 'ruggedness', 'pasture_pc', 'spacelag', 'timelag1', 'timelag2', 'geometry']]\n",
    "\n",
    "# For GEE - before/after dates\n",
    "FE3 = FS2[['country', 'year', 'month', 'Flood Date', 'datetime', 'State']]\n",
    "FE3 = FE3.drop_duplicates()\n",
    "FE3 = FE3.reset_index()\n",
    "FE3 = FE3.drop(['index'], axis=1)\n",
    "\n",
    "# For GEE - flood dates only\n",
    "# FE4 = FE2[['datetime']]\n",
    "# FE4 = FE4.reset_index()\n",
    "# FE4 = FE4.drop(['index'], axis=1)\n",
    "\n",
    "stop = timeit.default_timer()\n",
    "print('Time: ', stop - start)"
   ],
   "metadata": {
    "collapsed": false,
    "pycharm": {
     "name": "#%%\n"
    }
   }
  },
  {
   "cell_type": "code",
   "execution_count": 21,
   "outputs": [],
   "source": [
    "# Save data\n",
    "FS2.to_csv('Data/FE_before_after_data.csv', index = False)\n",
    "FE3.to_csv('Data/FE_before_after_dates.csv', index = False)\n",
    "# FE4.to_csv('Data/GEE_flood_dates.csv', index = False)\n",
    "# FS2.to_file('Data/FS_before_after_data.shp')\n"
   ],
   "metadata": {
    "collapsed": false,
    "pycharm": {
     "name": "#%%\n"
    }
   }
  }
 ],
 "metadata": {
  "kernelspec": {
   "display_name": "Python 3",
   "language": "python",
   "name": "python3"
  },
  "language_info": {
   "codemirror_mode": {
    "name": "ipython",
    "version": 2
   },
   "file_extension": ".py",
   "mimetype": "text/x-python",
   "name": "python",
   "nbconvert_exporter": "python",
   "pygments_lexer": "ipython2",
   "version": "2.7.6"
  }
 },
 "nbformat": 4,
 "nbformat_minor": 0
}
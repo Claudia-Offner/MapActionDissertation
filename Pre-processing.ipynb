{
 "cells": [
  {
   "cell_type": "markdown",
   "source": [
    "## Pre-processing\n",
    "\n",
    "Extract all major flood dates for every country of the FEWS Network.\n",
    "Extract for each event, extract food security data for before & after (month)."
   ],
   "metadata": {
    "collapsed": false
   }
  },
  {
   "cell_type": "code",
   "execution_count": 1,
   "outputs": [
    {
     "data": {
      "text/plain": "'C:\\\\Users\\\\offne\\\\Documents\\\\Dissertation'"
     },
     "execution_count": 1,
     "metadata": {},
     "output_type": "execute_result"
    }
   ],
   "source": [
    "import pandas as pd\n",
    "import os\n",
    "os.getcwd()"
   ],
   "metadata": {
    "collapsed": false,
    "pycharm": {
     "name": "#%%\n"
    }
   }
  },
  {
   "cell_type": "code",
   "execution_count": 2,
   "outputs": [
    {
     "data": {
      "text/plain": "            country  admin_code  admin_name      centx      centy year_month  \\\n0       Afghanistan         202    Kandahar  65.709343  31.043618    2007_01   \n1       Afghanistan         202    Kandahar  65.709343  31.043618    2007_02   \n2       Afghanistan         202    Kandahar  65.709343  31.043618    2007_03   \n3       Afghanistan         202    Kandahar  65.709343  31.043618    2007_04   \n4       Afghanistan         202    Kandahar  65.709343  31.043618    2007_05   \n...             ...         ...         ...        ...        ...        ...   \n183591     Zimbabwe         612  Zvishavane  30.077970 -20.284340    2019_10   \n183592     Zimbabwe         612  Zvishavane  30.077970 -20.284340    2019_11   \n183593     Zimbabwe         612  Zvishavane  30.077970 -20.284340    2019_12   \n183594     Zimbabwe         612  Zvishavane  30.077970 -20.284340    2020_01   \n183595     Zimbabwe         612  Zvishavane  30.077970 -20.284340    2020_02   \n\n        year  month  fews_ipc  fews_ha  ...    et_mean   et_anom  acled_count  \\\n0       2007      1       NaN      NaN  ...   5.065768  0.173497            0   \n1       2007      2       NaN      NaN  ...   8.242891  2.817895            0   \n2       2007      3       NaN      NaN  ...   6.728089  2.613962            0   \n3       2007      4       NaN      NaN  ...   1.649312 -1.147484            0   \n4       2007      5       NaN      NaN  ...   1.178138 -0.137859            0   \n...      ...    ...       ...      ...  ...        ...       ...          ...   \n183591  2019     10       3.0      0.0  ...   3.571050 -1.086821            0   \n183592  2019     11       NaN      NaN  ...   6.007722 -1.884687            0   \n183593  2019     12       NaN      NaN  ...  12.198760 -0.210147            0   \n183594  2020      1       NaN      NaN  ...  17.411580 -0.404875            0   \n183595  2020      2       2.0      1.0  ...  23.202410  4.326525            0   \n\n        acled_fatalities  p_staple_food         area  cropland_pct  \\\n0                      0       0.630214  54174.53381      1.417796   \n1                      0       0.630214  54174.53381      1.417796   \n2                      0       0.631055  54174.53381      1.417796   \n3                      0       0.687716  54174.53381      1.417796   \n4                      0       0.743923  54174.53381      1.417796   \n...                  ...            ...          ...           ...   \n183591                 0       1.514037   2640.70400     18.077180   \n183592                 0       1.555623   2640.70400     18.077180   \n183593                 0       1.592231   2640.70400     18.077180   \n183594                 0       1.697524   2640.70400     18.077180   \n183595                 0       1.777084   2640.70400     18.077180   \n\n               pop  ruggedness_mean  pasture_pct  \n0       1161872.35      101047.1587    16.246279  \n1       1161872.35      101047.1587    16.246279  \n2       1161872.35      101047.1587    16.246279  \n3       1161872.35      101047.1587    16.246279  \n4       1161872.35      101047.1587    16.246279  \n...            ...              ...          ...  \n183591   156612.00      177041.2000    50.382350  \n183592   156612.00      177041.2000    50.382350  \n183593   156612.00      177041.2000    50.382350  \n183594   159843.90      177041.2000    50.382350  \n183595   159843.90      177041.2000    50.382350  \n\n[183596 rows x 28 columns]",
      "text/html": "<div>\n<style scoped>\n    .dataframe tbody tr th:only-of-type {\n        vertical-align: middle;\n    }\n\n    .dataframe tbody tr th {\n        vertical-align: top;\n    }\n\n    .dataframe thead th {\n        text-align: right;\n    }\n</style>\n<table border=\"1\" class=\"dataframe\">\n  <thead>\n    <tr style=\"text-align: right;\">\n      <th></th>\n      <th>country</th>\n      <th>admin_code</th>\n      <th>admin_name</th>\n      <th>centx</th>\n      <th>centy</th>\n      <th>year_month</th>\n      <th>year</th>\n      <th>month</th>\n      <th>fews_ipc</th>\n      <th>fews_ha</th>\n      <th>...</th>\n      <th>et_mean</th>\n      <th>et_anom</th>\n      <th>acled_count</th>\n      <th>acled_fatalities</th>\n      <th>p_staple_food</th>\n      <th>area</th>\n      <th>cropland_pct</th>\n      <th>pop</th>\n      <th>ruggedness_mean</th>\n      <th>pasture_pct</th>\n    </tr>\n  </thead>\n  <tbody>\n    <tr>\n      <th>0</th>\n      <td>Afghanistan</td>\n      <td>202</td>\n      <td>Kandahar</td>\n      <td>65.709343</td>\n      <td>31.043618</td>\n      <td>2007_01</td>\n      <td>2007</td>\n      <td>1</td>\n      <td>NaN</td>\n      <td>NaN</td>\n      <td>...</td>\n      <td>5.065768</td>\n      <td>0.173497</td>\n      <td>0</td>\n      <td>0</td>\n      <td>0.630214</td>\n      <td>54174.53381</td>\n      <td>1.417796</td>\n      <td>1161872.35</td>\n      <td>101047.1587</td>\n      <td>16.246279</td>\n    </tr>\n    <tr>\n      <th>1</th>\n      <td>Afghanistan</td>\n      <td>202</td>\n      <td>Kandahar</td>\n      <td>65.709343</td>\n      <td>31.043618</td>\n      <td>2007_02</td>\n      <td>2007</td>\n      <td>2</td>\n      <td>NaN</td>\n      <td>NaN</td>\n      <td>...</td>\n      <td>8.242891</td>\n      <td>2.817895</td>\n      <td>0</td>\n      <td>0</td>\n      <td>0.630214</td>\n      <td>54174.53381</td>\n      <td>1.417796</td>\n      <td>1161872.35</td>\n      <td>101047.1587</td>\n      <td>16.246279</td>\n    </tr>\n    <tr>\n      <th>2</th>\n      <td>Afghanistan</td>\n      <td>202</td>\n      <td>Kandahar</td>\n      <td>65.709343</td>\n      <td>31.043618</td>\n      <td>2007_03</td>\n      <td>2007</td>\n      <td>3</td>\n      <td>NaN</td>\n      <td>NaN</td>\n      <td>...</td>\n      <td>6.728089</td>\n      <td>2.613962</td>\n      <td>0</td>\n      <td>0</td>\n      <td>0.631055</td>\n      <td>54174.53381</td>\n      <td>1.417796</td>\n      <td>1161872.35</td>\n      <td>101047.1587</td>\n      <td>16.246279</td>\n    </tr>\n    <tr>\n      <th>3</th>\n      <td>Afghanistan</td>\n      <td>202</td>\n      <td>Kandahar</td>\n      <td>65.709343</td>\n      <td>31.043618</td>\n      <td>2007_04</td>\n      <td>2007</td>\n      <td>4</td>\n      <td>NaN</td>\n      <td>NaN</td>\n      <td>...</td>\n      <td>1.649312</td>\n      <td>-1.147484</td>\n      <td>0</td>\n      <td>0</td>\n      <td>0.687716</td>\n      <td>54174.53381</td>\n      <td>1.417796</td>\n      <td>1161872.35</td>\n      <td>101047.1587</td>\n      <td>16.246279</td>\n    </tr>\n    <tr>\n      <th>4</th>\n      <td>Afghanistan</td>\n      <td>202</td>\n      <td>Kandahar</td>\n      <td>65.709343</td>\n      <td>31.043618</td>\n      <td>2007_05</td>\n      <td>2007</td>\n      <td>5</td>\n      <td>NaN</td>\n      <td>NaN</td>\n      <td>...</td>\n      <td>1.178138</td>\n      <td>-0.137859</td>\n      <td>0</td>\n      <td>0</td>\n      <td>0.743923</td>\n      <td>54174.53381</td>\n      <td>1.417796</td>\n      <td>1161872.35</td>\n      <td>101047.1587</td>\n      <td>16.246279</td>\n    </tr>\n    <tr>\n      <th>...</th>\n      <td>...</td>\n      <td>...</td>\n      <td>...</td>\n      <td>...</td>\n      <td>...</td>\n      <td>...</td>\n      <td>...</td>\n      <td>...</td>\n      <td>...</td>\n      <td>...</td>\n      <td>...</td>\n      <td>...</td>\n      <td>...</td>\n      <td>...</td>\n      <td>...</td>\n      <td>...</td>\n      <td>...</td>\n      <td>...</td>\n      <td>...</td>\n      <td>...</td>\n      <td>...</td>\n    </tr>\n    <tr>\n      <th>183591</th>\n      <td>Zimbabwe</td>\n      <td>612</td>\n      <td>Zvishavane</td>\n      <td>30.077970</td>\n      <td>-20.284340</td>\n      <td>2019_10</td>\n      <td>2019</td>\n      <td>10</td>\n      <td>3.0</td>\n      <td>0.0</td>\n      <td>...</td>\n      <td>3.571050</td>\n      <td>-1.086821</td>\n      <td>0</td>\n      <td>0</td>\n      <td>1.514037</td>\n      <td>2640.70400</td>\n      <td>18.077180</td>\n      <td>156612.00</td>\n      <td>177041.2000</td>\n      <td>50.382350</td>\n    </tr>\n    <tr>\n      <th>183592</th>\n      <td>Zimbabwe</td>\n      <td>612</td>\n      <td>Zvishavane</td>\n      <td>30.077970</td>\n      <td>-20.284340</td>\n      <td>2019_11</td>\n      <td>2019</td>\n      <td>11</td>\n      <td>NaN</td>\n      <td>NaN</td>\n      <td>...</td>\n      <td>6.007722</td>\n      <td>-1.884687</td>\n      <td>0</td>\n      <td>0</td>\n      <td>1.555623</td>\n      <td>2640.70400</td>\n      <td>18.077180</td>\n      <td>156612.00</td>\n      <td>177041.2000</td>\n      <td>50.382350</td>\n    </tr>\n    <tr>\n      <th>183593</th>\n      <td>Zimbabwe</td>\n      <td>612</td>\n      <td>Zvishavane</td>\n      <td>30.077970</td>\n      <td>-20.284340</td>\n      <td>2019_12</td>\n      <td>2019</td>\n      <td>12</td>\n      <td>NaN</td>\n      <td>NaN</td>\n      <td>...</td>\n      <td>12.198760</td>\n      <td>-0.210147</td>\n      <td>0</td>\n      <td>0</td>\n      <td>1.592231</td>\n      <td>2640.70400</td>\n      <td>18.077180</td>\n      <td>156612.00</td>\n      <td>177041.2000</td>\n      <td>50.382350</td>\n    </tr>\n    <tr>\n      <th>183594</th>\n      <td>Zimbabwe</td>\n      <td>612</td>\n      <td>Zvishavane</td>\n      <td>30.077970</td>\n      <td>-20.284340</td>\n      <td>2020_01</td>\n      <td>2020</td>\n      <td>1</td>\n      <td>NaN</td>\n      <td>NaN</td>\n      <td>...</td>\n      <td>17.411580</td>\n      <td>-0.404875</td>\n      <td>0</td>\n      <td>0</td>\n      <td>1.697524</td>\n      <td>2640.70400</td>\n      <td>18.077180</td>\n      <td>159843.90</td>\n      <td>177041.2000</td>\n      <td>50.382350</td>\n    </tr>\n    <tr>\n      <th>183595</th>\n      <td>Zimbabwe</td>\n      <td>612</td>\n      <td>Zvishavane</td>\n      <td>30.077970</td>\n      <td>-20.284340</td>\n      <td>2020_02</td>\n      <td>2020</td>\n      <td>2</td>\n      <td>2.0</td>\n      <td>1.0</td>\n      <td>...</td>\n      <td>23.202410</td>\n      <td>4.326525</td>\n      <td>0</td>\n      <td>0</td>\n      <td>1.777084</td>\n      <td>2640.70400</td>\n      <td>18.077180</td>\n      <td>159843.90</td>\n      <td>177041.2000</td>\n      <td>50.382350</td>\n    </tr>\n  </tbody>\n</table>\n<p>183596 rows × 28 columns</p>\n</div>"
     },
     "execution_count": 2,
     "metadata": {},
     "output_type": "execute_result"
    }
   ],
   "source": [
    "# Read Food Security data\n",
    "FS = pd.read_csv('Data\\predicting_food_crises_data.csv')\n",
    "FS"
   ],
   "metadata": {
    "collapsed": false,
    "pycharm": {
     "name": "#%%\n"
    }
   }
  },
  {
   "cell_type": "code",
   "execution_count": 3,
   "outputs": [
    {
     "data": {
      "text/plain": "       index        country  year  month  day          area        exposed\n0     1586.0      Australia  2000      2   18  3.167333e+08      38.298830\n1     1587.0     Madagascar  2000      2   17  2.285013e+08    4594.561996\n2     1587.0        Comoros  2000      2   17  0.000000e+00       0.000000\n3     1595.0         Turkey  2000      4    5  0.000000e+00       0.000000\n4     1595.0          Italy  2000      4    5  0.000000e+00       0.000000\n...      ...            ...   ...    ...  ...           ...            ...\n4822  4704.0       Thailand  2018     11   24  4.295975e+06       0.000000\n4823  4704.0           Laos  2018     11   24  7.963812e+07       0.000000\n4824  4704.0       Cambodia  2018     11   24  4.867521e+09  113716.602256\n4825  4711.0  United States  2018     12    5  2.046451e+09   27482.241092\n4826  4711.0         Mexico  2018     12    5  4.294695e+08    1339.246884\n\n[4827 rows x 7 columns]",
      "text/html": "<div>\n<style scoped>\n    .dataframe tbody tr th:only-of-type {\n        vertical-align: middle;\n    }\n\n    .dataframe tbody tr th {\n        vertical-align: top;\n    }\n\n    .dataframe thead th {\n        text-align: right;\n    }\n</style>\n<table border=\"1\" class=\"dataframe\">\n  <thead>\n    <tr style=\"text-align: right;\">\n      <th></th>\n      <th>index</th>\n      <th>country</th>\n      <th>year</th>\n      <th>month</th>\n      <th>day</th>\n      <th>area</th>\n      <th>exposed</th>\n    </tr>\n  </thead>\n  <tbody>\n    <tr>\n      <th>0</th>\n      <td>1586.0</td>\n      <td>Australia</td>\n      <td>2000</td>\n      <td>2</td>\n      <td>18</td>\n      <td>3.167333e+08</td>\n      <td>38.298830</td>\n    </tr>\n    <tr>\n      <th>1</th>\n      <td>1587.0</td>\n      <td>Madagascar</td>\n      <td>2000</td>\n      <td>2</td>\n      <td>17</td>\n      <td>2.285013e+08</td>\n      <td>4594.561996</td>\n    </tr>\n    <tr>\n      <th>2</th>\n      <td>1587.0</td>\n      <td>Comoros</td>\n      <td>2000</td>\n      <td>2</td>\n      <td>17</td>\n      <td>0.000000e+00</td>\n      <td>0.000000</td>\n    </tr>\n    <tr>\n      <th>3</th>\n      <td>1595.0</td>\n      <td>Turkey</td>\n      <td>2000</td>\n      <td>4</td>\n      <td>5</td>\n      <td>0.000000e+00</td>\n      <td>0.000000</td>\n    </tr>\n    <tr>\n      <th>4</th>\n      <td>1595.0</td>\n      <td>Italy</td>\n      <td>2000</td>\n      <td>4</td>\n      <td>5</td>\n      <td>0.000000e+00</td>\n      <td>0.000000</td>\n    </tr>\n    <tr>\n      <th>...</th>\n      <td>...</td>\n      <td>...</td>\n      <td>...</td>\n      <td>...</td>\n      <td>...</td>\n      <td>...</td>\n      <td>...</td>\n    </tr>\n    <tr>\n      <th>4822</th>\n      <td>4704.0</td>\n      <td>Thailand</td>\n      <td>2018</td>\n      <td>11</td>\n      <td>24</td>\n      <td>4.295975e+06</td>\n      <td>0.000000</td>\n    </tr>\n    <tr>\n      <th>4823</th>\n      <td>4704.0</td>\n      <td>Laos</td>\n      <td>2018</td>\n      <td>11</td>\n      <td>24</td>\n      <td>7.963812e+07</td>\n      <td>0.000000</td>\n    </tr>\n    <tr>\n      <th>4824</th>\n      <td>4704.0</td>\n      <td>Cambodia</td>\n      <td>2018</td>\n      <td>11</td>\n      <td>24</td>\n      <td>4.867521e+09</td>\n      <td>113716.602256</td>\n    </tr>\n    <tr>\n      <th>4825</th>\n      <td>4711.0</td>\n      <td>United States</td>\n      <td>2018</td>\n      <td>12</td>\n      <td>5</td>\n      <td>2.046451e+09</td>\n      <td>27482.241092</td>\n    </tr>\n    <tr>\n      <th>4826</th>\n      <td>4711.0</td>\n      <td>Mexico</td>\n      <td>2018</td>\n      <td>12</td>\n      <td>5</td>\n      <td>4.294695e+08</td>\n      <td>1339.246884</td>\n    </tr>\n  </tbody>\n</table>\n<p>4827 rows × 7 columns</p>\n</div>"
     },
     "execution_count": 3,
     "metadata": {},
     "output_type": "execute_result"
    }
   ],
   "source": [
    "# Read Flood Event data\n",
    "FE = pd.read_csv('Data\\global_flooding_events.csv')\n",
    "FE"
   ],
   "metadata": {
    "collapsed": false,
    "pycharm": {
     "name": "#%%\n"
    }
   }
  },
  {
   "cell_type": "code",
   "execution_count": 4,
   "outputs": [],
   "source": [
    "# Extract list of FEWS NET countries\n",
    "country_list = set(FS['country'].tolist())"
   ],
   "metadata": {
    "collapsed": false,
    "pycharm": {
     "name": "#%%\n"
    }
   }
  },
  {
   "cell_type": "code",
   "execution_count": 5,
   "outputs": [],
   "source": [
    "# Extract Flood events data that only includes FEW NET country\n",
    "FE2 = pd.DataFrame(columns=list(FE.columns))\n",
    "for i in FE.index:\n",
    "    for country in country_list:\n",
    "        if FE['country'][i] == country:\n",
    "            FE2 = FE2.append(FE.loc[i])\n",
    "FE2 = FE2.sort_values(by=['country', 'year', 'month', 'day'])\n",
    "FE2 = FE2.drop(['index', 'area', 'exposed'], axis=1)"
   ],
   "metadata": {
    "collapsed": false,
    "pycharm": {
     "name": "#%%\n"
    }
   }
  },
  {
   "cell_type": "code",
   "execution_count": 6,
   "outputs": [],
   "source": [
    "# Create Timestamps for each Dataset (MONTHLY)\n",
    "FS['date'] = FS['year'].astype(str) + '-' + FS['month'].astype(str)\n",
    "FS['datetime'] = pd.to_datetime(FS['date'])\n",
    "FS = FS.drop(['date'], axis=1)\n",
    "\n",
    "FE2['date'] = FE2['year'].astype(str) + '-' + FE2['month'].astype(str) + '-' +FE2['day'].astype(str)\n",
    "FE2['datetime'] = pd.to_datetime(FE2['date'])\n",
    "FE2 = FE2.drop(['date'], axis=1)\n",
    "# Round flood dates to be monthly\n",
    "FE2['datetime_round'] = FE2['datetime'] + pd.offsets.MonthBegin(-1)\n",
    "# Remove dates before 2009\n",
    "FE2.drop(FE2.index[FE2['year'] == 2003], inplace=True)\n",
    "FE2.drop(FE2.index[FE2['year'] == 2004], inplace=True)\n",
    "FE2.drop(FE2.index[FE2['year'] == 2005], inplace=True)\n",
    "FE2.drop(FE2.index[FE2['year'] == 2006], inplace=True)\n",
    "FE2.drop(FE2.index[FE2['year'] == 2007], inplace=True)\n",
    "FE2.drop(FE2.index[FE2['year'] == 2008], inplace=True)\n"
   ],
   "metadata": {
    "collapsed": false,
    "pycharm": {
     "name": "#%%\n"
    }
   }
  },
  {
   "cell_type": "code",
   "execution_count": 7,
   "outputs": [],
   "source": [
    "# # Filter FS data to only include data before/after/during each event\n",
    "# FS2 = pd.DataFrame(columns=list(FS.columns))\n",
    "# for i in FS.index:\n",
    "#     for event in FE2.index:\n",
    "#         if FS['country'][i] == FE2['country'][event]:\n",
    "#             FS_date = FS['datetime'][i]\n",
    "#             FE_date = FE2['datetime_round'][event]\n",
    "#             before = FE_date + pd.DateOffset(months=1)\n",
    "#             after = FE_date - pd.DateOffset(months=1)\n",
    "#             if FS_date == before: # or FS_date == FE_date\n",
    "#                 FS2.append(FS.loc[i])\n",
    "#             elif FS_date == after:\n",
    "#                 FS2.append(FS.loc[i])\n",
    "#             else:\n",
    "#                 continue\n",
    "\n",
    "# dataset size approx 500\n"
   ],
   "metadata": {
    "collapsed": false,
    "pycharm": {
     "name": "#%%\n"
    }
   }
  },
  {
   "cell_type": "code",
   "execution_count": 8,
   "outputs": [],
   "source": [
    "# Save data\n",
    "# FS2.to_csv('Data/FS_before_after.csv', index = False)\n"
   ],
   "metadata": {
    "collapsed": false,
    "pycharm": {
     "name": "#%%\n"
    }
   }
  }
 ],
 "metadata": {
  "kernelspec": {
   "display_name": "Python 3",
   "language": "python",
   "name": "python3"
  },
  "language_info": {
   "codemirror_mode": {
    "name": "ipython",
    "version": 2
   },
   "file_extension": ".py",
   "mimetype": "text/x-python",
   "name": "python",
   "nbconvert_exporter": "python",
   "pygments_lexer": "ipython2",
   "version": "2.7.6"
  }
 },
 "nbformat": 4,
 "nbformat_minor": 0
}
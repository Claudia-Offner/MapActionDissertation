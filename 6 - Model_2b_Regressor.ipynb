{
 "cells": [
  {
   "cell_type": "markdown",
   "source": [
    "# Model 2: Regression Algorithm\n",
    "\n",
    "Regression on how flooding influence food crisis"
   ],
   "metadata": {
    "collapsed": false
   }
  },
  {
   "cell_type": "code",
   "execution_count": 246,
   "outputs": [],
   "source": [
    "# import libraries: standard env, +pysal, + jupyter, + matplotlib\n",
    "#### import libraries ####\n",
    "import os\n",
    "import geopandas as gpd\n",
    "import pandas as pd\n",
    "import numpy as np\n",
    "from sklearn.model_selection import train_test_split\n",
    "from sklearn.impute import SimpleImputer\n",
    "from sklearn.preprocessing import MinMaxScaler\n",
    "from sklearn.ensemble import RandomForestRegressor\n",
    "from sklearn.model_selection import GridSearchCV\n",
    "import math\n",
    "from sklearn.metrics import mean_squared_error\n",
    "from sklearn.metrics import confusion_matrix\n",
    "import seaborn as sns\n",
    "import matplotlib.pyplot as plt\n",
    "import timeit\n",
    "os.getcwd()\n",
    "\n",
    "start = timeit.default_timer()"
   ],
   "metadata": {
    "collapsed": false,
    "pycharm": {
     "name": "#%%\n"
    }
   }
  },
  {
   "cell_type": "markdown",
   "source": [
    "## 1. Read Data"
   ],
   "metadata": {
    "collapsed": false,
    "pycharm": {
     "name": "#%% md\n"
    }
   }
  },
  {
   "cell_type": "code",
   "execution_count": 247,
   "outputs": [],
   "source": [
    "# Read FS data\n",
    "FS = pd.read_csv('Data/FS_flood_differenced_data.csv')\n"
   ],
   "metadata": {
    "collapsed": false,
    "pycharm": {
     "name": "#%%\n"
    }
   }
  },
  {
   "cell_type": "markdown",
   "source": [
    "## 2. Model Preprocessing"
   ],
   "metadata": {
    "collapsed": false
   }
  },
  {
   "cell_type": "code",
   "execution_count": 249,
   "outputs": [],
   "source": [
    "# Drop unnecessary columns (i.e. space/time no longer need because lags are accounted for)\n",
    "data = FS.drop(['country', 'admin_name', 'flood_date'], axis=1)"
   ],
   "metadata": {
    "collapsed": false,
    "pycharm": {
     "name": "#%%\n"
    }
   }
  },
  {
   "cell_type": "markdown",
   "source": [
    "**Addressing missing values**\n",
    "\n",
    " - If 25% of a columns data is NA, that column is removed\n",
    " - For all other missing values, the column mean is used - BUT need a better option!"
   ],
   "metadata": {
    "collapsed": false,
    "pycharm": {
     "name": "#%% md\n"
    }
   }
  },
  {
   "cell_type": "code",
   "execution_count": 266,
   "outputs": [
    {
     "name": "stdout",
     "output_type": "stream",
     "text": [
      "ndvi_mean           0\n",
      "rain_mean           0\n",
      "et_mean             0\n",
      "acled_count         0\n",
      "acled_fatalities    0\n",
      "p_staple_food       0\n",
      "area                0\n",
      "cropland_pct        0\n",
      "pop                 0\n",
      "ruggedness_mean     0\n",
      "pasture_pct         0\n",
      "flooding_diff       0\n",
      "spacelag            0\n",
      "timelag1            0\n",
      "timelag2            0\n",
      "class               0\n",
      "dtype: int64\n"
     ]
    }
   ],
   "source": [
    "# Establish how much data is missing\n",
    "print(data.isnull().sum().sort_values(ascending=False).head())\n",
    "\n",
    "# Find the columns with large amounts of na values\n",
    "variables_na = []\n",
    "for i in data:\n",
    "    if data[i].isnull().sum() > 6900: # change this according to be 25% of df\n",
    "        str(i)\n",
    "        variables_na.append(i)\n",
    "data = data.drop(columns=variables_na) #delete those"
   ],
   "metadata": {
    "collapsed": false,
    "pycharm": {
     "name": "#%%\n"
    }
   }
  },
  {
   "cell_type": "code",
   "execution_count": 265,
   "outputs": [
    {
     "data": {
      "text/plain": "ndvi_mean           0\nrain_mean           0\net_mean             0\nacled_count         0\nacled_fatalities    0\np_staple_food       0\narea                0\ncropland_pct        0\npop                 0\nruggedness_mean     0\npasture_pct         0\nflooding_diff       0\nspacelag            0\ntimelag1            0\ntimelag2            0\nclass               0\ndtype: int64"
     },
     "execution_count": 265,
     "metadata": {},
     "output_type": "execute_result"
    }
   ],
   "source": [
    "# Impute the missing values using SimpleImputer in sklearn.impute\n",
    "imp = SimpleImputer(missing_values=np.nan, strategy='mean')\n",
    "imp.fit(data)\n",
    "\n",
    "data = pd.DataFrame(data=imp.transform(data), columns=data.columns)\n",
    "\n",
    "# Check if there is still missing data\n",
    "data.isnull().sum().sort_values(ascending=False).head()"
   ],
   "metadata": {
    "collapsed": false,
    "pycharm": {
     "name": "#%%\n"
    }
   }
  },
  {
   "cell_type": "markdown",
   "source": [
    "**Normalize the data set**\n",
    "- Scales each column to values between 0-1 to be better interpreted by the models\n",
    "- CHECK: how normalisation impacts model accuracy"
   ],
   "metadata": {
    "collapsed": false,
    "pycharm": {
     "name": "#%% md\n"
    }
   }
  },
  {
   "cell_type": "code",
   "execution_count": 252,
   "outputs": [],
   "source": [
    "fews_ipc = data['fews_ipc']\n",
    "data = data.drop(['fews_ipc'], axis=1)\n",
    "scaler = MinMaxScaler()\n",
    "data = gpd.GeoDataFrame(scaler.fit_transform(data), columns=data.columns, index=FS.index)\n",
    "data.head()\n",
    "data.describe()\n",
    "data['class'] = fews_ipc\n"
   ],
   "metadata": {
    "collapsed": false,
    "pycharm": {
     "name": "#%%\n"
    }
   }
  },
  {
   "cell_type": "markdown",
   "source": [
    "## 3. Random Forest Classification"
   ],
   "metadata": {
    "collapsed": false
   }
  },
  {
   "cell_type": "code",
   "execution_count": 254,
   "outputs": [],
   "source": [
    "# Load functions\n",
    "\n",
    "# For plotting confusion matrix\n",
    "def plot_confusion_matrix(train_pred, train, dom):\n",
    "    classes = {'Food Security': 0, 'Food Insecurity': 1}\n",
    "    cf = confusion_matrix(train_pred,train)\n",
    "    sns.heatmap(cf,annot=True,yticklabels=classes,xticklabels=classes,cmap='Blues', fmt='g')\n",
    "    plt.title(f'{dom} Confusion matrix')\n",
    "    plt.tight_layout()\n",
    "    plt.figure(figsize=(1, 2), dpi=80)\n",
    "    plt.show()\n"
   ],
   "metadata": {
    "collapsed": false,
    "pycharm": {
     "name": "#%%\n"
    }
   }
  },
  {
   "cell_type": "markdown",
   "source": [
    "**Randomly split data in training and testing sets**"
   ],
   "metadata": {
    "collapsed": false,
    "pycharm": {
     "name": "#%% md\n"
    }
   }
  },
  {
   "cell_type": "code",
   "execution_count": 255,
   "outputs": [],
   "source": [
    "# A. SPLIT TRAIN/TEST SETS\n",
    "# Random 70% split in train and test sets (time series is accounted for by lags)\n",
    "# split data into x & y\n",
    "y = data['class']\n",
    "x = data.drop(columns=['class'])\n",
    "x_train, x_test, y_train, y_test = train_test_split(x, y, test_size=0.30, random_state=42)"
   ],
   "metadata": {
    "collapsed": false,
    "pycharm": {
     "name": "#%%\n"
    }
   }
  },
  {
   "cell_type": "markdown",
   "source": [
    "**Tune hyper-parameters**\n",
    "* n_estimators = Number of trees in random forest\n",
    "* max_features = Number of features to consider at every split\n",
    "* max_depth = Maximum number of levels in tree\n",
    "* min_samples_leaf = Minimum number of samples required at each leaf node\n",
    "* min_samples_split = Minimum number of samples required to split a node\n",
    "* bootstrap = Method of selecting samples for training each tree\n",
    "\n",
    "Found: {'bootstrap': False,\n",
    " 'max_depth': 72,\n",
    " 'max_features': 'auto',\n",
    " 'min_samples_leaf': 2,\n",
    " 'min_samples_split': 2,\n",
    " 'n_estimators': 72}"
   ],
   "metadata": {
    "collapsed": false,
    "pycharm": {
     "name": "#%% md\n"
    }
   }
  },
  {
   "cell_type": "code",
   "execution_count": 256,
   "outputs": [],
   "source": [
    "# param_grid = {'n_estimators': [int(x) for x in np.linspace(start = 10, stop = 80, num = 10)],\n",
    "#                'max_features': ['auto', 'sqrt'],\n",
    "#                'max_depth': [int(x) for x in np.linspace(start = 10, stop = 80, num = 10)],\n",
    "#                'min_samples_split': [2, 5, 10],\n",
    "#                'min_samples_leaf': [2, 5, 10],\n",
    "#                'bootstrap': [True, False]}\n",
    "#\n",
    "# # Create a based model\n",
    "# rf = RandomForestRegressor()\n",
    "#\n",
    "# # Instantiate the grid search model\n",
    "# rf_Grid = GridSearchCV(estimator = rf, param_grid = param_grid, cv = 3, verbose=2, n_jobs = 4)\n",
    "# rf_Grid.fit(x_train,y_train)\n",
    "#\n",
    "# # Get best parameters\n",
    "# rf_Grid.best_params_\n"
   ],
   "metadata": {
    "collapsed": false,
    "pycharm": {
     "name": "#%%\n"
    }
   }
  },
  {
   "cell_type": "markdown",
   "source": [
    "**Fit Optimised Model**"
   ],
   "metadata": {
    "collapsed": false,
    "pycharm": {
     "name": "#%% md\n",
     "is_executing": true
    }
   }
  },
  {
   "cell_type": "code",
   "execution_count": 257,
   "outputs": [
    {
     "data": {
      "text/plain": "RandomForestRegressor()"
     },
     "execution_count": 257,
     "metadata": {},
     "output_type": "execute_result"
    }
   ],
   "source": [
    "# C. RESULTS\n",
    "# Fit optimised model\n",
    "clf=RandomForestRegressor()\n",
    "clf.fit(x_train,y_train)"
   ],
   "metadata": {
    "collapsed": false,
    "pycharm": {
     "name": "#%%\n"
    }
   }
  },
  {
   "cell_type": "markdown",
   "source": [
    "**Evaluate Model**\n",
    "* The R square of our RF model is 0.08355, which means that the percentage of explained variance is approx 8.355%"
   ],
   "metadata": {
    "collapsed": false,
    "pycharm": {
     "name": "#%% md\n",
     "is_executing": true
    }
   }
  },
  {
   "cell_type": "code",
   "execution_count": 258,
   "outputs": [
    {
     "data": {
      "text/plain": "0.1497302107328724"
     },
     "execution_count": 258,
     "metadata": {},
     "output_type": "execute_result"
    }
   ],
   "source": [
    "# Evaluate performance\n",
    "y_train_pred = clf.predict(x_train)\n",
    "y_test_pred = clf.predict(x_test)\n",
    "clf.score(x_test, y_test) # R squared value of model"
   ],
   "metadata": {
    "collapsed": false,
    "pycharm": {
     "name": "#%%\n"
    }
   }
  },
  {
   "cell_type": "code",
   "execution_count": 259,
   "outputs": [
    {
     "name": "stdout",
     "output_type": "stream",
     "text": [
      "Accuracy for Training Random Forest 10.833103630043391 %\n"
     ]
    }
   ],
   "source": [
    "mse = mean_squared_error(y_train_pred,y_train)\n",
    "rmse = math.sqrt(mse)\n",
    "print('Accuracy for Training Random Forest',100*max(0,rmse), '%')"
   ],
   "metadata": {
    "collapsed": false,
    "pycharm": {
     "name": "#%%\n"
    }
   }
  },
  {
   "cell_type": "code",
   "execution_count": 260,
   "outputs": [
    {
     "name": "stdout",
     "output_type": "stream",
     "text": [
      "Accuracy for Testing Random Forest 19.784171208840466 %\n"
     ]
    }
   ],
   "source": [
    "mse = mean_squared_error(y_test_pred,y_test)\n",
    "rmse = math.sqrt(mse)\n",
    "print('Accuracy for Testing Random Forest',100*max(0,rmse), '%')"
   ],
   "metadata": {
    "collapsed": false,
    "pycharm": {
     "name": "#%%\n"
    }
   }
  },
  {
   "cell_type": "code",
   "execution_count": 261,
   "outputs": [
    {
     "data": {
      "text/plain": "<AxesSubplot:xlabel='class'>"
     },
     "execution_count": 261,
     "metadata": {},
     "output_type": "execute_result"
    },
    {
     "data": {
      "text/plain": "<Figure size 432x288 with 1 Axes>",
      "image/png": "[encoded data removed]"
     },
     "metadata": {
      "needs_background": "light"
     },
     "output_type": "display_data"
    }
   ],
   "source": [
    "sns.regplot(x=y_train, y=y_train_pred, ci=None, color='b')"
   ],
   "metadata": {
    "collapsed": false,
    "pycharm": {
     "name": "#%%\n"
    }
   }
  },
  {
   "cell_type": "code",
   "execution_count": 262,
   "outputs": [
    {
     "data": {
      "text/plain": "<AxesSubplot:xlabel='class'>"
     },
     "execution_count": 262,
     "metadata": {},
     "output_type": "execute_result"
    },
    {
     "data": {
      "text/plain": "<Figure size 432x288 with 1 Axes>",
      "image/png": "[encoded data removed]"
     },
     "metadata": {
      "needs_background": "light"
     },
     "output_type": "display_data"
    }
   ],
   "source": [
    "sns.regplot(x=y_test, y=y_test_pred, ci=None, color='b')\n"
   ],
   "metadata": {
    "collapsed": false,
    "pycharm": {
     "name": "#%%\n"
    }
   }
  },
  {
   "cell_type": "code",
   "execution_count": 263,
   "outputs": [
    {
     "data": {
      "text/plain": "<Figure size 432x288 with 1 Axes>",
      "image/png": "[encoded data removed]"
     },
     "metadata": {
      "needs_background": "light"
     },
     "output_type": "display_data"
    }
   ],
   "source": [
    "# Evaluate variable importance\n",
    "\n",
    "features = x_test.columns\n",
    "importances = clf.feature_importances_\n",
    "indices = np.argsort(importances)\n",
    "\n",
    "plt.title('Feature Importances')\n",
    "plt.barh(range(len(indices)), importances[indices], align='center') # color\n",
    "plt.yticks(range(len(indices)), [features[i] for i in indices])\n",
    "plt.xlabel('Relative Importance')\n",
    "plt.show()\n",
    "\n",
    "# for name, importance in zip(x_test.columns, clf.feature_importances_):\n",
    "#     print(name, \"=\", importance)"
   ],
   "metadata": {
    "collapsed": false,
    "pycharm": {
     "name": "#%%\n"
    }
   }
  },
  {
   "cell_type": "code",
   "execution_count": 264,
   "outputs": [
    {
     "name": "stdout",
     "output_type": "stream",
     "text": [
      "Running Time:  0.9306051000003208 seconds\n"
     ]
    }
   ],
   "source": [
    "stop = timeit.default_timer()\n",
    "print('Running Time: ', stop - start, 'seconds')"
   ],
   "metadata": {
    "collapsed": false,
    "pycharm": {
     "name": "#%%\n"
    }
   }
  }
 ],
 "metadata": {
  "kernelspec": {
   "display_name": "Python 3",
   "language": "python",
   "name": "python3"
  },
  "language_info": {
   "codemirror_mode": {
    "name": "ipython",
    "version": 2
   },
   "file_extension": ".py",
   "mimetype": "text/x-python",
   "name": "python",
   "nbconvert_exporter": "python",
   "pygments_lexer": "ipython2",
   "version": "2.7.6"
  }
 },
 "nbformat": 4,
 "nbformat_minor": 0
}
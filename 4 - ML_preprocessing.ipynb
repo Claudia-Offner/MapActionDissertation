{
 "cells": [
  {
   "cell_type": "code",
   "execution_count": 1,
   "metadata": {
    "collapsed": true,
    "pycharm": {
     "name": "#%%\n"
    }
   },
   "outputs": [],
   "source": [
    "import json\n",
    "import geodaisy.converters as convert\n",
    "import geopandas as gpd\n",
    "import pandas as pd\n",
    "import timeit\n",
    "\n",
    "start = timeit.default_timer()"
   ]
  },
  {
   "cell_type": "markdown",
   "source": [
    "## Combine GEE data"
   ],
   "metadata": {
    "collapsed": false,
    "pycharm": {
     "name": "#%% md\n"
    }
   }
  },
  {
   "cell_type": "code",
   "execution_count": 2,
   "outputs": [],
   "source": [
    "# Load & Combine Burkina Faso events\n",
    "bf1 = pd.read_csv('Data/GEE/Burkina Faso/FloodedDiff_2016-09-14_BF.csv')\n",
    "bf2 = pd.read_csv('Data/GEE/Burkina Faso/FloodedDiff_2018-08-20_BF.csv')\n",
    "bf3 = pd.read_csv('Data/GEE/Burkina Faso/FloodedDiff_2018-09-01_BF.csv')\n",
    "\n",
    "bf1 = bf1.drop(['system:index', 'ADM0_CODE', 'ADM1_CODE', 'ADM1_NAME', 'ADM2_CODE', 'DISP_AREA', 'EXP2_YEAR', 'STATUS',\n",
    "                'STR2_YEAR', 'Shape_Area', 'Shape_Leng'], axis=1)\n",
    "bf2 = bf2.drop(['system:index', 'ADM0_CODE', 'ADM1_CODE', 'ADM1_NAME', 'ADM2_CODE', 'DISP_AREA', 'EXP2_YEAR', 'STATUS',\n",
    "                'STR2_YEAR', 'Shape_Area', 'Shape_Leng'], axis=1)\n",
    "bf3 = bf3.drop(['system:index', 'ADM0_CODE', 'ADM1_CODE', 'ADM1_NAME', 'ADM2_CODE', 'DISP_AREA', 'EXP2_YEAR', 'STATUS',\n",
    "                'STR2_YEAR', 'Shape_Area', 'Shape_Leng'], axis=1)\n",
    "\n",
    "bf1['flood_date'] = '2016-09-14'\n",
    "bf2['flood_date'] = '2018-08-20'\n",
    "bf3['flood_date'] = '2018-09-01'\n",
    "\n",
    "bf = pd.DataFrame( pd.concat([bf1,bf2,bf3], ignore_index=True) )\n"
   ],
   "metadata": {
    "collapsed": false,
    "pycharm": {
     "name": "#%%\n"
    }
   }
  },
  {
   "cell_type": "code",
   "execution_count": 3,
   "outputs": [],
   "source": [
    "# Load Mali events\n",
    "ml1 = pd.read_csv('Data/GEE/Mali/FloodedDiff 2018-08-20 ML.csv')\n",
    "ml2 = pd.read_csv('Data/GEE/Mali/FloodedDiff 2018-09-01 ML.csv')\n",
    "\n",
    "ml1 = ml1.drop(['system:index', 'ADM0_CODE', 'ADM1_CODE', 'ADM1_NAME', 'ADM2_CODE', 'DISP_AREA', 'EXP2_YEAR', 'STATUS',\n",
    "                'STR2_YEAR', 'Shape_Area', 'Shape_Leng'], axis=1)\n",
    "ml2 = ml2.drop(['system:index', 'ADM0_CODE', 'ADM1_CODE', 'ADM1_NAME', 'ADM2_CODE', 'DISP_AREA', 'EXP2_YEAR', 'STATUS',\n",
    "                'STR2_YEAR', 'Shape_Area', 'Shape_Leng'], axis=1)\n",
    "\n",
    "\n",
    "ml1['flood_date'] = '2018-08-20'\n",
    "ml2['flood_date'] = '2018-09-01'\n",
    "\n",
    "ml = pd.DataFrame( pd.concat([ml1,ml2], ignore_index=True) )"
   ],
   "metadata": {
    "collapsed": false,
    "pycharm": {
     "name": "#%%\n"
    }
   }
  },
  {
   "cell_type": "code",
   "execution_count": 4,
   "outputs": [],
   "source": [
    "# Load Niger events\n",
    "ne1 = pd.read_csv('Data/GEE/Niger/FloodedDiff 2016-09-14 NE.csv')\n",
    "ne2 = pd.read_csv('Data/GEE/Niger/FloodedDiff 2018-08-20 NE.csv')\n",
    "ne3 = pd.read_csv('Data/GEE/Niger/FloodedDiff 2018-09-01 NE.csv')\n",
    "\n",
    "ne1 = ne1.drop(['system:index', 'ADM0_CODE', 'ADM1_CODE', 'ADM1_NAME', 'ADM2_CODE', 'DISP_AREA', 'EXP2_YEAR', 'STATUS',\n",
    "                'STR2_YEAR', 'Shape_Area', 'Shape_Leng'], axis=1)\n",
    "ne2 = ne2.drop(['system:index', 'ADM0_CODE', 'ADM1_CODE', 'ADM1_NAME', 'ADM2_CODE', 'DISP_AREA', 'EXP2_YEAR', 'STATUS',\n",
    "                'STR2_YEAR', 'Shape_Area', 'Shape_Leng'], axis=1)\n",
    "ne3 = ne3.drop(['system:index', 'ADM0_CODE', 'ADM1_CODE', 'ADM1_NAME', 'ADM2_CODE', 'DISP_AREA', 'EXP2_YEAR', 'STATUS',\n",
    "                'STR2_YEAR', 'Shape_Area', 'Shape_Leng'], axis=1)\n",
    "\n",
    "ne1['flood_date'] = '2016-09-14'\n",
    "ne2['flood_date'] = '2018-08-20'\n",
    "ne3['flood_date'] = '2018-09-01'\n",
    "\n",
    "ne = pd.DataFrame( pd.concat([ne1,ne2,ne3], ignore_index=True) )"
   ],
   "metadata": {
    "collapsed": false,
    "pycharm": {
     "name": "#%%\n"
    }
   }
  },
  {
   "cell_type": "code",
   "execution_count": 5,
   "outputs": [],
   "source": [
    "# Combine all GEE data\n",
    "gee = pd.DataFrame( pd.concat([bf,ml,ne], ignore_index=True) )\n",
    "gee = gee[['ADM0_NAME', 'ADM2_NAME', 'flood_date', 'Diff', '.geo']]\n",
    "gee.rename(columns = {'ADM0_NAME': 'country', 'ADM2_NAME':'admin_name'}, inplace = True)\n",
    "gee['flood_date'] = pd.to_datetime(gee['flood_date'])"
   ],
   "metadata": {
    "collapsed": false,
    "pycharm": {
     "name": "#%%\n"
    }
   }
  },
  {
   "cell_type": "markdown",
   "source": [
    "## Preprocess the FS dataset\n"
   ],
   "metadata": {
    "collapsed": false,
    "pycharm": {
     "name": "#%% md\n"
    }
   }
  },
  {
   "cell_type": "code",
   "execution_count": 6,
   "outputs": [
    {
     "name": "stdout",
     "output_type": "stream",
     "text": [
      "['country', 'admin_name', 'centx', 'centy', 'state', 'datetime', 'flood_date', 'fews_ipc', 'ndvi_mean', 'rain_mean', 'et_mean', 'acled_count', 'acled_fatalities', 'p_staple_food', 'area', 'cropland_pct', 'pop', 'ruggedness_mean', 'pasture_pct', 'spacelag', 'timelag1', 'timelag2']\n"
     ]
    }
   ],
   "source": [
    "# Load FS data for differencing\n",
    "FS = pd.read_csv('Data/FS_before_after_data.csv')\n",
    "FS = FS.drop(['geometry'], axis=1)\n",
    "print(list(FS.columns))"
   ],
   "metadata": {
    "collapsed": false,
    "pycharm": {
     "name": "#%%\n"
    }
   }
  },
  {
   "cell_type": "code",
   "execution_count": 7,
   "outputs": [],
   "source": [
    "col = ['country', 'admin_name', 'centx', 'centy', 'flood_date', 'fews_ipc', 'ndvi_mean', 'rain_mean', 'et_mean', 'acled_count',\n",
    "       'acled_fatalities', 'p_staple_food', 'area', 'cropland_pct', 'pop', 'ruggedness_mean', 'pasture_pct', 'spacelag',\n",
    "       'timelag1', 'timelag2']\n",
    "\n",
    "df = pd.DataFrame(columns=col)\n",
    "\n",
    "x = int(len(FS)/2)\n",
    "skip = [n*2 for n in range(0, x)]\n",
    "counter = 0\n",
    "for i in skip:\n",
    "    before = i\n",
    "    after = i+2\n",
    "    counter = i+1\n",
    "    diff = FS[FS.columns[7:]][before:after].diff()\n",
    "    df = df.append(diff)\n",
    "    df.loc[counter, ['country']] = FS.loc[counter, ['country']]\n",
    "    df.loc[counter, ['admin_name']] = FS.loc[counter, ['admin_name']]\n",
    "    df.loc[counter, ['flood_date']] = FS.loc[counter, ['flood_date']]\n",
    "    df.loc[counter, ['centx']] = FS.loc[counter, ['centx']]\n",
    "    df.loc[counter, ['centy']] = FS.loc[counter, ['centy']]"
   ],
   "metadata": {
    "collapsed": false,
    "pycharm": {
     "name": "#%%\n"
    }
   }
  },
  {
   "cell_type": "code",
   "execution_count": 8,
   "outputs": [],
   "source": [
    "df = df.dropna(how='all')\n",
    "df = df.reset_index()\n",
    "df = df.drop(['index'], axis=1)"
   ],
   "metadata": {
    "collapsed": false,
    "pycharm": {
     "name": "#%%\n"
    }
   }
  },
  {
   "cell_type": "markdown",
   "source": [
    "## Combine GEE & FS Data\n",
    "\n",
    "If the DF admin_name centx/centy is within any of the GEE polygons\n",
    "Assign that DF admin row the GEE admin name"
   ],
   "metadata": {
    "collapsed": false,
    "pycharm": {
     "name": "#%% md\n"
    }
   }
  },
  {
   "cell_type": "code",
   "execution_count": 9,
   "outputs": [
    {
     "name": "stdout",
     "output_type": "stream",
     "text": [
      "553\n",
      "349\n"
     ]
    }
   ],
   "source": [
    "print(len(df))\n",
    "print(len(gee))"
   ],
   "metadata": {
    "collapsed": false,
    "pycharm": {
     "name": "#%%\n"
    }
   }
  },
  {
   "cell_type": "code",
   "execution_count": 27,
   "outputs": [
    {
     "name": "stderr",
     "output_type": "stream",
     "text": [
      "C:\\Users\\offne\\.conda\\envs\\diss\\lib\\site-packages\\pandas\\core\\indexing.py:1817: SettingWithCopyWarning: \n",
      "A value is trying to be set on a copy of a slice from a DataFrame.\n",
      "Try using .loc[row_indexer,col_indexer] = value instead\n",
      "\n",
      "See the caveats in the documentation: https://pandas.pydata.org/pandas-docs/stable/user_guide/indexing.html#returning-a-view-versus-a-copy\n",
      "  self._setitem_single_column(loc, value, pi)\n",
      "C:\\Users\\offne\\.conda\\envs\\diss\\lib\\site-packages\\pandas\\core\\frame.py:3607: SettingWithCopyWarning: \n",
      "A value is trying to be set on a copy of a slice from a DataFrame.\n",
      "Try using .loc[row_indexer,col_indexer] = value instead\n",
      "\n",
      "See the caveats in the documentation: https://pandas.pydata.org/pandas-docs/stable/user_guide/indexing.html#returning-a-view-versus-a-copy\n",
      "  self._set_item(key, value)\n"
     ]
    }
   ],
   "source": [
    "prep = gee.drop_duplicates(subset=['country', 'admin_name'])\n",
    "\n",
    "for i in prep.index:\n",
    "    x = prep.loc[i, ['.geo']]\n",
    "    x = json.loads(x[0])\n",
    "    try:\n",
    "        prep.loc[i, ['.geo']] = convert.geojson_to_wkt(x)\n",
    "    except: # Error handling for geometry collections\n",
    "        y = list(x.values())\n",
    "        y = y[1]\n",
    "        prep.loc[i, ['.geo']] = convert.geojson_to_wkt(y[1])\n",
    "        continue\n",
    "\n",
    "prep['.geo'] = gpd.GeoSeries.from_wkt(prep['.geo'])\n",
    "gee_gdf = gpd.GeoDataFrame(prep, geometry='.geo')\n",
    "gee_gdf.plot()\n",
    "\n"
   ],
   "metadata": {
    "collapsed": false,
    "pycharm": {
     "name": "#%%\n"
    }
   }
  },
  {
   "cell_type": "code",
   "execution_count": null,
   "outputs": [],
   "source": [
    "# Check strings and fix differences\n",
    "\n",
    "l = set(df['admin_name'].tolist())\n",
    "x = set(gee['admin_name'].tolist())\n",
    "# set(list(l - x))"
   ],
   "metadata": {
    "collapsed": false,
    "pycharm": {
     "name": "#%%\n"
    }
   }
  },
  {
   "cell_type": "code",
   "execution_count": 13,
   "outputs": [],
   "source": [
    "# set(list(x - l))\n"
   ],
   "metadata": {
    "collapsed": false,
    "pycharm": {
     "name": "#%%\n"
    }
   }
  },
  {
   "cell_type": "code",
   "execution_count": 14,
   "outputs": [
    {
     "name": "stdout",
     "output_type": "stream",
     "text": [
      "Running Time:  5.609913699999999 seconds\n"
     ]
    }
   ],
   "source": [
    "stop = timeit.default_timer()\n",
    "print('Running Time: ', stop - start, 'seconds')"
   ],
   "metadata": {
    "collapsed": false,
    "pycharm": {
     "name": "#%%\n"
    }
   }
  }
 ],
 "metadata": {
  "kernelspec": {
   "display_name": "Python 3",
   "language": "python",
   "name": "python3"
  },
  "language_info": {
   "codemirror_mode": {
    "name": "ipython",
    "version": 2
   },
   "file_extension": ".py",
   "mimetype": "text/x-python",
   "name": "python",
   "nbconvert_exporter": "python",
   "pygments_lexer": "ipython2",
   "version": "2.7.6"
  }
 },
 "nbformat": 4,
 "nbformat_minor": 0
}
{
 "cells": [
  {
   "cell_type": "code",
   "execution_count": 53,
   "metadata": {
    "collapsed": true,
    "pycharm": {
     "name": "#%%\n"
    }
   },
   "outputs": [],
   "source": [
    "import pandas as pd"
   ]
  },
  {
   "cell_type": "markdown",
   "source": [
    "## Combine GEE data"
   ],
   "metadata": {
    "collapsed": false,
    "pycharm": {
     "name": "#%% md\n"
    }
   }
  },
  {
   "cell_type": "code",
   "execution_count": 54,
   "outputs": [],
   "source": [
    "# Load & Combine Burkina Faso events\n",
    "bf1 = pd.read_csv('Data/GEE/Burkina Faso/FloodedDiff_2016-09-14_BF.csv')\n",
    "bf2 = pd.read_csv('Data/GEE/Burkina Faso/FloodedDiff_2018-08-20_BF.csv')\n",
    "bf3 = pd.read_csv('Data/GEE/Burkina Faso/FloodedDiff_2018-09-01_BF.csv')\n",
    "\n",
    "bf1 = bf1.drop(['system:index', 'ADM0_CODE', 'ADM1_CODE', 'ADM1_NAME', 'ADM2_CODE', 'DISP_AREA', 'EXP2_YEAR', 'STATUS',\n",
    "                'STR2_YEAR', 'Shape_Area', 'Shape_Leng', '.geo'], axis=1)\n",
    "bf2 = bf2.drop(['system:index', 'ADM0_CODE', 'ADM1_CODE', 'ADM1_NAME', 'ADM2_CODE', 'DISP_AREA', 'EXP2_YEAR', 'STATUS',\n",
    "                'STR2_YEAR', 'Shape_Area', 'Shape_Leng', '.geo'], axis=1)\n",
    "bf3 = bf3.drop(['system:index', 'ADM0_CODE', 'ADM1_CODE', 'ADM1_NAME', 'ADM2_CODE', 'DISP_AREA', 'EXP2_YEAR', 'STATUS',\n",
    "                'STR2_YEAR', 'Shape_Area', 'Shape_Leng', '.geo'], axis=1)\n",
    "\n",
    "bf1['flood_date'] = '2016-09-14'\n",
    "bf2['flood_date'] = '2018-08-20'\n",
    "bf3['flood_date'] = '2018-09-01'\n",
    "\n",
    "bf = pd.DataFrame( pd.concat([bf1,bf2,bf3], ignore_index=True) )"
   ],
   "metadata": {
    "collapsed": false,
    "pycharm": {
     "name": "#%%\n"
    }
   }
  },
  {
   "cell_type": "code",
   "execution_count": 55,
   "outputs": [],
   "source": [
    "# Load Chad events\n",
    "ch = pd.read_csv('Data/GEE/Chad/FloodedDiff 2018-08-20 CH.csv')\n",
    "\n",
    "ch = ch.drop(['system:index', 'ADM0_CODE', 'ADM1_CODE', 'ADM1_NAME', 'ADM2_CODE', 'DISP_AREA', 'EXP2_YEAR', 'STATUS',\n",
    "                'STR2_YEAR', 'Shape_Area', 'Shape_Leng', '.geo'], axis=1)\n",
    "\n",
    "ch['flood_date'] = '2018-08-20'\n"
   ],
   "metadata": {
    "collapsed": false,
    "pycharm": {
     "name": "#%%\n"
    }
   }
  },
  {
   "cell_type": "code",
   "execution_count": 56,
   "outputs": [],
   "source": [
    "# Load Mali events\n",
    "ml1 = pd.read_csv('Data/GEE/Mali/FloodedDiff 2018-08-20 ML.csv')\n",
    "ml2 = pd.read_csv('Data/GEE/Mali/FloodedDiff 2018-09-01 ML.csv')\n",
    "\n",
    "ml1 = ml1.drop(['system:index', 'ADM0_CODE', 'ADM1_CODE', 'ADM1_NAME', 'ADM2_CODE', 'DISP_AREA', 'EXP2_YEAR', 'STATUS',\n",
    "                'STR2_YEAR', 'Shape_Area', 'Shape_Leng', '.geo'], axis=1)\n",
    "ml2 = ml2.drop(['system:index', 'ADM0_CODE', 'ADM1_CODE', 'ADM1_NAME', 'ADM2_CODE', 'DISP_AREA', 'EXP2_YEAR', 'STATUS',\n",
    "                'STR2_YEAR', 'Shape_Area', 'Shape_Leng', '.geo'], axis=1)\n",
    "\n",
    "\n",
    "ml1['flood_date'] = '2018-08-20'\n",
    "ml2['flood_date'] = '2018-09-01'\n",
    "\n",
    "ml = pd.DataFrame( pd.concat([ml1,ml2], ignore_index=True) )"
   ],
   "metadata": {
    "collapsed": false,
    "pycharm": {
     "name": "#%%\n"
    }
   }
  },
  {
   "cell_type": "code",
   "execution_count": 57,
   "outputs": [],
   "source": [
    "# Load Niger events\n",
    "ne1 = pd.read_csv('Data/GEE/Niger/FloodedDiff 2016-09-14 NE.csv')\n",
    "ne2 = pd.read_csv('Data/GEE/Niger/FloodedDiff 2018-08-20 NE.csv')\n",
    "ne3 = pd.read_csv('Data/GEE/Niger/FloodedDiff 2018-09-01 NE.csv')\n",
    "\n",
    "ne1 = ne1.drop(['system:index', 'ADM0_CODE', 'ADM1_CODE', 'ADM1_NAME', 'ADM2_CODE', 'DISP_AREA', 'EXP2_YEAR', 'STATUS',\n",
    "                'STR2_YEAR', 'Shape_Area', 'Shape_Leng', '.geo'], axis=1)\n",
    "ne2 = ne2.drop(['system:index', 'ADM0_CODE', 'ADM1_CODE', 'ADM1_NAME', 'ADM2_CODE', 'DISP_AREA', 'EXP2_YEAR', 'STATUS',\n",
    "                'STR2_YEAR', 'Shape_Area', 'Shape_Leng', '.geo'], axis=1)\n",
    "ne3 = ne3.drop(['system:index', 'ADM0_CODE', 'ADM1_CODE', 'ADM1_NAME', 'ADM2_CODE', 'DISP_AREA', 'EXP2_YEAR', 'STATUS',\n",
    "                'STR2_YEAR', 'Shape_Area', 'Shape_Leng', '.geo'], axis=1)\n",
    "\n",
    "ne1['flood_date'] = '2016-09-14'\n",
    "ne2['flood_date'] = '2018-08-20'\n",
    "ne3['flood_date'] = '2018-09-01'\n",
    "\n",
    "ne = pd.DataFrame( pd.concat([ne1,ne2,ne3], ignore_index=True) )"
   ],
   "metadata": {
    "collapsed": false,
    "pycharm": {
     "name": "#%%\n"
    }
   }
  },
  {
   "cell_type": "code",
   "execution_count": 58,
   "outputs": [],
   "source": [
    "# Combine all GEE data\n",
    "gee = pd.DataFrame( pd.concat([bf,ch,ml,ne], ignore_index=True) )\n",
    "gee = gee[['ADM0_NAME', 'ADM2_NAME', 'flood_date', 'Diff']]\n",
    "gee.rename(columns = {'ADM0_NAME': 'country', 'ADM2_NAME':'admin_name'}, inplace = True)\n",
    "gee['flood_date'] = pd.to_datetime(gee['flood_date'])"
   ],
   "metadata": {
    "collapsed": false,
    "pycharm": {
     "name": "#%%\n"
    }
   }
  },
  {
   "cell_type": "markdown",
   "source": [
    "## Preprocess the FS dataset\n"
   ],
   "metadata": {
    "collapsed": false,
    "pycharm": {
     "name": "#%% md\n"
    }
   }
  },
  {
   "cell_type": "code",
   "execution_count": 59,
   "outputs": [
    {
     "name": "stdout",
     "output_type": "stream",
     "text": [
      "['country', 'admin_name', 'state', 'datetime', 'flood_date', 'fews_ipc', 'ndvi_mean', 'rain_mean', 'et_mean', 'acled_count', 'acled_fatalities', 'p_staple_food', 'area', 'cropland_pct', 'pop', 'ruggedness_mean', 'pasture_pct', 'spacelag', 'timelag1', 'timelag2']\n"
     ]
    }
   ],
   "source": [
    "# Load FS data for differencing\n",
    "FS = pd.read_csv('Data/FS_before_after_data.csv')\n",
    "FS = FS.drop(['geometry'], axis=1)\n",
    "print(list(FS.columns))"
   ],
   "metadata": {
    "collapsed": false,
    "pycharm": {
     "name": "#%%\n"
    }
   }
  },
  {
   "cell_type": "code",
   "execution_count": 60,
   "outputs": [],
   "source": [
    "col = ['country', 'admin_name', 'flood_date', 'fews_ipc', 'ndvi_mean', 'rain_mean', 'et_mean', 'acled_count',\n",
    "       'acled_fatalities', 'p_staple_food', 'area', 'cropland_pct', 'pop', 'ruggedness_mean', 'pasture_pct', 'spacelag',\n",
    "       'timelag1', 'timelag2']\n",
    "\n",
    "df = pd.DataFrame(columns=col)\n",
    "\n",
    "x = int(len(FS)/2)\n",
    "skip = [n*2 for n in range(0, x)]\n",
    "counter = 0\n",
    "for i in skip:\n",
    "    before = i\n",
    "    after = i+2\n",
    "    counter = i+1\n",
    "    diff = FS[FS.columns[5:]][before:after].diff()\n",
    "    df = df.append(diff)\n",
    "    df.loc[counter, ['country']] = FS.loc[counter, ['country']]\n",
    "    df.loc[counter, ['admin_name']] = FS.loc[counter, ['admin_name']]\n",
    "    df.loc[counter, ['flood_date']] = FS.loc[counter, ['flood_date']]"
   ],
   "metadata": {
    "collapsed": false,
    "pycharm": {
     "name": "#%%\n"
    }
   }
  },
  {
   "cell_type": "code",
   "execution_count": 61,
   "outputs": [],
   "source": [
    "df = df.dropna(how='all')\n",
    "df = df.reset_index()\n",
    "df = df.drop(['index'], axis=1)"
   ],
   "metadata": {
    "collapsed": false,
    "pycharm": {
     "name": "#%%\n"
    }
   }
  },
  {
   "cell_type": "markdown",
   "source": [
    "## Combine GEE & FS Data"
   ],
   "metadata": {
    "collapsed": false,
    "pycharm": {
     "name": "#%% md\n"
    }
   }
  },
  {
   "cell_type": "code",
   "execution_count": 68,
   "outputs": [
    {
     "data": {
      "text/plain": "Niger           268\nMali            150\nChad            136\nBurkina Faso    135\nName: country, dtype: int64"
     },
     "execution_count": 68,
     "metadata": {},
     "output_type": "execute_result"
    }
   ],
   "source": [],
   "metadata": {
    "collapsed": false,
    "pycharm": {
     "name": "#%%\n"
    }
   }
  },
  {
   "cell_type": "code",
   "execution_count": null,
   "outputs": [],
   "source": [
    "# Check strings and fix differences\n",
    "\n",
    "l = set(df['admin_name'].tolist())\n",
    "x = set(gee['admin_name'].tolist())\n",
    "set(list(l - x))"
   ],
   "metadata": {
    "collapsed": false,
    "pycharm": {
     "name": "#%%\n"
    }
   }
  },
  {
   "cell_type": "code",
   "execution_count": 67,
   "outputs": [
    {
     "data": {
      "text/plain": "357"
     },
     "execution_count": 67,
     "metadata": {},
     "output_type": "execute_result"
    }
   ],
   "source": [
    "set(list(x - l))"
   ],
   "metadata": {
    "collapsed": false,
    "pycharm": {
     "name": "#%%\n"
    }
   }
  }
 ],
 "metadata": {
  "kernelspec": {
   "display_name": "Python 3",
   "language": "python",
   "name": "python3"
  },
  "language_info": {
   "codemirror_mode": {
    "name": "ipython",
    "version": 2
   },
   "file_extension": ".py",
   "mimetype": "text/x-python",
   "name": "python",
   "nbconvert_exporter": "python",
   "pygments_lexer": "ipython2",
   "version": "2.7.6"
  }
 },
 "nbformat": 4,
 "nbformat_minor": 0
}
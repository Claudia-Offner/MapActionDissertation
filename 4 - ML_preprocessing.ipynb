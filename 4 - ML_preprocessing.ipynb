{
 "cells": [
  {
   "cell_type": "code",
   "execution_count": 147,
   "metadata": {
    "collapsed": true,
    "pycharm": {
     "name": "#%%\n"
    }
   },
   "outputs": [],
   "source": [
    "import json\n",
    "import geodaisy.converters as convert\n",
    "import geopandas as gpd\n",
    "import pandas as pd\n",
    "import timeit\n",
    "\n",
    "start = timeit.default_timer()"
   ]
  },
  {
   "cell_type": "markdown",
   "source": [
    "## Combine GEE data"
   ],
   "metadata": {
    "collapsed": false,
    "pycharm": {
     "name": "#%% md\n"
    }
   }
  },
  {
   "cell_type": "code",
   "execution_count": 148,
   "outputs": [],
   "source": [
    "# Load & Combine Burkina Faso events\n",
    "bf1 = pd.read_csv('Data/GEE/Burkina Faso/FloodedDiff_2016-09-14_BF.csv')\n",
    "bf2 = pd.read_csv('Data/GEE/Burkina Faso/FloodedDiff_2018-08-20_BF.csv')\n",
    "bf3 = pd.read_csv('Data/GEE/Burkina Faso/FloodedDiff_2018-09-01_BF.csv')\n",
    "\n",
    "bf1 = bf1.drop(['system:index', 'ADM0_CODE', 'ADM1_CODE', 'ADM1_NAME', 'ADM2_CODE', 'DISP_AREA', 'EXP2_YEAR', 'STATUS',\n",
    "                'STR2_YEAR', 'Shape_Area', 'Shape_Leng'], axis=1)\n",
    "bf2 = bf2.drop(['system:index', 'ADM0_CODE', 'ADM1_CODE', 'ADM1_NAME', 'ADM2_CODE', 'DISP_AREA', 'EXP2_YEAR', 'STATUS',\n",
    "                'STR2_YEAR', 'Shape_Area', 'Shape_Leng'], axis=1)\n",
    "bf3 = bf3.drop(['system:index', 'ADM0_CODE', 'ADM1_CODE', 'ADM1_NAME', 'ADM2_CODE', 'DISP_AREA', 'EXP2_YEAR', 'STATUS',\n",
    "                'STR2_YEAR', 'Shape_Area', 'Shape_Leng'], axis=1)\n",
    "\n",
    "bf1['flood_date'] = '2016-09-14'\n",
    "bf2['flood_date'] = '2018-08-20'\n",
    "bf3['flood_date'] = '2018-09-01'\n",
    "\n",
    "bf = pd.DataFrame( pd.concat([bf1,bf2,bf3], ignore_index=True) )\n"
   ],
   "metadata": {
    "collapsed": false,
    "pycharm": {
     "name": "#%%\n"
    }
   }
  },
  {
   "cell_type": "code",
   "execution_count": 149,
   "outputs": [],
   "source": [
    "# Load Mali events\n",
    "ml1 = pd.read_csv('Data/GEE/Mali/FloodedDiff 2018-08-20 ML.csv')\n",
    "ml2 = pd.read_csv('Data/GEE/Mali/FloodedDiff 2018-09-01 ML.csv')\n",
    "\n",
    "ml1 = ml1.drop(['system:index', 'ADM0_CODE', 'ADM1_CODE', 'ADM1_NAME', 'ADM2_CODE', 'DISP_AREA', 'EXP2_YEAR', 'STATUS',\n",
    "                'STR2_YEAR', 'Shape_Area', 'Shape_Leng'], axis=1)\n",
    "ml2 = ml2.drop(['system:index', 'ADM0_CODE', 'ADM1_CODE', 'ADM1_NAME', 'ADM2_CODE', 'DISP_AREA', 'EXP2_YEAR', 'STATUS',\n",
    "                'STR2_YEAR', 'Shape_Area', 'Shape_Leng'], axis=1)\n",
    "\n",
    "\n",
    "ml1['flood_date'] = '2018-08-20'\n",
    "ml2['flood_date'] = '2018-09-01'\n",
    "\n",
    "ml = pd.DataFrame( pd.concat([ml1,ml2], ignore_index=True) )"
   ],
   "metadata": {
    "collapsed": false,
    "pycharm": {
     "name": "#%%\n"
    }
   }
  },
  {
   "cell_type": "code",
   "execution_count": 150,
   "outputs": [],
   "source": [
    "# Load Niger events\n",
    "ne1 = pd.read_csv('Data/GEE/Niger/FloodedDiff 2016-09-14 NE.csv')\n",
    "ne2 = pd.read_csv('Data/GEE/Niger/FloodedDiff 2018-08-20 NE.csv')\n",
    "ne3 = pd.read_csv('Data/GEE/Niger/FloodedDiff 2018-09-01 NE.csv')\n",
    "\n",
    "ne1 = ne1.drop(['system:index', 'ADM0_CODE', 'ADM1_CODE', 'ADM1_NAME', 'ADM2_CODE', 'DISP_AREA', 'EXP2_YEAR', 'STATUS',\n",
    "                'STR2_YEAR', 'Shape_Area', 'Shape_Leng'], axis=1)\n",
    "ne2 = ne2.drop(['system:index', 'ADM0_CODE', 'ADM1_CODE', 'ADM1_NAME', 'ADM2_CODE', 'DISP_AREA', 'EXP2_YEAR', 'STATUS',\n",
    "                'STR2_YEAR', 'Shape_Area', 'Shape_Leng'], axis=1)\n",
    "ne3 = ne3.drop(['system:index', 'ADM0_CODE', 'ADM1_CODE', 'ADM1_NAME', 'ADM2_CODE', 'DISP_AREA', 'EXP2_YEAR', 'STATUS',\n",
    "                'STR2_YEAR', 'Shape_Area', 'Shape_Leng'], axis=1)\n",
    "\n",
    "ne1['flood_date'] = '2016-09-14'\n",
    "ne2['flood_date'] = '2018-08-20'\n",
    "ne3['flood_date'] = '2018-09-01'\n",
    "\n",
    "ne = pd.DataFrame( pd.concat([ne1,ne2,ne3], ignore_index=True) )"
   ],
   "metadata": {
    "collapsed": false,
    "pycharm": {
     "name": "#%%\n"
    }
   }
  },
  {
   "cell_type": "code",
   "execution_count": 151,
   "outputs": [],
   "source": [
    "# Combine all GEE data\n",
    "gee = pd.DataFrame( pd.concat([bf,ml,ne], ignore_index=True) )\n",
    "gee = gee[['ADM0_NAME', 'ADM2_NAME', 'flood_date', 'Diff', '.geo']]\n",
    "gee.rename(columns = {'ADM0_NAME': 'country', 'ADM2_NAME':'admin_name'}, inplace = True)\n",
    "gee['flood_date'] = pd.to_datetime(gee['flood_date'])\n",
    "gee = gee.sort_values(by=['country', 'admin_name'])\n",
    "gee = gee.reset_index()\n",
    "gee = gee.drop(['index'], axis=1)\n"
   ],
   "metadata": {
    "collapsed": false,
    "pycharm": {
     "name": "#%%\n"
    }
   }
  },
  {
   "cell_type": "markdown",
   "source": [
    "## Preprocess the FS0 dataset\n"
   ],
   "metadata": {
    "collapsed": false,
    "pycharm": {
     "name": "#%% md\n"
    }
   }
  },
  {
   "cell_type": "code",
   "execution_count": 152,
   "outputs": [
    {
     "name": "stdout",
     "output_type": "stream",
     "text": [
      "['country', 'admin_name', 'centx', 'centy', 'state', 'datetime', 'flood_date', 'fews_ipc', 'ndvi_mean', 'rain_mean', 'et_mean', 'acled_count', 'acled_fatalities', 'p_staple_food', 'area', 'cropland_pct', 'pop', 'ruggedness_mean', 'pasture_pct', 'spacelag', 'timelag1', 'timelag2']\n"
     ]
    }
   ],
   "source": [
    "# Load FS0 data for differencing\n",
    "FS0 = pd.read_csv('Data/FS_before_after_data.csv')\n",
    "FS0 = FS0.drop(['geometry'], axis=1)\n",
    "print(list(FS0.columns))"
   ],
   "metadata": {
    "collapsed": false,
    "pycharm": {
     "name": "#%%\n"
    }
   }
  },
  {
   "cell_type": "code",
   "execution_count": 153,
   "outputs": [],
   "source": [
    "col = ['country', 'admin_name', 'centx', 'centy', 'flood_date', 'fews_ipc', 'ndvi_mean', 'rain_mean', 'et_mean', 'acled_count',\n",
    "       'acled_fatalities', 'p_staple_food', 'area', 'cropland_pct', 'pop', 'ruggedness_mean', 'pasture_pct', 'spacelag',\n",
    "       'timelag1', 'timelag2']\n",
    "\n",
    "FS = pd.DataFrame(columns=col)\n",
    "\n",
    "x = int(len(FS0)/2)\n",
    "skip = [n*2 for n in range(0, x)]\n",
    "counter = 0\n",
    "for i in skip:\n",
    "    before = i\n",
    "    after = i+2\n",
    "    counter = i+1\n",
    "    diff = FS0[FS0.columns[7:]][before:after].diff()\n",
    "    FS = FS.append(diff)\n",
    "    FS.loc[counter, ['country']] = FS0.loc[counter, ['country']]\n",
    "    FS.loc[counter, ['admin_name']] = FS0.loc[counter, ['admin_name']]\n",
    "    FS.loc[counter, ['flood_date']] = FS0.loc[counter, ['flood_date']]\n",
    "    FS.loc[counter, ['centx']] = FS0.loc[counter, ['centx']]\n",
    "    FS.loc[counter, ['centy']] = FS0.loc[counter, ['centy']]"
   ],
   "metadata": {
    "collapsed": false,
    "pycharm": {
     "name": "#%%\n"
    }
   }
  },
  {
   "cell_type": "code",
   "execution_count": 154,
   "outputs": [],
   "source": [
    "FS = FS.dropna(how='all')\n",
    "FS = FS.reset_index()\n",
    "FS = FS.drop(['index'], axis=1)"
   ],
   "metadata": {
    "collapsed": false,
    "pycharm": {
     "name": "#%%\n"
    }
   }
  },
  {
   "cell_type": "markdown",
   "source": [
    "## Combine GEE & FS0 Data\n",
    "\n",
    "Check the df lengths because the FEWS shapefiles are likely to be different from GEE Admin 2 shapefiles.\n",
    "This might require a point-in-polygon test.\n",
    "\n"
   ],
   "metadata": {
    "collapsed": false,
    "pycharm": {
     "name": "#%% md\n"
    }
   }
  },
  {
   "cell_type": "code",
   "execution_count": 155,
   "outputs": [
    {
     "name": "stdout",
     "output_type": "stream",
     "text": [
      "FS data length:  553\n",
      "GEE data length:  349\n",
      "Number of FS0 admin codes:  162\n",
      "Number of GEE admin codes:  133\n"
     ]
    }
   ],
   "source": [
    "# There is a big difference in file length - so the admin codes are likely not matching\n",
    "print('FS data length: ', len(df))\n",
    "print('GEE data length: ', len(gee))\n",
    "test_FS = FS.drop_duplicates(subset=['country', 'admin_name'])\n",
    "test_gee = gee.drop_duplicates(subset=['country', 'admin_name'])\n",
    "print('Number of FS0 admin codes: ', len(test_FS))\n",
    "print('Number of GEE admin codes: ', len(test_gee))"
   ],
   "metadata": {
    "collapsed": false,
    "pycharm": {
     "name": "#%%\n"
    }
   }
  },
  {
   "cell_type": "markdown",
   "source": [
    "Create shapefiles from GEE geometry column"
   ],
   "metadata": {
    "collapsed": false,
    "pycharm": {
     "name": "#%% md\n"
    }
   }
  },
  {
   "cell_type": "code",
   "execution_count": 156,
   "outputs": [
    {
     "name": "stderr",
     "output_type": "stream",
     "text": [
      "C:\\Users\\offne\\.conda\\envs\\diss\\lib\\site-packages\\pandas\\core\\indexing.py:1817: SettingWithCopyWarning: \n",
      "A value is trying to be set on a copy of a slice from a DataFrame.\n",
      "Try using .loc[row_indexer,col_indexer] = value instead\n",
      "\n",
      "See the caveats in the documentation: https://pandas.pydata.org/pandas-docs/stable/user_guide/indexing.html#returning-a-view-versus-a-copy\n",
      "  self._setitem_single_column(loc, value, pi)\n",
      "C:\\Users\\offne\\.conda\\envs\\diss\\lib\\site-packages\\pandas\\core\\frame.py:3607: SettingWithCopyWarning: \n",
      "A value is trying to be set on a copy of a slice from a DataFrame.\n",
      "Try using .loc[row_indexer,col_indexer] = value instead\n",
      "\n",
      "See the caveats in the documentation: https://pandas.pydata.org/pandas-docs/stable/user_guide/indexing.html#returning-a-view-versus-a-copy\n",
      "  self._set_item(key, value)\n"
     ]
    }
   ],
   "source": [
    "\n",
    "for i in test_gee.index:\n",
    "    x = test_gee.loc[i, ['.geo']]\n",
    "    x = json.loads(x[0])\n",
    "    try:\n",
    "        test_gee.loc[i, ['.geo']] = convert.geojson_to_wkt(x)\n",
    "    except: # Error handling for geometry collections\n",
    "        y = list(x.values())\n",
    "        y = y[1]\n",
    "        test_gee.loc[i, ['.geo']] = convert.geojson_to_wkt(y[1])\n",
    "        continue\n",
    "\n",
    "test_gee['.geo'] = gpd.GeoSeries.from_wkt(test_gee['.geo'])\n",
    "gee_gdf = gpd.GeoDataFrame(test_gee, geometry='.geo')\n",
    "gee_gdf.rename(columns = {'.geo':'geometry'}, inplace = True)\n",
    "gee_gdf = gee_gdf.reset_index()\n",
    "gee_gdf = gee_gdf.drop(['index'], axis=1)\n",
    "gee_gdf = gee_gdf.set_crs('epsg:3857')"
   ],
   "metadata": {
    "collapsed": false,
    "pycharm": {
     "name": "#%%\n"
    }
   }
  },
  {
   "cell_type": "markdown",
   "source": [
    "Create points from the FS0 data."
   ],
   "metadata": {
    "collapsed": false,
    "pycharm": {
     "name": "#%% md\n"
    }
   }
  },
  {
   "cell_type": "code",
   "execution_count": 157,
   "outputs": [],
   "source": [
    "# Create points\n",
    "FS_gdf = gpd.GeoDataFrame(df, geometry=gpd.points_from_xy(df.centx, df.centy))\n",
    "FS_gdf = FS_gdf.set_crs('epsg:3857')"
   ],
   "metadata": {
    "collapsed": false,
    "pycharm": {
     "name": "#%%\n"
    }
   }
  },
  {
   "cell_type": "markdown",
   "source": [
    "If the FS0 admin point is within any of the GEE polygons assign that that point the GEE admin name"
   ],
   "metadata": {
    "collapsed": false,
    "pycharm": {
     "name": "#%% md\n"
    }
   }
  },
  {
   "cell_type": "code",
   "execution_count": 158,
   "outputs": [
    {
     "name": "stderr",
     "output_type": "stream",
     "text": [
      "C:\\Users\\offne\\AppData\\Local\\Temp/ipykernel_15692/2645939328.py:6: SettingWithCopyWarning: \n",
      "A value is trying to be set on a copy of a slice from a DataFrame\n",
      "\n",
      "See the caveats in the documentation: https://pandas.pydata.org/pandas-docs/stable/user_guide/indexing.html#returning-a-view-versus-a-copy\n",
      "  FS['admin_name'][j] = gee_gdf['admin_name'][i]\n"
     ]
    }
   ],
   "source": [
    "for i in gee_gdf.index:\n",
    "    for j in FS_gdf.index:\n",
    "        polygon = gee_gdf['geometry'][i]\n",
    "        point = FS_gdf['geometry'][j]\n",
    "        if polygon.contains(point) == True:\n",
    "            FS['admin_name'][j] = gee_gdf['admin_name'][i]\n",
    "        else:\n",
    "            continue\n"
   ],
   "metadata": {
    "collapsed": false,
    "pycharm": {
     "name": "#%%\n"
    }
   }
  },
  {
   "cell_type": "markdown",
   "source": [
    "Check differences between admin names after point-in-polygon test"
   ],
   "metadata": {
    "collapsed": false,
    "pycharm": {
     "name": "#%% md\n"
    }
   }
  },
  {
   "cell_type": "code",
   "execution_count": 160,
   "outputs": [
    {
     "name": "stdout",
     "output_type": "stream",
     "text": [
      "set()\n",
      "{'Commune 2', 'Commune 3'}\n"
     ]
    },
    {
     "data": {
      "text/plain": "<AxesSubplot:>"
     },
     "execution_count": 160,
     "metadata": {},
     "output_type": "execute_result"
    },
    {
     "data": {
      "text/plain": "<Figure size 432x288 with 1 Axes>",
      "image/png": "[encoded data removed]"
     },
     "metadata": {
      "needs_background": "light"
     },
     "output_type": "display_data"
    }
   ],
   "source": [
    "test_FS = FS.drop_duplicates(subset=['country', 'admin_name'])\n",
    "print('Number of FS admin codes post processing: ',len(test_FS))\n",
    "\n",
    "# Check strings and fix differences\n",
    "l = set(FS['admin_name'].tolist())\n",
    "x = set(gee['admin_name'].tolist())\n",
    "print(set(list(l - x)))\n",
    "print(set(list(x - l)))\n",
    "gee_gdf.drop(gee_gdf.index[gee_gdf['admin_name'] == 'Commune 2'], inplace=True)\n",
    "gee_gdf.drop(gee_gdf.index[gee_gdf['admin_name'] == 'Commune 3'], inplace=True)\n",
    "\n",
    "gee_gdf.plot()"
   ],
   "metadata": {
    "collapsed": false,
    "pycharm": {
     "name": "#%%\n"
    }
   }
  },
  {
   "cell_type": "markdown",
   "source": [
    "FS: TAKE MEAN OF VALUES WITH SAME COUNTRY, ADMIN NAME AND FLOOD DATE\n",
    "\n",
    "\n"
   ],
   "metadata": {
    "collapsed": false,
    "pycharm": {
     "name": "#%% md\n"
    }
   }
  },
  {
   "cell_type": "code",
   "execution_count": null,
   "outputs": [],
   "source": [
    "\n",
    "\n",
    "stop = timeit.default_timer()\n",
    "print('Running Time: ', stop - start, 'seconds')"
   ],
   "metadata": {
    "collapsed": false,
    "pycharm": {
     "name": "#%%\n"
    }
   }
  }
 ],
 "metadata": {
  "kernelspec": {
   "display_name": "Python 3",
   "language": "python",
   "name": "python3"
  },
  "language_info": {
   "codemirror_mode": {
    "name": "ipython",
    "version": 2
   },
   "file_extension": ".py",
   "mimetype": "text/x-python",
   "name": "python",
   "nbconvert_exporter": "python",
   "pygments_lexer": "ipython2",
   "version": "2.7.6"
  }
 },
 "nbformat": 4,
 "nbformat_minor": 0
}
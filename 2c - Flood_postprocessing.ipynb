{
 "cells": [
  {
   "cell_type": "markdown",
   "metadata": {
    "collapsed": true,
    "pycharm": {
     "name": "#%% md\n"
    }
   },
   "source": [
    "# Post-processing: Flooding Events\n",
    "\n",
    "**Tasks**\n",
    "* Combine Google Earth Engine data\n",
    "* Difference the before's and after's of the FC dataset\n",
    "* Perform a point-in-polygon test to match admin boundaries between GEE data & FC data\n",
    "* Merge and clean final dataset\n",
    "* Runtime: < 10 seconds"
   ]
  },
  {
   "cell_type": "code",
   "execution_count": 1,
   "outputs": [],
   "source": [
    "import json\n",
    "import geodaisy.converters as convert\n",
    "import geopandas as gpd\n",
    "import pandas as pd\n",
    "import timeit\n",
    "\n",
    "start = timeit.default_timer()"
   ],
   "metadata": {
    "collapsed": false,
    "pycharm": {
     "name": "#%%\n"
    }
   }
  },
  {
   "cell_type": "markdown",
   "source": [
    "## Combine GEE data\n",
    "* For all countries of interest, collate event data extracted from GEE\n",
    "* NOTE: Make sure the file paths match the file names of the saved GEE CSV's"
   ],
   "metadata": {
    "collapsed": false,
    "pycharm": {
     "name": "#%% md\n"
    }
   }
  },
  {
   "cell_type": "code",
   "execution_count": 2,
   "outputs": [],
   "source": [
    "# Load & Combine Burkina Faso events\n",
    "bf1 = pd.read_csv('Data/GEE/Burkina Faso/FloodedDiff 2016-09-14 BF.csv')\n",
    "bf2 = pd.read_csv('Data/GEE/Burkina Faso/FloodedDiff 2018-08-20 BF.csv')\n",
    "bf3 = pd.read_csv('Data/GEE/Burkina Faso/FloodedDiff 2018-09-01 BF.csv')\n",
    "\n",
    "bf1 = bf1.drop(['system:index', 'ADM0_CODE', 'ADM1_CODE', 'ADM1_NAME', 'ADM2_CODE', 'DISP_AREA', 'EXP2_YEAR', 'STATUS',\n",
    "                'STR2_YEAR', 'Shape_Area', 'Shape_Leng'], axis=1)\n",
    "bf2 = bf2.drop(['system:index', 'ADM0_CODE', 'ADM1_CODE', 'ADM1_NAME', 'ADM2_CODE', 'DISP_AREA', 'EXP2_YEAR', 'STATUS',\n",
    "                'STR2_YEAR', 'Shape_Area', 'Shape_Leng'], axis=1)\n",
    "bf3 = bf3.drop(['system:index', 'ADM0_CODE', 'ADM1_CODE', 'ADM1_NAME', 'ADM2_CODE', 'DISP_AREA', 'EXP2_YEAR', 'STATUS',\n",
    "                'STR2_YEAR', 'Shape_Area', 'Shape_Leng'], axis=1)\n",
    "\n",
    "bf1['flood_date'] = '2016-09-14'\n",
    "bf2['flood_date'] = '2018-08-20'\n",
    "bf3['flood_date'] = '2018-09-01'\n",
    "\n",
    "bf = pd.DataFrame( pd.concat([bf1,bf2,bf3], ignore_index=True) )\n"
   ],
   "metadata": {
    "collapsed": false,
    "pycharm": {
     "name": "#%%\n"
    }
   }
  },
  {
   "cell_type": "code",
   "execution_count": 3,
   "outputs": [],
   "source": [
    "# Load Mali events\n",
    "ml1 = pd.read_csv('Data/GEE/Mali/FloodedDiff 2018-08-20 ML.csv')\n",
    "ml2 = pd.read_csv('Data/GEE/Mali/FloodedDiff 2018-09-01 ML.csv')\n",
    "\n",
    "ml1 = ml1.drop(['system:index', 'ADM0_CODE', 'ADM1_CODE', 'ADM1_NAME', 'ADM2_CODE', 'DISP_AREA', 'EXP2_YEAR', 'STATUS',\n",
    "                'STR2_YEAR', 'Shape_Area', 'Shape_Leng'], axis=1)\n",
    "ml2 = ml2.drop(['system:index', 'ADM0_CODE', 'ADM1_CODE', 'ADM1_NAME', 'ADM2_CODE', 'DISP_AREA', 'EXP2_YEAR', 'STATUS',\n",
    "                'STR2_YEAR', 'Shape_Area', 'Shape_Leng'], axis=1)\n",
    "\n",
    "\n",
    "ml1['flood_date'] = '2018-08-20'\n",
    "ml2['flood_date'] = '2018-09-01'\n",
    "\n",
    "ml = pd.DataFrame( pd.concat([ml1,ml2], ignore_index=True) )"
   ],
   "metadata": {
    "collapsed": false,
    "pycharm": {
     "name": "#%%\n"
    }
   }
  },
  {
   "cell_type": "code",
   "execution_count": 4,
   "outputs": [],
   "source": [
    "# Load Niger events\n",
    "ne1 = pd.read_csv('Data/GEE/Niger/FloodedDiff 2016-09-14 NE.csv')\n",
    "ne2 = pd.read_csv('Data/GEE/Niger/FloodedDiff 2018-08-20 NE.csv')\n",
    "ne3 = pd.read_csv('Data/GEE/Niger/FloodedDiff 2018-09-01 NE.csv')\n",
    "\n",
    "ne1 = ne1.drop(['system:index', 'ADM0_CODE', 'ADM1_CODE', 'ADM1_NAME', 'ADM2_CODE', 'DISP_AREA', 'EXP2_YEAR', 'STATUS',\n",
    "                'STR2_YEAR', 'Shape_Area', 'Shape_Leng'], axis=1)\n",
    "ne2 = ne2.drop(['system:index', 'ADM0_CODE', 'ADM1_CODE', 'ADM1_NAME', 'ADM2_CODE', 'DISP_AREA', 'EXP2_YEAR', 'STATUS',\n",
    "                'STR2_YEAR', 'Shape_Area', 'Shape_Leng'], axis=1)\n",
    "ne3 = ne3.drop(['system:index', 'ADM0_CODE', 'ADM1_CODE', 'ADM1_NAME', 'ADM2_CODE', 'DISP_AREA', 'EXP2_YEAR', 'STATUS',\n",
    "                'STR2_YEAR', 'Shape_Area', 'Shape_Leng'], axis=1)\n",
    "\n",
    "ne1['flood_date'] = '2016-09-14'\n",
    "ne2['flood_date'] = '2018-08-20'\n",
    "ne3['flood_date'] = '2018-09-01'\n",
    "\n",
    "ne = pd.DataFrame( pd.concat([ne1,ne2,ne3], ignore_index=True) )"
   ],
   "metadata": {
    "collapsed": false,
    "pycharm": {
     "name": "#%%\n"
    }
   }
  },
  {
   "cell_type": "code",
   "execution_count": 5,
   "outputs": [],
   "source": [
    "# Combine all GEE data\n",
    "gee = pd.DataFrame( pd.concat([bf,ml,ne], ignore_index=True) )\n",
    "gee = gee[['ADM0_NAME', 'ADM2_NAME', 'flood_date', 'Diff', '.geo']]\n",
    "gee.rename(columns = {'ADM0_NAME': 'country', 'ADM2_NAME':'admin_name'}, inplace = True)\n",
    "gee['flood_date'] = pd.to_datetime(gee['flood_date'])\n",
    "gee = gee.sort_values(by=['country', 'admin_name'])\n",
    "gee = gee.reset_index()\n",
    "gee = gee.drop(['index'], axis=1)\n"
   ],
   "metadata": {
    "collapsed": false,
    "pycharm": {
     "name": "#%%\n"
    }
   }
  },
  {
   "cell_type": "markdown",
   "source": [
    "## Difference the FC dataset\n",
    "\n",
    "* With the before/after FC data, take the difference between covariate data with\n",
    "the 'State' labels before/after (for each admin, for every event)"
   ],
   "metadata": {
    "collapsed": false,
    "pycharm": {
     "name": "#%% md\n"
    }
   }
  },
  {
   "cell_type": "code",
   "execution_count": 6,
   "outputs": [
    {
     "name": "stdout",
     "output_type": "stream",
     "text": [
      "['country', 'admin_name', 'centx', 'centy', 'state', 'datetime', 'flood_date', 'fews_ipc', 'fews_ha', 'ndvi_mean', 'rain_mean', 'et_mean', 'acled_count', 'acled_fatalities', 'p_staple_food', 'area', 'cropland_pct', 'pop', 'ruggedness_mean', 'pasture_pct', 'spacelag', 'timelag1', 'timelag2']\n"
     ]
    }
   ],
   "source": [
    "# Load FC0 data for differencing\n",
    "FC0 = pd.read_csv('Data/FC_before_after_data.csv')\n",
    "FC0 = FC0.drop(['geometry'], axis=1)\n",
    "# Drop flood_dates that could not be extracted from GEE\n",
    "index_names = FC0[(FC0['country'] == 'Mali') & (FC0['flood_date'] == '2016-09-14 00:00:00')].index\n",
    "FC0.drop(index_names, inplace = True)\n",
    "index_names = FC0[(FC0['country'] == 'Niger') & (FC0['flood_date'] == '2015-08-30 00:00:00')].index\n",
    "FC0.drop(index_names, inplace = True)\n",
    "FC0 = FC0.reset_index()\n",
    "FC0 = FC0.drop(['index'], axis=1)\n",
    "print(list(FC0.columns))"
   ],
   "metadata": {
    "collapsed": false,
    "pycharm": {
     "name": "#%%\n"
    }
   }
  },
  {
   "cell_type": "code",
   "execution_count": 7,
   "outputs": [],
   "source": [
    "col = ['country', 'admin_name', 'centx', 'centy', 'flood_date', 'fews_ipc','fews_ha', 'ndvi_mean', 'rain_mean', 'et_mean',\n",
    "       'acled_count', 'acled_fatalities', 'p_staple_food', 'area', 'cropland_pct', 'pop', 'ruggedness_mean', 'pasture_pct',\n",
    "       'spacelag', 'timelag1', 'timelag2']\n",
    "\n",
    "FC = pd.DataFrame(columns=col)\n",
    "\n",
    "x = int(len(FC0)/2)\n",
    "skip = [n*2 for n in range(0, x)]\n",
    "counter = 0\n",
    "for i in skip:\n",
    "    before = i\n",
    "    after = i+2\n",
    "    counter = i+1\n",
    "    diff = FC0[FC0.columns[7:]][before:after].diff()\n",
    "    FC = FC.append(diff)\n",
    "    FC.loc[counter, ['country']] = FC0.loc[counter, ['country']]\n",
    "    FC.loc[counter, ['admin_name']] = FC0.loc[counter, ['admin_name']]\n",
    "    FC.loc[counter, ['flood_date']] = FC0.loc[counter, ['flood_date']]\n",
    "    FC.loc[counter, ['centx']] = FC0.loc[counter, ['centx']]\n",
    "    FC.loc[counter, ['centy']] = FC0.loc[counter, ['centy']]"
   ],
   "metadata": {
    "collapsed": false,
    "pycharm": {
     "name": "#%%\n"
    }
   }
  },
  {
   "cell_type": "code",
   "execution_count": 8,
   "outputs": [],
   "source": [
    "FC = FC.dropna(how='all')\n",
    "FC = FC.reset_index()\n",
    "FC = FC.drop(['index'], axis=1)"
   ],
   "metadata": {
    "collapsed": false,
    "pycharm": {
     "name": "#%%\n"
    }
   }
  },
  {
   "cell_type": "markdown",
   "source": [
    "## Point-in-polygon test\n",
    "\n",
    "Check the dataframe lengths because the FC shapefiles are likely to be different from GEE Admin 2 shapefiles.\n",
    "Different countries may require different techniques to overcome this issue. For the data at hand, a\n",
    "point-in-polygon test will be used.\n",
    "\n"
   ],
   "metadata": {
    "collapsed": false,
    "pycharm": {
     "name": "#%% md\n"
    }
   }
  },
  {
   "cell_type": "code",
   "execution_count": 9,
   "outputs": [
    {
     "name": "stdout",
     "output_type": "stream",
     "text": [
      "FC data length:  436\n",
      "GEE data length:  349\n",
      "Number of FC admin codes:  162\n",
      "Number of GEE admin codes:  133\n"
     ]
    }
   ],
   "source": [
    "# There are differences in file length - so the admin codes are not matching\n",
    "print('FC data length: ', len(FC))\n",
    "print('GEE data length: ', len(gee))\n",
    "test_FC = FC.drop_duplicates(subset=['country', 'admin_name'])\n",
    "test_gee = gee.drop_duplicates(subset=['country', 'admin_name'])\n",
    "print('Number of FC admin codes: ', len(test_FC))\n",
    "print('Number of GEE admin codes: ', len(test_gee))"
   ],
   "metadata": {
    "collapsed": false,
    "pycharm": {
     "name": "#%%\n"
    }
   }
  },
  {
   "cell_type": "markdown",
   "source": [
    "Create shapefiles from GEE geometry column"
   ],
   "metadata": {
    "collapsed": false,
    "pycharm": {
     "name": "#%% md\n"
    }
   }
  },
  {
   "cell_type": "code",
   "execution_count": 10,
   "outputs": [
    {
     "name": "stderr",
     "output_type": "stream",
     "text": [
      "C:\\Users\\offne\\.conda\\envs\\diss\\lib\\site-packages\\pandas\\core\\indexing.py:1817: SettingWithCopyWarning: \n",
      "A value is trying to be set on a copy of a slice from a DataFrame.\n",
      "Try using .loc[row_indexer,col_indexer] = value instead\n",
      "\n",
      "See the caveats in the documentation: https://pandas.pydata.org/pandas-docs/stable/user_guide/indexing.html#returning-a-view-versus-a-copy\n",
      "  self._setitem_single_column(loc, value, pi)\n",
      "C:\\Users\\offne\\.conda\\envs\\diss\\lib\\site-packages\\pandas\\core\\frame.py:3607: SettingWithCopyWarning: \n",
      "A value is trying to be set on a copy of a slice from a DataFrame.\n",
      "Try using .loc[row_indexer,col_indexer] = value instead\n",
      "\n",
      "See the caveats in the documentation: https://pandas.pydata.org/pandas-docs/stable/user_guide/indexing.html#returning-a-view-versus-a-copy\n",
      "  self._set_item(key, value)\n"
     ]
    }
   ],
   "source": [
    "\n",
    "for i in test_gee.index:\n",
    "    x = test_gee.loc[i, ['.geo']]\n",
    "    x = json.loads(x[0])\n",
    "    try:\n",
    "        test_gee.loc[i, ['.geo']] = convert.geojson_to_wkt(x)\n",
    "    except: # Error handling for geometry collections\n",
    "        y = list(x.values())\n",
    "        y = y[1]\n",
    "        test_gee.loc[i, ['.geo']] = convert.geojson_to_wkt(y[1])\n",
    "        continue\n",
    "\n",
    "test_gee['.geo'] = gpd.GeoSeries.from_wkt(test_gee['.geo'])\n",
    "gee_gdf = gpd.GeoDataFrame(test_gee, geometry='.geo')\n",
    "gee_gdf.rename(columns = {'.geo':'geometry'}, inplace = True)\n",
    "gee_gdf = gee_gdf.reset_index()\n",
    "gee_gdf = gee_gdf.drop(['index'], axis=1)\n",
    "gee_gdf = gee_gdf.set_crs('epsg:3857')"
   ],
   "metadata": {
    "collapsed": false,
    "pycharm": {
     "name": "#%%\n"
    }
   }
  },
  {
   "cell_type": "markdown",
   "source": [
    "Create points from the FC data."
   ],
   "metadata": {
    "collapsed": false,
    "pycharm": {
     "name": "#%% md\n"
    }
   }
  },
  {
   "cell_type": "code",
   "execution_count": 11,
   "outputs": [],
   "source": [
    "# Create points\n",
    "FC_gdf = gpd.GeoDataFrame(FC, geometry=gpd.points_from_xy(FC.centx, FC.centy))\n",
    "FC_gdf = FC_gdf.set_crs('epsg:3857')"
   ],
   "metadata": {
    "collapsed": false,
    "pycharm": {
     "name": "#%%\n"
    }
   }
  },
  {
   "cell_type": "markdown",
   "source": [
    "If the FC admin point is within any of the GEE polygons assign that that point the GEE admin name"
   ],
   "metadata": {
    "collapsed": false,
    "pycharm": {
     "name": "#%% md\n"
    }
   }
  },
  {
   "cell_type": "code",
   "execution_count": 12,
   "outputs": [
    {
     "name": "stderr",
     "output_type": "stream",
     "text": [
      "C:\\Users\\offne\\AppData\\Local\\Temp/ipykernel_10544/3926202503.py:6: SettingWithCopyWarning: \n",
      "A value is trying to be set on a copy of a slice from a DataFrame\n",
      "\n",
      "See the caveats in the documentation: https://pandas.pydata.org/pandas-docs/stable/user_guide/indexing.html#returning-a-view-versus-a-copy\n",
      "  FC['admin_name'][j] = gee_gdf['admin_name'][i]\n"
     ]
    }
   ],
   "source": [
    "for i in gee_gdf.index:\n",
    "    for j in FC_gdf.index:\n",
    "        polygon = gee_gdf['geometry'][i]\n",
    "        point = FC_gdf['geometry'][j]\n",
    "        if polygon.contains(point) == True:\n",
    "            FC['admin_name'][j] = gee_gdf['admin_name'][i]\n",
    "        else:\n",
    "            continue\n"
   ],
   "metadata": {
    "collapsed": false,
    "pycharm": {
     "name": "#%%\n"
    }
   }
  },
  {
   "cell_type": "markdown",
   "source": [
    "Check differences between admin names after point-in-polygon test"
   ],
   "metadata": {
    "collapsed": false,
    "pycharm": {
     "name": "#%% md\n"
    }
   }
  },
  {
   "cell_type": "code",
   "execution_count": 13,
   "outputs": [
    {
     "name": "stdout",
     "output_type": "stream",
     "text": [
      "Number of FC admin codes post processing:  131\n",
      "set()\n",
      "set()\n"
     ]
    }
   ],
   "source": [
    "test_FC = FC.drop_duplicates(subset=['country', 'admin_name'])\n",
    "print('Number of FC admin codes post processing: ',len(test_FC))\n",
    "\n",
    "# Check strings and fix differences\n",
    "gee.drop(gee.index[gee['admin_name'] == 'Commune 2'], inplace=True)\n",
    "gee.drop(gee.index[gee['admin_name'] == 'Commune 3'], inplace=True)\n",
    "l = set(FC['admin_name'].tolist())\n",
    "x = set(gee['admin_name'].tolist())\n",
    "print(set(list(l - x)))\n",
    "print(set(list(x - l)))\n"
   ],
   "metadata": {
    "collapsed": false,
    "pycharm": {
     "name": "#%%\n"
    }
   }
  },
  {
   "cell_type": "markdown",
   "source": [
    "In the FC data, take the mean of values with the same country, admin name and\n",
    "flood date"
   ],
   "metadata": {
    "collapsed": false,
    "pycharm": {
     "name": "#%% md\n"
    }
   }
  },
  {
   "cell_type": "code",
   "execution_count": 14,
   "outputs": [
    {
     "name": "stdout",
     "output_type": "stream",
     "text": [
      "343\n",
      "343\n"
     ]
    }
   ],
   "source": [
    "FC = FC.groupby(['country', 'admin_name', 'flood_date']).mean().reset_index()\n",
    "print(len(FC))\n",
    "print(len(gee))"
   ],
   "metadata": {
    "collapsed": false,
    "pycharm": {
     "name": "#%%\n"
    }
   }
  },
  {
   "cell_type": "markdown",
   "source": [
    "## Combine GEE & FC Data"
   ],
   "metadata": {
    "collapsed": false,
    "pycharm": {
     "name": "#%% md\n"
    }
   }
  },
  {
   "cell_type": "code",
   "execution_count": 15,
   "outputs": [],
   "source": [
    "# Merge data on admin_name\n",
    "df = pd.merge(FC, gee, on='admin_name')\n",
    "\n",
    "# Reorder columns\n",
    "df = df.drop(['country_y','flood_date_y','.geo'], axis=1)\n",
    "df.rename(columns = {'flood_date_x':'flood_date', 'country_x':'country', 'Diff':'flooding_diff'}, inplace = True)\n",
    "df = df[['country', 'admin_name', 'flood_date', 'fews_ipc', 'fews_ha', 'ndvi_mean', 'rain_mean', 'et_mean', 'acled_count',\n",
    "         'acled_fatalities', 'p_staple_food', 'area', 'cropland_pct', 'pop', 'ruggedness_mean', 'pasture_pct',\n",
    "         'flooding_diff', 'spacelag', 'timelag1', 'timelag2']]\n",
    "\n",
    "# Group duplicates on mean\n",
    "df = df.groupby(['country', 'admin_name', 'flood_date']).mean().reset_index()\n"
   ],
   "metadata": {
    "collapsed": false,
    "pycharm": {
     "name": "#%%\n"
    }
   }
  },
  {
   "cell_type": "code",
   "execution_count": 16,
   "outputs": [
    {
     "name": "stdout",
     "output_type": "stream",
     "text": [
      "Running Time:  8.9361186 seconds\n"
     ]
    }
   ],
   "source": [
    "# Download data\n",
    "df.to_csv('Data/FC_flood_differenced_data.csv', index = False)\n",
    "\n",
    "stop = timeit.default_timer()\n",
    "print('Running Time: ', stop - start, 'seconds')"
   ],
   "metadata": {
    "collapsed": false,
    "pycharm": {
     "name": "#%%\n"
    }
   }
  }
 ],
 "metadata": {
  "kernelspec": {
   "display_name": "Python 3",
   "language": "python",
   "name": "python3"
  },
  "language_info": {
   "codemirror_mode": {
    "name": "ipython",
    "version": 2
   },
   "file_extension": ".py",
   "mimetype": "text/x-python",
   "name": "python",
   "nbconvert_exporter": "python",
   "pygments_lexer": "ipython2",
   "version": "2.7.6"
  }
 },
 "nbformat": 4,
 "nbformat_minor": 0
}
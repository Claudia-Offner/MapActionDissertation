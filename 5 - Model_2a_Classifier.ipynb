{
 "cells": [
  {
   "cell_type": "markdown",
   "source": [
    "# Model 2: Classification Algorithm\n",
    "\n",
    "Classifies food crisis data based on world bank data (can be used for predictions)"
   ],
   "metadata": {
    "collapsed": false
   }
  },
  {
   "cell_type": "code",
   "execution_count": 18,
   "outputs": [],
   "source": [
    "# import libraries: standard env, +pysal, + jupyter, + matplotlib\n",
    "#### import libraries ####\n",
    "import os\n",
    "import geopandas as gpd\n",
    "import pandas as pd\n",
    "import numpy as np\n",
    "from sklearn.model_selection import train_test_split\n",
    "from sklearn.impute import SimpleImputer\n",
    "from sklearn.preprocessing import MinMaxScaler\n",
    "from sklearn.ensemble import RandomForestClassifier\n",
    "from sklearn.model_selection import GridSearchCV\n",
    "from sklearn import metrics\n",
    "from sklearn.metrics import confusion_matrix\n",
    "import seaborn as sns\n",
    "import matplotlib.pyplot as plt\n",
    "import timeit\n",
    "os.getcwd()\n",
    "\n",
    "start = timeit.default_timer()"
   ],
   "metadata": {
    "collapsed": false,
    "pycharm": {
     "name": "#%%\n"
    }
   }
  },
  {
   "cell_type": "markdown",
   "source": [
    "## 1. Read Data"
   ],
   "metadata": {
    "collapsed": false
   }
  },
  {
   "cell_type": "code",
   "execution_count": 19,
   "outputs": [],
   "source": [
    "# Read FS data\n",
    "FS = pd.read_csv('Data/FS_data.csv')\n"
   ],
   "metadata": {
    "collapsed": false,
    "pycharm": {
     "name": "#%%\n"
    }
   }
  },
  {
   "cell_type": "markdown",
   "source": [
    "## 2. Model Preprocessing"
   ],
   "metadata": {
    "collapsed": false
   }
  },
  {
   "cell_type": "code",
   "execution_count": 20,
   "outputs": [],
   "source": [
    "# Drop unnecessary columns (i.e. space/time no longer need because lags are accounted for)\n",
    "data = FS.drop(['country', 'admin_code', 'admin_name', 'year_month', 'year', 'month', 'geometry'], axis=1)"
   ],
   "metadata": {
    "collapsed": false,
    "pycharm": {
     "name": "#%%\n"
    }
   }
  },
  {
   "cell_type": "markdown",
   "source": [
    "**Addressing missing values**\n",
    "\n",
    " - If 25% of a columns data is NA, that column is removed\n",
    " - For all other missing values, the column mean is used - BUT need a better option!"
   ],
   "metadata": {
    "collapsed": false
   }
  },
  {
   "cell_type": "code",
   "execution_count": 21,
   "outputs": [
    {
     "name": "stdout",
     "output_type": "stream",
     "text": [
      "spacelag       3120\n",
      "timelag2       1944\n",
      "timelag1        972\n",
      "area              0\n",
      "pasture_pct       0\n",
      "dtype: int64\n"
     ]
    }
   ],
   "source": [
    "# Establish how much data is missing\n",
    "print(data.isnull().sum().sort_values(ascending=False).head())\n",
    "\n",
    "# Find the columns with large amounts of na values\n",
    "variables_na = []\n",
    "for i in data:\n",
    "    if data[i].isnull().sum() > 6900: # change this according to be 25% of df\n",
    "        str(i)\n",
    "        variables_na.append(i)\n",
    "data = data.drop(columns=variables_na) #delete those"
   ],
   "metadata": {
    "collapsed": false,
    "pycharm": {
     "name": "#%%\n"
    }
   }
  },
  {
   "cell_type": "code",
   "execution_count": 22,
   "outputs": [
    {
     "data": {
      "text/plain": "centx          0\narea           0\ntimelag1       0\nspacelag       0\npasture_pct    0\ndtype: int64"
     },
     "execution_count": 22,
     "metadata": {},
     "output_type": "execute_result"
    }
   ],
   "source": [
    "# Impute the missing values using SimpleImputer in sklearn.impute\n",
    "imp = SimpleImputer(missing_values=np.nan, strategy='mean')\n",
    "imp.fit(data)\n",
    "\n",
    "data = pd.DataFrame(data=imp.transform(data), columns=data.columns)\n",
    "\n",
    "# Check if there is still missing data\n",
    "data.isnull().sum().sort_values(ascending=False).head()"
   ],
   "metadata": {
    "collapsed": false,
    "pycharm": {
     "name": "#%%\n"
    }
   }
  },
  {
   "cell_type": "markdown",
   "source": [
    "**Normalize the data set**\n",
    "- Scales each column to values between 0-1 to be better interpreted by the models\n",
    "- CHECK: how normalisation impacts model accuracy"
   ],
   "metadata": {
    "collapsed": false
   }
  },
  {
   "cell_type": "code",
   "execution_count": 23,
   "outputs": [],
   "source": [
    "fews_ipc = data['fews_ipc']\n",
    "data = data.drop(['fews_ipc'], axis=1)\n",
    "scaler = MinMaxScaler()\n",
    "data = gpd.GeoDataFrame(scaler.fit_transform(data), columns=data.columns, index=FS.index)\n",
    "data.head()\n",
    "data.describe()\n",
    "data['class'] = fews_ipc"
   ],
   "metadata": {
    "collapsed": false,
    "pycharm": {
     "name": "#%%\n"
    }
   }
  },
  {
   "cell_type": "markdown",
   "source": [
    "**Add Binary Classification**\n",
    "- Using column quartiles as a suitable threshold base\n",
    "- CHECK: how classification complexity impacts models\n",
    "- NOTE: Using +3 classes would be more informative in our model explorations"
   ],
   "metadata": {
    "collapsed": false
   }
  },
  {
   "cell_type": "code",
   "execution_count": 24,
   "outputs": [],
   "source": [
    "# Binary classification based on quartiles\n",
    "# data['class'] = [0 if x == 1 else 1 for x in data['class']]\n",
    "# data['class'] = data['class'].astype(float) # Reformat column\n"
   ],
   "metadata": {
    "collapsed": false,
    "pycharm": {
     "name": "#%%\n"
    }
   }
  },
  {
   "cell_type": "markdown",
   "source": [
    "## 3. Random Forest Classification"
   ],
   "metadata": {
    "collapsed": false
   }
  },
  {
   "cell_type": "code",
   "execution_count": 25,
   "outputs": [],
   "source": [
    "# Load functions\n",
    "\n",
    "# For plotting confusion matrix\n",
    "def plot_confusion_matrix(train_pred, train, dom):\n",
    "    classes = {'Food Security': 0, 'Food Insecurity': 1}\n",
    "    cf = confusion_matrix(train_pred,train)\n",
    "    sns.heatmap(cf,annot=True,yticklabels=classes,xticklabels=classes,cmap='Blues', fmt='g')\n",
    "    plt.title(f'{dom} Confusion matrix')\n",
    "    plt.tight_layout()\n",
    "    plt.figure(figsize=(1, 2), dpi=80)\n",
    "    plt.show()\n"
   ],
   "metadata": {
    "collapsed": false,
    "pycharm": {
     "name": "#%%\n"
    }
   }
  },
  {
   "cell_type": "markdown",
   "source": [
    "**Randomly split data in training and testing sets**"
   ],
   "metadata": {
    "collapsed": false
   }
  },
  {
   "cell_type": "code",
   "execution_count": 26,
   "outputs": [],
   "source": [
    "# A. SPLIT TRAIN/TEST SETS\n",
    "# Random 70% split in train and test sets (time series is accounted for by lags)\n",
    "# split data into x & y\n",
    "y = data['class']\n",
    "x = data.drop(columns=['class'])\n",
    "x_train, x_test, y_train, y_test = train_test_split(x, y, test_size=0.30, random_state=42)"
   ],
   "metadata": {
    "collapsed": false,
    "pycharm": {
     "name": "#%%\n"
    }
   }
  },
  {
   "cell_type": "markdown",
   "source": [
    "**Tune hyper-parameters**\n",
    "* n_estimators = Number of trees in random forest\n",
    "* max_features = Number of features to consider at every split\n",
    "* max_depth = Maximum number of levels in tree\n",
    "* min_samples_leaf = Minimum number of samples required at each leaf node\n",
    "* min_samples_split = Minimum number of samples required to split a node\n",
    "* bootstrap = Method of selecting samples for training each tree\n",
    "\n",
    "Found: {'bootstrap': False,\n",
    " 'max_depth': 72,\n",
    " 'max_features': 'auto',\n",
    " 'min_samples_leaf': 2,\n",
    " 'min_samples_split': 2,\n",
    " 'n_estimators': 72}"
   ],
   "metadata": {
    "collapsed": false
   }
  },
  {
   "cell_type": "code",
   "execution_count": 27,
   "outputs": [],
   "source": [
    "# param_grid = {'n_estimators': [int(x) for x in np.linspace(start = 10, stop = 80, num = 10)],\n",
    "#                'max_features': ['auto', 'sqrt'],\n",
    "#                'max_depth': [int(x) for x in np.linspace(start = 10, stop = 80, num = 10)],\n",
    "#                'min_samples_split': [2, 5, 10],\n",
    "#                'min_samples_leaf': [2, 5, 10],\n",
    "#                'bootstrap': [True, False]}\n",
    "#\n",
    "# # Create a based model\n",
    "# rf = RandomForestClassifier()\n",
    "#\n",
    "# # Instantiate the grid search model\n",
    "# rf_Grid = GridSearchCV(estimator = rf, param_grid = param_grid, cv = 3, verbose=2, n_jobs = 4)\n",
    "# rf_Grid.fit(x_train,y_train)\n",
    "#\n",
    "# # Get best parameters\n",
    "# rf_Grid.best_params_\n"
   ],
   "metadata": {
    "collapsed": false,
    "pycharm": {
     "name": "#%%\n"
    }
   }
  },
  {
   "cell_type": "markdown",
   "source": [
    "**Fit Optimised Model**"
   ],
   "metadata": {
    "collapsed": false
   }
  },
  {
   "cell_type": "code",
   "execution_count": 28,
   "outputs": [
    {
     "data": {
      "text/plain": "RandomForestClassifier(bootstrap=False, max_depth=72, max_features='sqrt',\n                       min_samples_leaf=2, n_estimators=72)"
     },
     "execution_count": 28,
     "metadata": {},
     "output_type": "execute_result"
    }
   ],
   "source": [
    "# C. RESULTS\n",
    "# Fit optimised model\n",
    "clf=RandomForestClassifier(n_estimators=72, min_samples_leaf=2, min_samples_split=2,\n",
    "                           max_features='sqrt', max_depth=72, bootstrap=False)\n",
    "clf.fit(x_train,y_train)"
   ],
   "metadata": {
    "collapsed": false,
    "pycharm": {
     "name": "#%%\n"
    }
   }
  },
  {
   "cell_type": "markdown",
   "source": [
    "**Evaluate Model**"
   ],
   "metadata": {
    "collapsed": false
   }
  },
  {
   "cell_type": "code",
   "execution_count": 29,
   "outputs": [
    {
     "name": "stdout",
     "output_type": "stream",
     "text": [
      "Ensemble Train Model Accuracy(in %): 99.98530276308054\n",
      "Ensemble Test Model Accuracy(in %): 92.72976680384087\n"
     ]
    },
    {
     "data": {
      "text/plain": "<Figure size 432x288 with 2 Axes>",
      "image/png": "[encoded data removed]"
     },
     "metadata": {
      "needs_background": "light"
     },
     "output_type": "display_data"
    },
    {
     "data": {
      "text/plain": "<Figure size 80x160 with 0 Axes>"
     },
     "metadata": {},
     "output_type": "display_data"
    },
    {
     "data": {
      "text/plain": "<Figure size 432x288 with 2 Axes>",
      "image/png": "[encoded data removed]"
     },
     "metadata": {
      "needs_background": "light"
     },
     "output_type": "display_data"
    },
    {
     "data": {
      "text/plain": "<Figure size 80x160 with 0 Axes>"
     },
     "metadata": {},
     "output_type": "display_data"
    }
   ],
   "source": [
    "# Evaluate performance\n",
    "y_train_pred = clf.predict(x_train)\n",
    "y_test_pred = clf.predict(x_test)\n",
    "print(f'Ensemble Train Model Accuracy(in %): {metrics.accuracy_score(y_train_pred,y_train)*100}')\n",
    "print(f'Ensemble Test Model Accuracy(in %): {metrics.accuracy_score(y_test_pred,y_test)*100}')\n",
    "plot_confusion_matrix(y_train_pred,y_train,dom='Train')\n",
    "plot_confusion_matrix(y_test_pred,y_test,dom='Test')\n"
   ],
   "metadata": {
    "collapsed": false,
    "pycharm": {
     "name": "#%%\n"
    }
   }
  },
  {
   "cell_type": "code",
   "execution_count": 30,
   "outputs": [
    {
     "data": {
      "text/plain": "<Figure size 432x288 with 1 Axes>",
      "image/png": "[encoded data removed]"
     },
     "metadata": {
      "needs_background": "light"
     },
     "output_type": "display_data"
    }
   ],
   "source": [
    "# Evaluate variable importance\n",
    "\n",
    "# for name, importance in zip(x_test.columns, clf.feature_importances_):\n",
    "#     print(name, \"=\", importance)\n",
    "\n",
    "features = x_test.columns\n",
    "importances = clf.feature_importances_\n",
    "indices = np.argsort(importances)\n",
    "\n",
    "plt.title('Feature Importances')\n",
    "plt.barh(range(len(indices)), importances[indices], align='center') # color\n",
    "plt.yticks(range(len(indices)), [features[i] for i in indices])\n",
    "plt.xlabel('Relative Importance')\n",
    "plt.show()\n"
   ],
   "metadata": {
    "collapsed": false,
    "pycharm": {
     "name": "#%%\n"
    }
   }
  },
  {
   "cell_type": "code",
   "execution_count": 31,
   "outputs": [
    {
     "name": "stdout",
     "output_type": "stream",
     "text": [
      "Running Time:  15.20741709999993 seconds\n"
     ]
    }
   ],
   "source": [
    "# Make individual prediction\n",
    "\n",
    "\n",
    "stop = timeit.default_timer()\n",
    "print('Running Time: ', stop - start, 'seconds')\n"
   ],
   "metadata": {
    "collapsed": false,
    "pycharm": {
     "name": "#%%\n"
    }
   }
  }
 ],
 "metadata": {
  "kernelspec": {
   "display_name": "Python 3",
   "language": "python",
   "name": "python3"
  },
  "language_info": {
   "codemirror_mode": {
    "name": "ipython",
    "version": 2
   },
   "file_extension": ".py",
   "mimetype": "text/x-python",
   "name": "python",
   "nbconvert_exporter": "python",
   "pygments_lexer": "ipython2",
   "version": "2.7.6"
  }
 },
 "nbformat": 4,
 "nbformat_minor": 0
}
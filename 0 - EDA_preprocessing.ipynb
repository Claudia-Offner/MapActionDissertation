{
 "cells": [
  {
   "cell_type": "markdown",
   "metadata": {
    "collapsed": true,
    "pycharm": {
     "name": "#%% md\n"
    }
   },
   "source": [
    "# Data pre-processing\n"
   ]
  },
  {
   "cell_type": "markdown",
   "source": [
    "## 1. Read Data\n",
    "\n",
    "* Food crisis data set from world bank\n",
    "* Shapefile for countries of interest (provided they are in the FEWs network)\n"
   ],
   "metadata": {
    "collapsed": false
   }
  },
  {
   "cell_type": "code",
   "execution_count": 1,
   "outputs": [
    {
     "ename": "NameError",
     "evalue": "name 'pd' is not defined",
     "output_type": "error",
     "traceback": [
      "\u001B[1;31m---------------------------------------------------------------------------\u001B[0m",
      "\u001B[1;31mNameError\u001B[0m                                 Traceback (most recent call last)",
      "\u001B[1;32m~\\AppData\\Local\\Temp/ipykernel_16832/3019232257.py\u001B[0m in \u001B[0;36m<module>\u001B[1;34m\u001B[0m\n\u001B[0;32m      1\u001B[0m \u001B[1;31m# READ FOOD CRISIS DATA\u001B[0m\u001B[1;33m\u001B[0m\u001B[1;33m\u001B[0m\u001B[1;33m\u001B[0m\u001B[0m\n\u001B[1;32m----> 2\u001B[1;33m \u001B[0mFS\u001B[0m \u001B[1;33m=\u001B[0m \u001B[0mpd\u001B[0m\u001B[1;33m.\u001B[0m\u001B[0mread_csv\u001B[0m\u001B[1;33m(\u001B[0m\u001B[1;34m'Data\\predicting_food_crises_data.csv'\u001B[0m\u001B[1;33m)\u001B[0m\u001B[1;33m\u001B[0m\u001B[1;33m\u001B[0m\u001B[0m\n\u001B[0m\u001B[0;32m      3\u001B[0m \u001B[1;33m\u001B[0m\u001B[0m\n\u001B[0;32m      4\u001B[0m \u001B[1;31m# Select country(s) of interest\u001B[0m\u001B[1;33m\u001B[0m\u001B[1;33m\u001B[0m\u001B[1;33m\u001B[0m\u001B[0m\n\u001B[0;32m      5\u001B[0m \u001B[0mcountry_removal\u001B[0m \u001B[1;33m=\u001B[0m \u001B[0mset\u001B[0m\u001B[1;33m(\u001B[0m\u001B[0mFS\u001B[0m\u001B[1;33m[\u001B[0m\u001B[1;34m'country'\u001B[0m\u001B[1;33m]\u001B[0m\u001B[1;33m.\u001B[0m\u001B[0mtolist\u001B[0m\u001B[1;33m(\u001B[0m\u001B[1;33m)\u001B[0m\u001B[1;33m)\u001B[0m\u001B[1;33m\u001B[0m\u001B[1;33m\u001B[0m\u001B[0m\n",
      "\u001B[1;31mNameError\u001B[0m: name 'pd' is not defined"
     ]
    }
   ],
   "source": [
    "# READ FOOD CRISIS DATA\n",
    "FS = pd.read_csv('Data\\predicting_food_crises_data.csv')\n",
    "\n",
    "# Select country(s) of interest\n",
    "country_removal = set(FS['country'].tolist())\n",
    "country_removal = [e for e in country_removal if e not in ('Burkina Faso', 'Mali', 'Niger')]\n",
    "for i in country_removal:\n",
    "    FS.drop(FS.loc[FS['country'] == i].index, inplace=True)\n",
    "# Reset index\n",
    "FS = FS.reset_index()\n",
    "FS = FS.drop(['index'], axis=1)"
   ],
   "metadata": {
    "collapsed": false,
    "pycharm": {
     "name": "#%%\n"
    }
   }
  },
  {
   "cell_type": "code",
   "execution_count": null,
   "outputs": [],
   "source": [
    "# READ SHAPEFILES - Downloaded from GEE\n",
    "bf = gpd.read_file('Data/Shape/Burkina_Faso/BF_Admin2_2020.shp')\n",
    "l = gpd.read_file('Data/Shape/Mali/ML_Admin2_2001.shp')\n",
    "ne = gpd.read_file('Data/Shape/Niger/NE_Admin2_2018.shp')\n",
    "shape = gpd.GeoDataFrame( pd.concat( [bf,ml,ne], ignore_index=True) )\n",
    "shape = shape.drop(['FNID', 'EFF_YEAR', 'ADMIN1', 'ADMIN2FR', 'ADMIN1FR', 'ALIASES', 'ADMIN1PT', 'ADMIN2SP', 'ADMIN2PT',\n",
    "                    'ADMIN1SP'], axis=1)\n",
    "shape.rename(columns = {'ADMIN2':'admin_name'}, inplace = True)\n",
    "shape['admin_name'] = shape['admin_name'].astype(str)\n",
    "shape.plot()"
   ],
   "metadata": {
    "collapsed": false,
    "pycharm": {
     "name": "#%%\n"
    }
   }
  },
  {
   "cell_type": "code",
   "execution_count": null,
   "outputs": [],
   "source": [
    "\n",
    "\n",
    "shape['ADMIN0'].value_counts()\n"
   ],
   "metadata": {
    "collapsed": false,
    "pycharm": {
     "name": "#%%\n"
    }
   }
  },
  {
   "cell_type": "markdown",
   "source": [
    "## 2. Clean datasets\n",
    "\n",
    "* Remove predictor variables and irrelevant covariates\n",
    "* Restrict dataset to be between years 20010-2019\n",
    "* Extend NAs were applicable to respect time series\n",
    "* Check admin names for both shape gdf and food crises df (admin names need to be the same in order to merge correctly)\n",
    "* Merge datasets"
   ],
   "metadata": {
    "collapsed": false
   }
  },
  {
   "cell_type": "code",
   "execution_count": null,
   "outputs": [],
   "source": [
    "# Remove all predictors except fews_ipc\n",
    "FS = FS.drop(['centx', 'centy', 'fews_ha', 'fews_proj_near', 'fews_proj_near_ha', 'fews_proj_med', 'fews_proj_med_ha'], axis=1)\n",
    "# Remove anom variables to optimize independence\n",
    "FS = FS.drop(['ndvi_anom', 'rain_anom', 'et_anom'], axis=1)\n",
    "\n",
    "# Remove unnecessary years\n",
    "FS.drop(FS.index[FS['year'] == 2007], inplace=True)\n",
    "FS.drop(FS.index[FS['year'] == 2008], inplace=True)\n",
    "FS.drop(FS.index[FS['year'] == 2009], inplace=True)\n",
    "FS.drop(FS.index[FS['year'] == 2020], inplace=True)\n",
    "\n",
    "# Extend NA's where applicable\n",
    "FS.isnull().sum()\n",
    "FS['fews_ipc'] = FS['fews_ipc'].fillna(method='ffill')\n",
    "FS['et_mean'] = FS['et_mean'].fillna(method='ffill')"
   ],
   "metadata": {
    "collapsed": false,
    "pycharm": {
     "name": "#%%\n"
    }
   }
  },
  {
   "cell_type": "code",
   "execution_count": null,
   "outputs": [],
   "source": [
    "# Check strings and fix differences\n",
    "\n",
    "# l = set(FS['admin_name'].tolist())\n",
    "# x = set(shape['admin_name'].tolist())\n",
    "# print(set(list(l - x))) #FS data set\n",
    "# print(set(list(x - l))) #shape dataset"
   ],
   "metadata": {
    "collapsed": false,
    "pycharm": {
     "name": "#%%\n"
    }
   }
  },
  {
   "cell_type": "code",
   "execution_count": null,
   "outputs": [],
   "source": [
    "shape['admin_name'] = shape['admin_name'].str.replace('-',' ')\n",
    "FS['admin_name'] = FS['admin_name'].str.replace('-',' ')\n",
    "shape['admin_name'] = shape['admin_name'].str.replace('é','e')\n",
    "FS['admin_name'] = FS['admin_name'].str.replace('é','e')\n",
    "shape['admin_name'] = shape['admin_name'].str.replace(' el',' El')\n",
    "FS['admin_name'] = FS['admin_name'].str.replace('ô','o')\n",
    "FS['admin_name'] = FS['admin_name'].str.replace('Djourouf Al Ahmar','Djourf Al Ahmar')\n",
    "FS['admin_name'] = FS['admin_name'].str.replace('Kabia','Kabbia')\n",
    "FS['admin_name'] = FS['admin_name'].str.replace('Komonjdjari','Komandjari')\n",
    "shape['admin_name'] = shape['admin_name'].str.replace('Mayo Lemie','Mayo Lemi')\n",
    "shape['admin_name'] = shape['admin_name'].str.replace(\"N'Djamena\",'Ndjamena')\n",
    "shape['admin_name'] = shape['admin_name'].str.replace('Wadi Hawar','Wardi Hawar')\n",
    "shape['admin_name'] = shape['admin_name'].str.replace('Kobe','Iriba')\n",
    "shape.drop(shape.index[shape['admin_name'] == 'Kaya'], inplace=True)\n",
    "shape.drop(shape.index[shape['admin_name'] == 'Fouli'], inplace=True)\n"
   ],
   "metadata": {
    "collapsed": false,
    "pycharm": {
     "name": "#%%\n"
    }
   }
  },
  {
   "cell_type": "code",
   "execution_count": null,
   "outputs": [],
   "source": [
    "# Merge data on admin_name\n",
    "df = pd.merge(shape, FS, on='admin_name')\n",
    "# Reorder columns\n",
    "df = df.drop(['COUNTRY', 'ADMIN0'], axis=1)\n",
    "df = df[['country', 'admin_code', 'admin_name', 'year_month', 'year', 'month', 'fews_ipc', 'ndvi_mean', 'rain_mean', 'et_mean', 'acled_count', 'acled_fatalities', 'p_staple_food', 'area', 'cropland_pct', 'pop', 'ruggedness_mean', 'pasture_pct', 'geometry']]\n",
    "df = df.sort_values(by=['country', 'admin_name'])\n",
    "print(list(df.columns))\n"
   ],
   "metadata": {
    "collapsed": false,
    "pycharm": {
     "name": "#%%\n"
    }
   }
  }
 ],
 "metadata": {
  "kernelspec": {
   "display_name": "Python 3",
   "language": "python",
   "name": "python3"
  },
  "language_info": {
   "codemirror_mode": {
    "name": "ipython",
    "version": 2
   },
   "file_extension": ".py",
   "mimetype": "text/x-python",
   "name": "python",
   "nbconvert_exporter": "python",
   "pygments_lexer": "ipython2",
   "version": "2.7.6"
  }
 },
 "nbformat": 4,
 "nbformat_minor": 0
}
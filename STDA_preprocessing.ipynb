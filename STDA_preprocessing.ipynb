{
 "cells": [
  {
   "cell_type": "markdown",
   "metadata": {
    "collapsed": true,
    "pycharm": {
     "name": "#%% md\n"
    }
   },
   "source": [
    "# Data pre-processing\n",
    "\n",
    "**Tasks**\n",
    "* Read and clean data based on relevant shape files & original food crises dataset\n"
   ]
  },
  {
   "cell_type": "markdown",
   "source": [
    "## 1. Read Data\n",
    "**Sources**\n",
    "* Food crisis data: https://microdata.worldbank.org/index.php/catalog/3811\n",
    "* Shapefile data: Source: https://fews.net/fews-data/334\n"
   ],
   "metadata": {
    "collapsed": false
   }
  },
  {
   "cell_type": "code",
   "execution_count": 1,
   "outputs": [],
   "source": [
    "import pandas as pd\n",
    "import geopandas as gpd"
   ],
   "metadata": {
    "collapsed": false,
    "pycharm": {
     "name": "#%%\n"
    }
   }
  },
  {
   "cell_type": "code",
   "execution_count": 2,
   "outputs": [],
   "source": [
    "# READ FOOD CRISIS DATA - Downloaded from world bank\n",
    "FC = pd.read_csv('Data\\predicting_food_crises_data.csv')\n",
    "\n",
    "# Select country(s) of interest\n",
    "country_removal = set(FC['country'].tolist())\n",
    "country_removal = [e for e in country_removal if e not in ('Burkina Faso', 'Mali', 'Niger')]\n",
    "for i in country_removal:\n",
    "    FC.drop(FC.loc[FC['country'] == i].index, inplace=True)\n",
    "# Reset index\n",
    "FC = FC.reset_index()\n",
    "FC = FC.drop(['index'], axis=1)"
   ],
   "metadata": {
    "collapsed": false,
    "pycharm": {
     "name": "#%%\n"
    }
   }
  },
  {
   "cell_type": "code",
   "execution_count": 3,
   "outputs": [],
   "source": [
    "# READ SHAPEFILES - Downloaded from FEWS_IPC website\n",
    "bf = gpd.read_file('Data/Shape/Burkina_Faso/BF_Admin2_2020.shp')\n",
    "ml = gpd.read_file('Data/Shape/Mali/ML_Admin2_2001.shp')\n",
    "ne = gpd.read_file('Data/Shape/Niger/NE_Admin2_2018.shp')\n",
    "\n",
    "# Check crs projection\n",
    "# bf.crs\n",
    "# ml.crs\n",
    "# ne.crs\n",
    "\n",
    "# Create GeoDataFrame\n",
    "shape = gpd.GeoDataFrame( pd.concat( [bf,ml,ne], ignore_index=True) )\n",
    "shape = shape.drop(['FNID', 'EFF_YEAR', 'ADMIN1', 'ADMIN2FR', 'ADMIN1FR', 'ALIASES', 'ADMIN1PT', 'ADMIN2SP', 'ADMIN2PT',\n",
    "                    'ADMIN1SP'], axis=1)\n",
    "shape.rename(columns = {'ADMIN2':'admin_name'}, inplace = True)\n",
    "shape['admin_name'] = shape['admin_name'].astype(str)\n",
    "# Check number of admin codes in shapefile\n",
    "# shape['ADMIN0'].value_counts()\n",
    "# shape.plot()\n"
   ],
   "metadata": {
    "collapsed": false,
    "pycharm": {
     "name": "#%%\n"
    }
   }
  },
  {
   "cell_type": "markdown",
   "source": [
    "## 2. Clean datasets\n",
    "\n",
    "* Remove predictor variables and irrelevant covariates\n",
    "* Restrict dataset to be between years 20010-2019\n",
    "* Extend NAs were applicable to respect time series\n",
    "* Check admin names for both shape gdf and food crises df (admin names need to be the same in order to merge correctly)\n",
    "* Merge datasets"
   ],
   "metadata": {
    "collapsed": false
   }
  },
  {
   "cell_type": "code",
   "execution_count": 4,
   "outputs": [],
   "source": [
    "# Remove all predictors except fews_ipc\n",
    "FC = FC.drop(['fews_proj_near', 'fews_proj_near_ha', 'fews_proj_med', 'fews_proj_med_ha'], axis=1)\n",
    "# Remove anom variables to optimize independence\n",
    "FC = FC.drop(['ndvi_anom', 'rain_anom', 'et_anom'], axis=1)\n",
    "\n",
    "# Remove unnecessary years\n",
    "time = [2007, 2008, 2009, 2020]\n",
    "for i in time:\n",
    "    FC.drop(FC.index[FC['year'] == i], inplace=True)\n",
    "\n",
    "# Extend NA's where applicable\n",
    "FC.isnull().sum()\n",
    "FC['fews_ipc'] = FC['fews_ipc'].fillna(method='ffill')\n",
    "FC['et_mean'] = FC['et_mean'].fillna(method='ffill')"
   ],
   "metadata": {
    "collapsed": false,
    "pycharm": {
     "name": "#%%\n"
    }
   }
  },
  {
   "cell_type": "code",
   "execution_count": 5,
   "outputs": [],
   "source": [
    "# Check strings and fix differences\n",
    "shape['admin_name'] = shape['admin_name'].str.replace('-',' ')\n",
    "FC['admin_name'] = FC['admin_name'].str.replace('-',' ')\n",
    "shape['admin_name'] = shape['admin_name'].str.replace('é','e')\n",
    "FC['admin_name'] = FC['admin_name'].str.replace('é','e')\n",
    "shape['admin_name'] = shape['admin_name'].str.replace(' el',' El')\n",
    "FC['admin_name'] = FC['admin_name'].str.replace('ô','o')\n",
    "FC['admin_name'] = FC['admin_name'].str.replace('Komonjdjari','Komandjari')\n",
    "\n",
    "# l = set(FC['admin_name'].tolist())\n",
    "# x = set(shape['admin_name'].tolist())\n",
    "# print('Names in FC df but not in shape gdf', set(list(l - x))) #FC data set\n",
    "# print('Names in shape gdf but not in FC df', set(list(x - l))) #shape dataset"
   ],
   "metadata": {
    "collapsed": false,
    "pycharm": {
     "name": "#%%\n"
    }
   }
  },
  {
   "cell_type": "markdown",
   "source": [
    "**Merge data into single dataframe**"
   ],
   "metadata": {
    "collapsed": false,
    "pycharm": {
     "name": "#%% md\n"
    }
   }
  },
  {
   "cell_type": "code",
   "execution_count": 6,
   "outputs": [],
   "source": [
    "# Merge data on admin_name\n",
    "df = pd.merge(shape, FC, on='admin_name')\n",
    "# Reorder columns\n",
    "df = df.drop(['COUNTRY', 'ADMIN0'], axis=1)\n",
    "df = df[['country', 'admin_code', 'admin_name', 'centx', 'centy', 'year_month', 'year', 'month', 'fews_ipc','fews_ha',\n",
    "         'ndvi_mean', 'rain_mean', 'et_mean', 'acled_count', 'acled_fatalities', 'p_staple_food', 'area', 'cropland_pct',\n",
    "         'pop', 'ruggedness_mean', 'pasture_pct', 'geometry']]\n",
    "df = df.sort_values(by=['country', 'admin_name'])"
   ],
   "metadata": {
    "collapsed": false,
    "pycharm": {
     "name": "#%%\n"
    }
   }
  },
  {
   "cell_type": "markdown",
   "source": [
    "**Data manipulations for STDA**\n",
    "* Transpose predictor variable (FEWs IPC classification) into matrix to make data manipulation easier"
   ],
   "metadata": {
    "collapsed": false
   }
  },
  {
   "cell_type": "code",
   "execution_count": 7,
   "outputs": [],
   "source": [
    "#### ** Data manipulations ** ####\n",
    "y = df.groupby(['country', 'admin_name', 'year'])['fews_ipc'].mean().reset_index()\n",
    "m = df.groupby(['country', 'admin_name', 'month'])['fews_ipc'].mean().reset_index()\n",
    "ym = df.groupby(['country', 'admin_name', 'year_month'])['fews_ipc'].mean().reset_index()\n",
    "# transpose matrix & row means\n",
    "year_m = y.pivot(index='admin_name', columns='year', values='fews_ipc')\n",
    "month_m = m.pivot(index='admin_name', columns='month', values='fews_ipc')\n",
    "yearmonth_m = ym.pivot(index='admin_name', columns='year_month', values='fews_ipc')"
   ],
   "metadata": {
    "collapsed": false,
    "pycharm": {
     "name": "#%%\n"
    }
   }
  }
 ],
 "metadata": {
  "kernelspec": {
   "display_name": "Python 3",
   "language": "python",
   "name": "python3"
  },
  "language_info": {
   "codemirror_mode": {
    "name": "ipython",
    "version": 2
   },
   "file_extension": ".py",
   "mimetype": "text/x-python",
   "name": "python",
   "nbconvert_exporter": "python",
   "pygments_lexer": "ipython2",
   "version": "2.7.6"
  }
 },
 "nbformat": 4,
 "nbformat_minor": 0
}